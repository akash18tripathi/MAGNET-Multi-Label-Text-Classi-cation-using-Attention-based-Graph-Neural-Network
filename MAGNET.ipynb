{
 "cells": [
  {
   "cell_type": "markdown",
   "metadata": {
    "id": "yh4B6G1X0onL"
   },
   "source": [
    "## Installations"
   ]
  },
  {
   "cell_type": "code",
   "execution_count": null,
   "metadata": {
    "colab": {
     "base_uri": "https://localhost:8080/",
     "height": 1000
    },
    "id": "IvGcgjcrHBiH",
    "outputId": "8ef9d252-59b6-417b-f099-d7adb19edd1c"
   },
   "outputs": [
    {
     "data": {
      "text/html": [
       "\n",
       "     <input type=\"file\" id=\"files-d13722cc-e6b9-482d-a8cc-bf8b1b3275fb\" name=\"files[]\" multiple disabled\n",
       "        style=\"border:none\" />\n",
       "     <output id=\"result-d13722cc-e6b9-482d-a8cc-bf8b1b3275fb\">\n",
       "      Upload widget is only available when the cell has been executed in the\n",
       "      current browser session. Please rerun this cell to enable.\n",
       "      </output>\n",
       "      <script>// Copyright 2017 Google LLC\n",
       "//\n",
       "// Licensed under the Apache License, Version 2.0 (the \"License\");\n",
       "// you may not use this file except in compliance with the License.\n",
       "// You may obtain a copy of the License at\n",
       "//\n",
       "//      http://www.apache.org/licenses/LICENSE-2.0\n",
       "//\n",
       "// Unless required by applicable law or agreed to in writing, software\n",
       "// distributed under the License is distributed on an \"AS IS\" BASIS,\n",
       "// WITHOUT WARRANTIES OR CONDITIONS OF ANY KIND, either express or implied.\n",
       "// See the License for the specific language governing permissions and\n",
       "// limitations under the License.\n",
       "\n",
       "/**\n",
       " * @fileoverview Helpers for google.colab Python module.\n",
       " */\n",
       "(function(scope) {\n",
       "function span(text, styleAttributes = {}) {\n",
       "  const element = document.createElement('span');\n",
       "  element.textContent = text;\n",
       "  for (const key of Object.keys(styleAttributes)) {\n",
       "    element.style[key] = styleAttributes[key];\n",
       "  }\n",
       "  return element;\n",
       "}\n",
       "\n",
       "// Max number of bytes which will be uploaded at a time.\n",
       "const MAX_PAYLOAD_SIZE = 100 * 1024;\n",
       "\n",
       "function _uploadFiles(inputId, outputId) {\n",
       "  const steps = uploadFilesStep(inputId, outputId);\n",
       "  const outputElement = document.getElementById(outputId);\n",
       "  // Cache steps on the outputElement to make it available for the next call\n",
       "  // to uploadFilesContinue from Python.\n",
       "  outputElement.steps = steps;\n",
       "\n",
       "  return _uploadFilesContinue(outputId);\n",
       "}\n",
       "\n",
       "// This is roughly an async generator (not supported in the browser yet),\n",
       "// where there are multiple asynchronous steps and the Python side is going\n",
       "// to poll for completion of each step.\n",
       "// This uses a Promise to block the python side on completion of each step,\n",
       "// then passes the result of the previous step as the input to the next step.\n",
       "function _uploadFilesContinue(outputId) {\n",
       "  const outputElement = document.getElementById(outputId);\n",
       "  const steps = outputElement.steps;\n",
       "\n",
       "  const next = steps.next(outputElement.lastPromiseValue);\n",
       "  return Promise.resolve(next.value.promise).then((value) => {\n",
       "    // Cache the last promise value to make it available to the next\n",
       "    // step of the generator.\n",
       "    outputElement.lastPromiseValue = value;\n",
       "    return next.value.response;\n",
       "  });\n",
       "}\n",
       "\n",
       "/**\n",
       " * Generator function which is called between each async step of the upload\n",
       " * process.\n",
       " * @param {string} inputId Element ID of the input file picker element.\n",
       " * @param {string} outputId Element ID of the output display.\n",
       " * @return {!Iterable<!Object>} Iterable of next steps.\n",
       " */\n",
       "function* uploadFilesStep(inputId, outputId) {\n",
       "  const inputElement = document.getElementById(inputId);\n",
       "  inputElement.disabled = false;\n",
       "\n",
       "  const outputElement = document.getElementById(outputId);\n",
       "  outputElement.innerHTML = '';\n",
       "\n",
       "  const pickedPromise = new Promise((resolve) => {\n",
       "    inputElement.addEventListener('change', (e) => {\n",
       "      resolve(e.target.files);\n",
       "    });\n",
       "  });\n",
       "\n",
       "  const cancel = document.createElement('button');\n",
       "  inputElement.parentElement.appendChild(cancel);\n",
       "  cancel.textContent = 'Cancel upload';\n",
       "  const cancelPromise = new Promise((resolve) => {\n",
       "    cancel.onclick = () => {\n",
       "      resolve(null);\n",
       "    };\n",
       "  });\n",
       "\n",
       "  // Wait for the user to pick the files.\n",
       "  const files = yield {\n",
       "    promise: Promise.race([pickedPromise, cancelPromise]),\n",
       "    response: {\n",
       "      action: 'starting',\n",
       "    }\n",
       "  };\n",
       "\n",
       "  cancel.remove();\n",
       "\n",
       "  // Disable the input element since further picks are not allowed.\n",
       "  inputElement.disabled = true;\n",
       "\n",
       "  if (!files) {\n",
       "    return {\n",
       "      response: {\n",
       "        action: 'complete',\n",
       "      }\n",
       "    };\n",
       "  }\n",
       "\n",
       "  for (const file of files) {\n",
       "    const li = document.createElement('li');\n",
       "    li.append(span(file.name, {fontWeight: 'bold'}));\n",
       "    li.append(span(\n",
       "        `(${file.type || 'n/a'}) - ${file.size} bytes, ` +\n",
       "        `last modified: ${\n",
       "            file.lastModifiedDate ? file.lastModifiedDate.toLocaleDateString() :\n",
       "                                    'n/a'} - `));\n",
       "    const percent = span('0% done');\n",
       "    li.appendChild(percent);\n",
       "\n",
       "    outputElement.appendChild(li);\n",
       "\n",
       "    const fileDataPromise = new Promise((resolve) => {\n",
       "      const reader = new FileReader();\n",
       "      reader.onload = (e) => {\n",
       "        resolve(e.target.result);\n",
       "      };\n",
       "      reader.readAsArrayBuffer(file);\n",
       "    });\n",
       "    // Wait for the data to be ready.\n",
       "    let fileData = yield {\n",
       "      promise: fileDataPromise,\n",
       "      response: {\n",
       "        action: 'continue',\n",
       "      }\n",
       "    };\n",
       "\n",
       "    // Use a chunked sending to avoid message size limits. See b/62115660.\n",
       "    let position = 0;\n",
       "    do {\n",
       "      const length = Math.min(fileData.byteLength - position, MAX_PAYLOAD_SIZE);\n",
       "      const chunk = new Uint8Array(fileData, position, length);\n",
       "      position += length;\n",
       "\n",
       "      const base64 = btoa(String.fromCharCode.apply(null, chunk));\n",
       "      yield {\n",
       "        response: {\n",
       "          action: 'append',\n",
       "          file: file.name,\n",
       "          data: base64,\n",
       "        },\n",
       "      };\n",
       "\n",
       "      let percentDone = fileData.byteLength === 0 ?\n",
       "          100 :\n",
       "          Math.round((position / fileData.byteLength) * 100);\n",
       "      percent.textContent = `${percentDone}% done`;\n",
       "\n",
       "    } while (position < fileData.byteLength);\n",
       "  }\n",
       "\n",
       "  // All done.\n",
       "  yield {\n",
       "    response: {\n",
       "      action: 'complete',\n",
       "    }\n",
       "  };\n",
       "}\n",
       "\n",
       "scope.google = scope.google || {};\n",
       "scope.google.colab = scope.google.colab || {};\n",
       "scope.google.colab._files = {\n",
       "  _uploadFiles,\n",
       "  _uploadFilesContinue,\n",
       "};\n",
       "})(self);\n",
       "</script> "
      ],
      "text/plain": [
       "<IPython.core.display.HTML object>"
      ]
     },
     "metadata": {},
     "output_type": "display_data"
    },
    {
     "name": "stdout",
     "output_type": "stream",
     "text": [
      "Saving kaggle.json to kaggle.json\n",
      "Downloading jigsaw-toxic-comment-classification-challenge.zip to /content\n",
      " 99% 52.0M/52.6M [00:03<00:00, 24.8MB/s]\n",
      "100% 52.6M/52.6M [00:03<00:00, 17.0MB/s]\n",
      "Archive:  jigsaw-toxic-comment-classification-challenge.zip\n",
      "  inflating: sample_submission.csv.zip  \n",
      "  inflating: test.csv.zip            \n",
      "  inflating: test_labels.csv.zip     \n",
      "  inflating: train.csv.zip           \n",
      "Archive:  train.csv.zip\n",
      "  inflating: train.csv               \n",
      "Looking in indexes: https://pypi.org/simple, https://us-python.pkg.dev/colab-wheels/public/simple/\n",
      "Collecting scikit-multilearn\n",
      "  Downloading scikit_multilearn-0.2.0-py3-none-any.whl (89 kB)\n",
      "\u001b[2K     \u001b[90m━━━━━━━━━━━━━━━━━━━━━━━━━━━━━━━━━━━━━━━━\u001b[0m \u001b[32m89.4/89.4 kB\u001b[0m \u001b[31m8.4 MB/s\u001b[0m eta \u001b[36m0:00:00\u001b[0m\n",
      "\u001b[?25hInstalling collected packages: scikit-multilearn\n",
      "Successfully installed scikit-multilearn-0.2.0\n",
      "--2023-05-07 20:26:43--  https://nlp.stanford.edu/data/glove.6B.zip\n",
      "Resolving nlp.stanford.edu (nlp.stanford.edu)... 171.64.67.140\n",
      "Connecting to nlp.stanford.edu (nlp.stanford.edu)|171.64.67.140|:443... connected.\n",
      "HTTP request sent, awaiting response... 301 Moved Permanently\n",
      "Location: https://downloads.cs.stanford.edu/nlp/data/glove.6B.zip [following]\n",
      "--2023-05-07 20:26:44--  https://downloads.cs.stanford.edu/nlp/data/glove.6B.zip\n",
      "Resolving downloads.cs.stanford.edu (downloads.cs.stanford.edu)... 171.64.64.22\n",
      "Connecting to downloads.cs.stanford.edu (downloads.cs.stanford.edu)|171.64.64.22|:443... connected.\n",
      "HTTP request sent, awaiting response... 200 OK\n",
      "Length: 862182613 (822M) [application/zip]\n",
      "Saving to: ‘glove.6B.zip’\n",
      "\n",
      "glove.6B.zip        100%[===================>] 822.24M  5.02MB/s    in 2m 39s  \n",
      "\n",
      "2023-05-07 20:29:24 (5.17 MB/s) - ‘glove.6B.zip’ saved [862182613/862182613]\n",
      "\n",
      "Archive:  glove.6B.zip\n",
      "  inflating: glove.6B/glove.6B.50d.txt  \n",
      "  inflating: glove.6B/glove.6B.100d.txt  \n",
      "  inflating: glove.6B/glove.6B.200d.txt  \n",
      "  inflating: glove.6B/glove.6B.300d.txt  \n",
      "Looking in indexes: https://pypi.org/simple, https://us-python.pkg.dev/colab-wheels/public/simple/\n",
      "Collecting transformers\n",
      "  Downloading transformers-4.28.1-py3-none-any.whl (7.0 MB)\n",
      "\u001b[2K     \u001b[90m━━━━━━━━━━━━━━━━━━━━━━━━━━━━━━━━━━━━━━━━\u001b[0m \u001b[32m7.0/7.0 MB\u001b[0m \u001b[31m105.2 MB/s\u001b[0m eta \u001b[36m0:00:00\u001b[0m\n",
      "\u001b[?25hRequirement already satisfied: filelock in /usr/local/lib/python3.10/dist-packages (from transformers) (3.12.0)\n",
      "Requirement already satisfied: packaging>=20.0 in /usr/local/lib/python3.10/dist-packages (from transformers) (23.1)\n",
      "Requirement already satisfied: regex!=2019.12.17 in /usr/local/lib/python3.10/dist-packages (from transformers) (2022.10.31)\n",
      "Collecting tokenizers!=0.11.3,<0.14,>=0.11.1\n",
      "  Downloading tokenizers-0.13.3-cp310-cp310-manylinux_2_17_x86_64.manylinux2014_x86_64.whl (7.8 MB)\n",
      "\u001b[2K     \u001b[90m━━━━━━━━━━━━━━━━━━━━━━━━━━━━━━━━━━━━━━━━\u001b[0m \u001b[32m7.8/7.8 MB\u001b[0m \u001b[31m117.7 MB/s\u001b[0m eta \u001b[36m0:00:00\u001b[0m\n",
      "\u001b[?25hCollecting huggingface-hub<1.0,>=0.11.0\n",
      "  Downloading huggingface_hub-0.14.1-py3-none-any.whl (224 kB)\n",
      "\u001b[2K     \u001b[90m━━━━━━━━━━━━━━━━━━━━━━━━━━━━━━━━━━━━━━\u001b[0m \u001b[32m224.5/224.5 kB\u001b[0m \u001b[31m19.3 MB/s\u001b[0m eta \u001b[36m0:00:00\u001b[0m\n",
      "\u001b[?25hRequirement already satisfied: tqdm>=4.27 in /usr/local/lib/python3.10/dist-packages (from transformers) (4.65.0)\n",
      "Requirement already satisfied: numpy>=1.17 in /usr/local/lib/python3.10/dist-packages (from transformers) (1.22.4)\n",
      "Requirement already satisfied: requests in /usr/local/lib/python3.10/dist-packages (from transformers) (2.27.1)\n",
      "Requirement already satisfied: pyyaml>=5.1 in /usr/local/lib/python3.10/dist-packages (from transformers) (6.0)\n",
      "Requirement already satisfied: typing-extensions>=3.7.4.3 in /usr/local/lib/python3.10/dist-packages (from huggingface-hub<1.0,>=0.11.0->transformers) (4.5.0)\n",
      "Requirement already satisfied: fsspec in /usr/local/lib/python3.10/dist-packages (from huggingface-hub<1.0,>=0.11.0->transformers) (2023.4.0)\n",
      "Requirement already satisfied: certifi>=2017.4.17 in /usr/local/lib/python3.10/dist-packages (from requests->transformers) (2022.12.7)\n",
      "Requirement already satisfied: urllib3<1.27,>=1.21.1 in /usr/local/lib/python3.10/dist-packages (from requests->transformers) (1.26.15)\n",
      "Requirement already satisfied: idna<4,>=2.5 in /usr/local/lib/python3.10/dist-packages (from requests->transformers) (3.4)\n",
      "Requirement already satisfied: charset-normalizer~=2.0.0 in /usr/local/lib/python3.10/dist-packages (from requests->transformers) (2.0.12)\n",
      "Installing collected packages: tokenizers, huggingface-hub, transformers\n",
      "Successfully installed huggingface-hub-0.14.1 tokenizers-0.13.3 transformers-4.28.1\n"
     ]
    }
   ],
   "source": [
    "!pip install -q kaggle\n",
    "from google.colab import files\n",
    "files.upload()\n",
    "! mkdir ~/.kaggle\n",
    "! cp kaggle.json ~/.kaggle/\n",
    "! chmod 600 ~/.kaggle/kaggle.json\n",
    "\n",
    "!kaggle competitions download -c jigsaw-toxic-comment-classification-challenge\n",
    "!unzip jigsaw-toxic-comment-classification-challenge.zip\n",
    "\n",
    "!unzip train.csv.zip\n",
    "\n",
    "!pip install scikit-multilearn\n",
    "!wget https://nlp.stanford.edu/data/glove.6B.zip\n",
    "!unzip glove.6B.zip -d glove.6B/\n",
    "!pip install transformers"
   ]
  },
  {
   "cell_type": "markdown",
   "metadata": {
    "id": "DriPlvPN0riP"
   },
   "source": [
    "## Imports"
   ]
  },
  {
   "cell_type": "code",
   "execution_count": null,
   "metadata": {
    "colab": {
     "base_uri": "https://localhost:8080/"
    },
    "id": "QZS8p3SrHW3u",
    "outputId": "31b29109-7c81-44f6-b532-d4d6c6420f58"
   },
   "outputs": [
    {
     "name": "stderr",
     "output_type": "stream",
     "text": [
      "[nltk_data] Downloading package stopwords to /root/nltk_data...\n",
      "[nltk_data]   Package stopwords is already up-to-date!\n",
      "[nltk_data] Downloading package wordnet to /root/nltk_data...\n",
      "[nltk_data]   Package wordnet is already up-to-date!\n"
     ]
    }
   ],
   "source": [
    "import pandas as pd\n",
    "import nltk\n",
    "# nltk.download('reuters')\n",
    "nltk.download('stopwords')\n",
    "nltk.download('wordnet')\n",
    "from nltk.corpus import reuters\n",
    "from nltk.corpus import stopwords\n",
    "from nltk import PorterStemmer, WordNetLemmatizer\n",
    "import re\n",
    "import string\n",
    "import tensorflow as tf\n",
    "from tensorflow.keras.preprocessing.text import Tokenizer\n",
    "from tensorflow.keras.preprocessing.sequence import pad_sequences\n",
    "import numpy as np\n",
    "\n",
    "import torch\n",
    "from torch import optim\n",
    "from torch import nn\n",
    "from torch.nn.utils import clip_grad_norm_\n",
    "\n",
    "from sklearn.metrics import hamming_loss, f1_score\n",
    "from sklearn.preprocessing import MultiLabelBinarizer\n",
    "\n",
    "from tqdm import tqdm\n",
    "from sklearn.model_selection import train_test_split\n",
    "from sklearn.feature_extraction.text import TfidfVectorizer\n",
    "import xgboost as xgb\n",
    "from sklearn.linear_model import LogisticRegression\n",
    "from sklearn.naive_bayes import MultinomialNB\n",
    "from sklearn.multiclass import OneVsRestClassifier\n",
    "from skmultilearn.problem_transform import BinaryRelevance\n",
    "\n",
    "from sklearn import metrics\n",
    "from sklearn.metrics import roc_auc_score, accuracy_score, classification_report\n",
    "\n",
    "import time\n",
    "import matplotlib.pyplot as plt\n",
    "import seaborn as sns\n",
    "from skmultilearn.problem_transform import LabelPowerset\n",
    "from sklearn.multioutput import ClassifierChain\n",
    "import copy\n",
    "from scipy.sparse import csr_matrix\n",
    "from nltk.corpus import stopwords\n",
    "from nltk.stem.snowball import SnowballStemmer\n",
    "import re\n",
    "import sys\n",
    "import warnings\n",
    "import keras\n",
    "from keras.preprocessing.text import Tokenizer\n",
    "from keras.layers import Dense, Input, LSTM, Embedding, Dropout, Activation\n",
    "from keras.layers import Bidirectional, GlobalMaxPool1D\n",
    "from keras.models import Model\n",
    "from keras import initializers, regularizers, constraints, optimizers, layers\n",
    "from gensim.models import Word2Vec\n",
    "from sklearn.svm import SVC\n",
    "import os\n",
    "from typing import Tuple, List\n",
    "from functools import partial\n",
    "\n",
    "from torch.utils.data import Dataset, DataLoader, RandomSampler\n",
    "from torch.nn.utils.rnn import pad_sequence\n",
    "from transformers import BertTokenizer, BertModel, AdamW, get_linear_schedule_with_warmup, BertPreTrainedModel\n",
    "from sklearn.metrics import roc_auc_score\n",
    "\n",
    "\n",
    "if not sys.warnoptions:\n",
    "    warnings.simplefilter(\"ignore\")\n"
   ]
  },
  {
   "cell_type": "markdown",
   "metadata": {
    "id": "fypuqi69_Y9P"
   },
   "source": [
    "### **EDA, Preprocessing and finding embeddings of labels**\n",
    "\n",
    "\n",
    "*   Below cell contains code for calculating meta data which will later be used for exploratory data analysis.\n",
    "\n",
    "*   Then there is general preprocessing code which is applied over the text like lemmatization, etc.\n",
    "*   Then there are functions which specifically preprocess the data for it to be fed to classical ML algorithms.\n",
    "\n",
    "\n",
    "*   Then we have the code to find the glove and bert embeddings of the labels. These embeddings will then be used in deep learning algorithms and MAGNET.\n",
    "\n",
    "\n",
    "\n",
    "\n",
    "\n",
    "\n",
    "\n",
    "\n",
    "\n",
    "\n",
    "\n"
   ]
  },
  {
   "cell_type": "code",
   "execution_count": null,
   "metadata": {
    "id": "5ZJ_z_Ue79Ng"
   },
   "outputs": [],
   "source": [
    "stop_words = set(stopwords.words('english'))\n",
    "stop_words.update(['zero','one','two','three','four','five','six','seven','eight','nine','ten','may','also','across','among','beside','however','yet','within'])\n",
    "re_stop_words = re.compile(r\"\\b(\" + \"|\".join(stop_words) + \")\\\\W\", re.I)\n",
    "\n",
    "stemmer = SnowballStemmer(\"english\")\n",
    "\n",
    "def plot_len_of_sentences(text_cols):\n",
    "    comment_len = text_cols.len()\n",
    "\n",
    "    # plot the distribution of comment lengths\n",
    "    plt.figure(figsize=(8,4))\n",
    "    sns.histplot(comment_len, kde=False, bins=50, color=\"red\")\n",
    "    plt.xlabel(\"Comment Length (Number of words)\", fontsize=12)\n",
    "    plt.ylabel(\"Number of Comments\", fontsize=12)\n",
    "    plt.title(\"Distribution of comment Lengths\", fontsize=12)\n",
    "\n",
    "  print(\"Average comment length:\",int(sum(comment_len)/len(comment_len)),\" characters\")\n",
    "\n",
    "def plot_bar_graph(train_df,labels,title):\n",
    "    fig = plt.figure(figsize=(8,6))\n",
    "    ax = fig.add_axes([0,0,1,1])\n",
    "    total_count = []\n",
    "    for label in labels:\n",
    "        total_count.append(len(train_df[train_df[label] == 1]))\n",
    "    ax.bar(labels,total_count, color=['red', 'green', 'blue', 'purple', 'orange', 'yellow'])\n",
    "    for i,data in enumerate(total_count):\n",
    "        plt.text(i-.25, \n",
    "                data/total_count[i]+100, \n",
    "                total_count[i], \n",
    "                fontsize=12)\n",
    "    plt.title(title)\n",
    "    plt.xlabel('Labels')\n",
    "    plt.ylabel('Number of comments')\n",
    "\n",
    "def cleanHtml(sentence):\n",
    "    cleanr = re.compile('<.*?>')\n",
    "    cleantext = re.sub(cleanr, ' ', str(sentence))\n",
    "    return cleantext\n",
    "def cleanPunc(sentence): #function to clean the word of any punctuation or special characters\n",
    "    cleaned = re.sub(r'[?|!|\\'|\"|#]',r'',sentence)\n",
    "    cleaned = re.sub(r'[.|,|)|(|\\|/]',r' ',cleaned)\n",
    "    cleaned = cleaned.strip()\n",
    "    cleaned = cleaned.replace(\"\\n\",\" \")\n",
    "    return cleaned\n",
    "def keepAlpha(sentence):\n",
    "    alpha_sent = \"\"\n",
    "    for word in sentence.split():\n",
    "        alpha_word = re.sub('[^a-z A-Z]+', ' ', word)\n",
    "        alpha_sent += alpha_word\n",
    "        alpha_sent += \" \"\n",
    "    alpha_sent = alpha_sent.strip()\n",
    "    return alpha_sent\n",
    "\n",
    "def removeStopWords(sentence):\n",
    "    global re_stop_words\n",
    "    return re_stop_words.sub(\" \", sentence)\n",
    "\n",
    "def lemmatize(sentence):\n",
    "    lemmatizer = WordNetLemmatizer()\n",
    "    lemSentence = \"\"\n",
    "    for word in sentence.split():\n",
    "        lem = lemmatizer.lemmatize(word)\n",
    "        lemSentence += lem\n",
    "        lemSentence += \" \"\n",
    "    lemSentence = lemSentence.strip()\n",
    "    return lemSentence\n",
    "\n",
    "def preprocess_text(train_df):\n",
    "    train_df['comment_text'] = train_df['comment_text'].str.lower()\n",
    "    train_df['comment_text'] = train_df['comment_text'].apply(cleanHtml)\n",
    "    train_df['comment_text'] = train_df['comment_text'].apply(cleanPunc)\n",
    "    train_df['comment_text'] = train_df['comment_text'].apply(keepAlpha)\n",
    "    train_df['comment_text'] = train_df['comment_text'].apply(removeStopWords)\n",
    "    train_df['comment_text'] = train_df['comment_text'].apply(lemmatize)\n",
    "    return train_df\n",
    "\n",
    "def sample_dataset(train_df):\n",
    "    df = train_df[train_df['clean']==0]\n",
    "    df = df.append(train_df[train_df['clean']==1].sample(frac=1, random_state=200).iloc[:df.shape[0],:])\n",
    "    df = df.sample(frac=1,random_state=200)\n",
    "    return df\n",
    "\n",
    "#ML preprocessing\n",
    "def baseline_ml_preprocessing(X_train,X_test):\n",
    "    word_vectorizer = TfidfVectorizer(\n",
    "        strip_accents='unicode',     \n",
    "        analyzer='word',\n",
    "        max_features=3000,        \n",
    "        token_pattern=r'\\w{1,}',    \n",
    "        ngram_range=(1, 3),         \n",
    "        stop_words='english',\n",
    "        sublinear_tf=True)\n",
    "\n",
    "    word_vectorizer.fit(X_train)\n",
    "    ml_X_train = word_vectorizer.transform(X_train)\n",
    "    ml_X_test = word_vectorizer.transform(X_test)\n",
    "    return ml_X_train, ml_X_test\n",
    "\n",
    "def Sequential_Preprocessing(X_train, X_test, y_train, y_test,max_seq_len):\n",
    "    tokenizer = Tokenizer(num_words=20000,oov_token='<UNK>')\n",
    "    tokenizer.fit_on_texts(X_train)\n",
    "    X_train = tokenizer.texts_to_sequences(X_train)\n",
    "    X_test = tokenizer.texts_to_sequences(X_test)\n",
    "\n",
    "    X_train = torch.from_numpy(pad_sequences(X_train, maxlen=max_seq_len))\n",
    "    X_test = torch.from_numpy(pad_sequences(X_test, maxlen=max_seq_len))\n",
    "\n",
    "    y_train = torch.from_numpy(y_train)\n",
    "    y_test = torch.from_numpy(y_test)\n",
    "\n",
    "    return tokenizer, X_train, y_train, X_test, y_test\n",
    "\n",
    "def create_glove_embedding_matrix(tokenizer, glove_file_path):\n",
    "    glove_embeddings = {}\n",
    "    with open(glove_file_path, 'r', encoding='utf-8') as f:\n",
    "        for line in f:\n",
    "            parts = line.split()\n",
    "            word = parts[0]\n",
    "            vector = np.array(parts[1:], dtype=np.float32)\n",
    "            glove_embeddings[word] = vector\n",
    "\n",
    "    vocab_size = len(tokenizer.index_word) + 1\n",
    "    #File 300 dim expected\n",
    "    embedding_dim = 300\n",
    "    glove_embedding_matrix = torch.zeros(vocab_size, embedding_dim)\n",
    "\n",
    "    unknown_words = 0\n",
    "    for i in range(1, vocab_size):\n",
    "        word = tokenizer.index_word[i]\n",
    "        if word in glove_embeddings.keys():\n",
    "            glove_embedding_matrix[i] = torch.from_numpy(glove_embeddings[word]).float()\n",
    "        else:\n",
    "            unknown_words += 1\n",
    "\n",
    "    print(\"GloVe embedding matrix created!\")\n",
    "    print('Vocabulary size: {}'.format(vocab_size))\n",
    "    print('Total unknown words: {}'.format(unknown_words))\n",
    "\n",
    "    return glove_embeddings, glove_embedding_matrix\n",
    "\n",
    "def create_glove_label_embedding(labels, glove_embeddings):\n",
    "    glove_label_embedding = torch.zeros(len(labels), 300)\n",
    "\n",
    "    for index, label in enumerate(labels):\n",
    "        wrds = label.split('_')\n",
    "        for l in wrds:\n",
    "            if l in glove_embeddings.keys():\n",
    "                glove_label_embedding[index] += torch.from_numpy(glove_embeddings[l])\n",
    "        glove_label_embedding[index] /= len(wrds)\n",
    "\n",
    "    return glove_label_embedding\n",
    "\n",
    "def get_bert_embedding_matrix(tokenizer):\n",
    "    bert_model = BertModel.from_pretrained('bert-base-uncased')\n",
    "    bert_tokenizer = BertTokenizer.from_pretrained('bert-base-uncased')\n",
    "    vocab_size = len(tokenizer.index_word)+1\n",
    "    bert_embedding_matrix = torch.zeros(vocab_size, 768)\n",
    "\n",
    "\n",
    "    tokens_tensor=[]\n",
    "    for i in tqdm(range(1, vocab_size)):\n",
    "        word = tokenizer.index_word[i]\n",
    "        tokens = bert_tokenizer.encode(word,add_special_tokens=False)[0]\n",
    "        tokens_tensor.append(tokens)\n",
    "    batch_size = 512\n",
    "    vocab_batches = [tokens_tensor[i:i+batch_size] for i in range(0, len(tokens_tensor), batch_size)]\n",
    "\n",
    "    with torch.no_grad():\n",
    "      bert_embeddings = []\n",
    "      for i in tqdm(range(len(vocab_batches))):\n",
    "        batch = vocab_batches[i]\n",
    "        inputs = {\n",
    "        'input_ids': torch.tensor([batch]),\n",
    "        'attention_mask': torch.ones(len(batch)).unsqueeze(0)\n",
    "        }\n",
    "        outputs = bert_model(**inputs)\n",
    "        batch_embeddings = outputs[0][0]\n",
    "        bert_embeddings.append(batch_embeddings)\n",
    "        \n",
    "    bert_embedding_matrix = torch.cat(bert_embeddings, dim=0)\n",
    "    return bert_embedding_matrix\n",
    "\n",
    "\n",
    "#Build adjacency matrix based on Co-Occurencies label\n",
    "def create_adjacency_matrix_cooccurance(data_label):\n",
    "  cooccur_matrix = np.zeros((data_label.shape[1], data_label.shape[1]), dtype=float)\n",
    "  for y in data_label:\n",
    "      y = list(y)\n",
    "      for i in range(len(y)):\n",
    "          for j in range(len(y)):\n",
    "            #data_label\n",
    "              if y[i] == 1 and y[j] == 1:\n",
    "                  cooccur_matrix[i, j] += 1\n",
    "  row_sums = data_label.sum(axis=0)\n",
    "\n",
    "  for i in range(cooccur_matrix.shape[0]):\n",
    "    for j in range(cooccur_matrix.shape[0]):\n",
    "      if row_sums[i]!=0:\n",
    "        cooccur_matrix[i][j]=cooccur_matrix[i,j]/row_sums[i]\n",
    "      else:\n",
    "        cooccur_matrix[i][j]=cooccur_matrix[i,j]\n",
    "  \n",
    "  return cooccur_matrix\n",
    "\n",
    "\n",
    "def check_accuracy(model, label_embedding, X, y):\n",
    "  model.eval()\n",
    "  with torch.no_grad():\n",
    "    out = model(X, label_embedding)\n",
    "    y_pred = torch.sigmoid(out.detach()).round().cpu()\n",
    "    f1score = f1_score(y, y_pred, average='micro')\n",
    "    hammingloss = hamming_loss(y, y_pred)\n",
    "  return hammingloss, f1score\n",
    "\n",
    "class dataset(Dataset):\n",
    "  def __init__(self, x, y):\n",
    "    self.x  = x\n",
    "    self.y = y\n",
    "  def __len__(self):\n",
    "    return len(self.x)\n",
    "  \n",
    "  def __getitem__(self, idx):\n",
    "    return self.x[idx], self.y[idx]\n",
    "\n",
    "def create_adjacency_matrix_xavier(data_label):\n",
    "  adj_matrix = torch.empty((data_label.shape[1], data_label.shape[1]))\n",
    "  adj_matrix = nn.init.xavier_uniform_(adj_matrix)\n",
    "  return adj_matrix"
   ]
  },
  {
   "cell_type": "markdown",
   "metadata": {
    "id": "UeFNhqOw04lK"
   },
   "source": [
    "Since most of the tweets dont contain any hateful content, we add a new column called 'clean'. If this is marked as 1, then this means that the tweet does not contain any offensive content. If clean = 1, then all other labels will be marked as 0."
   ]
  },
  {
   "cell_type": "code",
   "execution_count": null,
   "metadata": {
    "colab": {
     "base_uri": "https://localhost:8080/"
    },
    "id": "fJp6iNspHawY",
    "outputId": "877738be-557e-4376-da1f-c29905343189"
   },
   "outputs": [
    {
     "name": "stdout",
     "output_type": "stream",
     "text": [
      "Data shape: (159571, 8)\n",
      "Labels: Index(['toxic', 'severe_toxic', 'obscene', 'threat', 'insult', 'identity_hate',\n",
      "       'clean'],\n",
      "      dtype='object')\n"
     ]
    }
   ],
   "source": [
    "train_df = pd.read_csv('train.csv')\n",
    "print(\"Data shape:\",train_df.shape)\n",
    "#assigning labels\n",
    "\n",
    "#Adding new column of Clean Text\n",
    "arr=[]\n",
    "for i in range(train_df.shape[0]):\n",
    "  if (train_df.iloc[i,2:]==0).all():\n",
    "    arr.append(1)\n",
    "  else:\n",
    "    arr.append(0)\n",
    "train_df['clean'] = pd.Series(np.asarray(arr))\n",
    "labels = train_df.columns[2:]\n",
    "print(\"Labels:\",labels)"
   ]
  },
  {
   "cell_type": "code",
   "execution_count": null,
   "metadata": {
    "colab": {
     "base_uri": "https://localhost:8080/",
     "height": 206
    },
    "id": "gqEhaacKHdac",
    "outputId": "17214870-a2cd-4f55-d31b-64133ecb988c"
   },
   "outputs": [
    {
     "data": {
      "text/html": [
       "\n",
       "  <div id=\"df-a3db0ed6-fab8-4641-a6a4-784ccb966c37\">\n",
       "    <div class=\"colab-df-container\">\n",
       "      <div>\n",
       "<style scoped>\n",
       "    .dataframe tbody tr th:only-of-type {\n",
       "        vertical-align: middle;\n",
       "    }\n",
       "\n",
       "    .dataframe tbody tr th {\n",
       "        vertical-align: top;\n",
       "    }\n",
       "\n",
       "    .dataframe thead th {\n",
       "        text-align: right;\n",
       "    }\n",
       "</style>\n",
       "<table border=\"1\" class=\"dataframe\">\n",
       "  <thead>\n",
       "    <tr style=\"text-align: right;\">\n",
       "      <th></th>\n",
       "      <th>id</th>\n",
       "      <th>comment_text</th>\n",
       "      <th>toxic</th>\n",
       "      <th>severe_toxic</th>\n",
       "      <th>obscene</th>\n",
       "      <th>threat</th>\n",
       "      <th>insult</th>\n",
       "      <th>identity_hate</th>\n",
       "      <th>clean</th>\n",
       "    </tr>\n",
       "  </thead>\n",
       "  <tbody>\n",
       "    <tr>\n",
       "      <th>0</th>\n",
       "      <td>0000997932d777bf</td>\n",
       "      <td>Explanation\\nWhy the edits made under my usern...</td>\n",
       "      <td>0</td>\n",
       "      <td>0</td>\n",
       "      <td>0</td>\n",
       "      <td>0</td>\n",
       "      <td>0</td>\n",
       "      <td>0</td>\n",
       "      <td>1</td>\n",
       "    </tr>\n",
       "    <tr>\n",
       "      <th>1</th>\n",
       "      <td>000103f0d9cfb60f</td>\n",
       "      <td>D'aww! He matches this background colour I'm s...</td>\n",
       "      <td>0</td>\n",
       "      <td>0</td>\n",
       "      <td>0</td>\n",
       "      <td>0</td>\n",
       "      <td>0</td>\n",
       "      <td>0</td>\n",
       "      <td>1</td>\n",
       "    </tr>\n",
       "    <tr>\n",
       "      <th>2</th>\n",
       "      <td>000113f07ec002fd</td>\n",
       "      <td>Hey man, I'm really not trying to edit war. It...</td>\n",
       "      <td>0</td>\n",
       "      <td>0</td>\n",
       "      <td>0</td>\n",
       "      <td>0</td>\n",
       "      <td>0</td>\n",
       "      <td>0</td>\n",
       "      <td>1</td>\n",
       "    </tr>\n",
       "    <tr>\n",
       "      <th>3</th>\n",
       "      <td>0001b41b1c6bb37e</td>\n",
       "      <td>\"\\nMore\\nI can't make any real suggestions on ...</td>\n",
       "      <td>0</td>\n",
       "      <td>0</td>\n",
       "      <td>0</td>\n",
       "      <td>0</td>\n",
       "      <td>0</td>\n",
       "      <td>0</td>\n",
       "      <td>1</td>\n",
       "    </tr>\n",
       "    <tr>\n",
       "      <th>4</th>\n",
       "      <td>0001d958c54c6e35</td>\n",
       "      <td>You, sir, are my hero. Any chance you remember...</td>\n",
       "      <td>0</td>\n",
       "      <td>0</td>\n",
       "      <td>0</td>\n",
       "      <td>0</td>\n",
       "      <td>0</td>\n",
       "      <td>0</td>\n",
       "      <td>1</td>\n",
       "    </tr>\n",
       "  </tbody>\n",
       "</table>\n",
       "</div>\n",
       "      <button class=\"colab-df-convert\" onclick=\"convertToInteractive('df-a3db0ed6-fab8-4641-a6a4-784ccb966c37')\"\n",
       "              title=\"Convert this dataframe to an interactive table.\"\n",
       "              style=\"display:none;\">\n",
       "        \n",
       "  <svg xmlns=\"http://www.w3.org/2000/svg\" height=\"24px\"viewBox=\"0 0 24 24\"\n",
       "       width=\"24px\">\n",
       "    <path d=\"M0 0h24v24H0V0z\" fill=\"none\"/>\n",
       "    <path d=\"M18.56 5.44l.94 2.06.94-2.06 2.06-.94-2.06-.94-.94-2.06-.94 2.06-2.06.94zm-11 1L8.5 8.5l.94-2.06 2.06-.94-2.06-.94L8.5 2.5l-.94 2.06-2.06.94zm10 10l.94 2.06.94-2.06 2.06-.94-2.06-.94-.94-2.06-.94 2.06-2.06.94z\"/><path d=\"M17.41 7.96l-1.37-1.37c-.4-.4-.92-.59-1.43-.59-.52 0-1.04.2-1.43.59L10.3 9.45l-7.72 7.72c-.78.78-.78 2.05 0 2.83L4 21.41c.39.39.9.59 1.41.59.51 0 1.02-.2 1.41-.59l7.78-7.78 2.81-2.81c.8-.78.8-2.07 0-2.86zM5.41 20L4 18.59l7.72-7.72 1.47 1.35L5.41 20z\"/>\n",
       "  </svg>\n",
       "      </button>\n",
       "      \n",
       "  <style>\n",
       "    .colab-df-container {\n",
       "      display:flex;\n",
       "      flex-wrap:wrap;\n",
       "      gap: 12px;\n",
       "    }\n",
       "\n",
       "    .colab-df-convert {\n",
       "      background-color: #E8F0FE;\n",
       "      border: none;\n",
       "      border-radius: 50%;\n",
       "      cursor: pointer;\n",
       "      display: none;\n",
       "      fill: #1967D2;\n",
       "      height: 32px;\n",
       "      padding: 0 0 0 0;\n",
       "      width: 32px;\n",
       "    }\n",
       "\n",
       "    .colab-df-convert:hover {\n",
       "      background-color: #E2EBFA;\n",
       "      box-shadow: 0px 1px 2px rgba(60, 64, 67, 0.3), 0px 1px 3px 1px rgba(60, 64, 67, 0.15);\n",
       "      fill: #174EA6;\n",
       "    }\n",
       "\n",
       "    [theme=dark] .colab-df-convert {\n",
       "      background-color: #3B4455;\n",
       "      fill: #D2E3FC;\n",
       "    }\n",
       "\n",
       "    [theme=dark] .colab-df-convert:hover {\n",
       "      background-color: #434B5C;\n",
       "      box-shadow: 0px 1px 3px 1px rgba(0, 0, 0, 0.15);\n",
       "      filter: drop-shadow(0px 1px 2px rgba(0, 0, 0, 0.3));\n",
       "      fill: #FFFFFF;\n",
       "    }\n",
       "  </style>\n",
       "\n",
       "      <script>\n",
       "        const buttonEl =\n",
       "          document.querySelector('#df-a3db0ed6-fab8-4641-a6a4-784ccb966c37 button.colab-df-convert');\n",
       "        buttonEl.style.display =\n",
       "          google.colab.kernel.accessAllowed ? 'block' : 'none';\n",
       "\n",
       "        async function convertToInteractive(key) {\n",
       "          const element = document.querySelector('#df-a3db0ed6-fab8-4641-a6a4-784ccb966c37');\n",
       "          const dataTable =\n",
       "            await google.colab.kernel.invokeFunction('convertToInteractive',\n",
       "                                                     [key], {});\n",
       "          if (!dataTable) return;\n",
       "\n",
       "          const docLinkHtml = 'Like what you see? Visit the ' +\n",
       "            '<a target=\"_blank\" href=https://colab.research.google.com/notebooks/data_table.ipynb>data table notebook</a>'\n",
       "            + ' to learn more about interactive tables.';\n",
       "          element.innerHTML = '';\n",
       "          dataTable['output_type'] = 'display_data';\n",
       "          await google.colab.output.renderOutput(dataTable, element);\n",
       "          const docLink = document.createElement('div');\n",
       "          docLink.innerHTML = docLinkHtml;\n",
       "          element.appendChild(docLink);\n",
       "        }\n",
       "      </script>\n",
       "    </div>\n",
       "  </div>\n",
       "  "
      ],
      "text/plain": [
       "                 id                                       comment_text  toxic  \\\n",
       "0  0000997932d777bf  Explanation\\nWhy the edits made under my usern...      0   \n",
       "1  000103f0d9cfb60f  D'aww! He matches this background colour I'm s...      0   \n",
       "2  000113f07ec002fd  Hey man, I'm really not trying to edit war. It...      0   \n",
       "3  0001b41b1c6bb37e  \"\\nMore\\nI can't make any real suggestions on ...      0   \n",
       "4  0001d958c54c6e35  You, sir, are my hero. Any chance you remember...      0   \n",
       "\n",
       "   severe_toxic  obscene  threat  insult  identity_hate  clean  \n",
       "0             0        0       0       0              0      1  \n",
       "1             0        0       0       0              0      1  \n",
       "2             0        0       0       0              0      1  \n",
       "3             0        0       0       0              0      1  \n",
       "4             0        0       0       0              0      1  "
      ]
     },
     "execution_count": 5,
     "metadata": {},
     "output_type": "execute_result"
    }
   ],
   "source": [
    "train_df.head()"
   ]
  },
  {
   "cell_type": "code",
   "execution_count": null,
   "metadata": {
    "colab": {
     "base_uri": "https://localhost:8080/",
     "height": 431
    },
    "id": "dn3xv3YIvIrO",
    "outputId": "f09e979f-8e6b-49db-dd55-0a624aa770a6"
   },
   "outputs": [
    {
     "name": "stdout",
     "output_type": "stream",
     "text": [
      "Average comment length: 394  characters\n"
     ]
    },
    {
     "data": {
      "image/png": "[encoded data removed]",
      "text/plain": [
       "<Figure size 800x400 with 1 Axes>"
      ]
     },
     "metadata": {},
     "output_type": "display_data"
    }
   ],
   "source": [
    "plot_len_of_sentences(train_df.comment_text.str)"
   ]
  },
  {
   "cell_type": "code",
   "execution_count": null,
   "metadata": {
    "colab": {
     "base_uri": "https://localhost:8080/",
     "height": 702
    },
    "id": "jIHG4g2bvzel",
    "outputId": "cbe6cab6-5e37-4b8f-9007-8e143ce72098"
   },
   "outputs": [
    {
     "data": {
      "image/png": "[encoded data removed]",
      "text/plain": [
       "<Figure size 800x600 with 1 Axes>"
      ]
     },
     "metadata": {},
     "output_type": "display_data"
    }
   ],
   "source": [
    "#Without clean Text\n",
    "plot_bar_graph(train_df,labels[:-1],'Number of comments per label- Without CLEAN column')"
   ]
  },
  {
   "cell_type": "code",
   "execution_count": null,
   "metadata": {
    "colab": {
     "base_uri": "https://localhost:8080/",
     "height": 702
    },
    "id": "2KtM7GiRwrzq",
    "outputId": "7f395082-25b9-466d-b059-5b74aae54a64"
   },
   "outputs": [
    {
     "data": {
      "image/png": "[encoded data removed]",
      "text/plain": [
       "<Figure size 800x600 with 1 Axes>"
      ]
     },
     "metadata": {},
     "output_type": "display_data"
    }
   ],
   "source": [
    "#With clean Text\n",
    "plot_bar_graph(train_df,labels,'Number of comments per label- With CLEAN column')"
   ]
  },
  {
   "cell_type": "markdown",
   "metadata": {
    "id": "drRaBbig1PbA"
   },
   "source": [
    "The above graph shows that most of the tweets dont contain any hate content."
   ]
  },
  {
   "cell_type": "code",
   "execution_count": null,
   "metadata": {
    "colab": {
     "base_uri": "https://localhost:8080/",
     "height": 206
    },
    "id": "Nq_mjjB-Irte",
    "outputId": "af6057d4-32e7-4e9c-c154-a00fce67a893"
   },
   "outputs": [
    {
     "data": {
      "text/html": [
       "\n",
       "  <div id=\"df-e0f4bfe4-0540-43ac-a96c-fee0292baba8\">\n",
       "    <div class=\"colab-df-container\">\n",
       "      <div>\n",
       "<style scoped>\n",
       "    .dataframe tbody tr th:only-of-type {\n",
       "        vertical-align: middle;\n",
       "    }\n",
       "\n",
       "    .dataframe tbody tr th {\n",
       "        vertical-align: top;\n",
       "    }\n",
       "\n",
       "    .dataframe thead th {\n",
       "        text-align: right;\n",
       "    }\n",
       "</style>\n",
       "<table border=\"1\" class=\"dataframe\">\n",
       "  <thead>\n",
       "    <tr style=\"text-align: right;\">\n",
       "      <th></th>\n",
       "      <th>id</th>\n",
       "      <th>comment_text</th>\n",
       "      <th>toxic</th>\n",
       "      <th>severe_toxic</th>\n",
       "      <th>obscene</th>\n",
       "      <th>threat</th>\n",
       "      <th>insult</th>\n",
       "      <th>identity_hate</th>\n",
       "      <th>clean</th>\n",
       "    </tr>\n",
       "  </thead>\n",
       "  <tbody>\n",
       "    <tr>\n",
       "      <th>0</th>\n",
       "      <td>0000997932d777bf</td>\n",
       "      <td>explanation edits made username hardcore metal...</td>\n",
       "      <td>0</td>\n",
       "      <td>0</td>\n",
       "      <td>0</td>\n",
       "      <td>0</td>\n",
       "      <td>0</td>\n",
       "      <td>0</td>\n",
       "      <td>1</td>\n",
       "    </tr>\n",
       "    <tr>\n",
       "      <th>1</th>\n",
       "      <td>000103f0d9cfb60f</td>\n",
       "      <td>daww match background colour im seemingly stuc...</td>\n",
       "      <td>0</td>\n",
       "      <td>0</td>\n",
       "      <td>0</td>\n",
       "      <td>0</td>\n",
       "      <td>0</td>\n",
       "      <td>0</td>\n",
       "      <td>1</td>\n",
       "    </tr>\n",
       "    <tr>\n",
       "      <th>2</th>\n",
       "      <td>000113f07ec002fd</td>\n",
       "      <td>hey man im really trying edit war guy constant...</td>\n",
       "      <td>0</td>\n",
       "      <td>0</td>\n",
       "      <td>0</td>\n",
       "      <td>0</td>\n",
       "      <td>0</td>\n",
       "      <td>0</td>\n",
       "      <td>1</td>\n",
       "    </tr>\n",
       "    <tr>\n",
       "      <th>3</th>\n",
       "      <td>0001b41b1c6bb37e</td>\n",
       "      <td>cant make real suggestion improvement wondered...</td>\n",
       "      <td>0</td>\n",
       "      <td>0</td>\n",
       "      <td>0</td>\n",
       "      <td>0</td>\n",
       "      <td>0</td>\n",
       "      <td>0</td>\n",
       "      <td>1</td>\n",
       "    </tr>\n",
       "    <tr>\n",
       "      <th>4</th>\n",
       "      <td>0001d958c54c6e35</td>\n",
       "      <td>sir hero chance remember page thats on</td>\n",
       "      <td>0</td>\n",
       "      <td>0</td>\n",
       "      <td>0</td>\n",
       "      <td>0</td>\n",
       "      <td>0</td>\n",
       "      <td>0</td>\n",
       "      <td>1</td>\n",
       "    </tr>\n",
       "  </tbody>\n",
       "</table>\n",
       "</div>\n",
       "      <button class=\"colab-df-convert\" onclick=\"convertToInteractive('df-e0f4bfe4-0540-43ac-a96c-fee0292baba8')\"\n",
       "              title=\"Convert this dataframe to an interactive table.\"\n",
       "              style=\"display:none;\">\n",
       "        \n",
       "  <svg xmlns=\"http://www.w3.org/2000/svg\" height=\"24px\"viewBox=\"0 0 24 24\"\n",
       "       width=\"24px\">\n",
       "    <path d=\"M0 0h24v24H0V0z\" fill=\"none\"/>\n",
       "    <path d=\"M18.56 5.44l.94 2.06.94-2.06 2.06-.94-2.06-.94-.94-2.06-.94 2.06-2.06.94zm-11 1L8.5 8.5l.94-2.06 2.06-.94-2.06-.94L8.5 2.5l-.94 2.06-2.06.94zm10 10l.94 2.06.94-2.06 2.06-.94-2.06-.94-.94-2.06-.94 2.06-2.06.94z\"/><path d=\"M17.41 7.96l-1.37-1.37c-.4-.4-.92-.59-1.43-.59-.52 0-1.04.2-1.43.59L10.3 9.45l-7.72 7.72c-.78.78-.78 2.05 0 2.83L4 21.41c.39.39.9.59 1.41.59.51 0 1.02-.2 1.41-.59l7.78-7.78 2.81-2.81c.8-.78.8-2.07 0-2.86zM5.41 20L4 18.59l7.72-7.72 1.47 1.35L5.41 20z\"/>\n",
       "  </svg>\n",
       "      </button>\n",
       "      \n",
       "  <style>\n",
       "    .colab-df-container {\n",
       "      display:flex;\n",
       "      flex-wrap:wrap;\n",
       "      gap: 12px;\n",
       "    }\n",
       "\n",
       "    .colab-df-convert {\n",
       "      background-color: #E8F0FE;\n",
       "      border: none;\n",
       "      border-radius: 50%;\n",
       "      cursor: pointer;\n",
       "      display: none;\n",
       "      fill: #1967D2;\n",
       "      height: 32px;\n",
       "      padding: 0 0 0 0;\n",
       "      width: 32px;\n",
       "    }\n",
       "\n",
       "    .colab-df-convert:hover {\n",
       "      background-color: #E2EBFA;\n",
       "      box-shadow: 0px 1px 2px rgba(60, 64, 67, 0.3), 0px 1px 3px 1px rgba(60, 64, 67, 0.15);\n",
       "      fill: #174EA6;\n",
       "    }\n",
       "\n",
       "    [theme=dark] .colab-df-convert {\n",
       "      background-color: #3B4455;\n",
       "      fill: #D2E3FC;\n",
       "    }\n",
       "\n",
       "    [theme=dark] .colab-df-convert:hover {\n",
       "      background-color: #434B5C;\n",
       "      box-shadow: 0px 1px 3px 1px rgba(0, 0, 0, 0.15);\n",
       "      filter: drop-shadow(0px 1px 2px rgba(0, 0, 0, 0.3));\n",
       "      fill: #FFFFFF;\n",
       "    }\n",
       "  </style>\n",
       "\n",
       "      <script>\n",
       "        const buttonEl =\n",
       "          document.querySelector('#df-e0f4bfe4-0540-43ac-a96c-fee0292baba8 button.colab-df-convert');\n",
       "        buttonEl.style.display =\n",
       "          google.colab.kernel.accessAllowed ? 'block' : 'none';\n",
       "\n",
       "        async function convertToInteractive(key) {\n",
       "          const element = document.querySelector('#df-e0f4bfe4-0540-43ac-a96c-fee0292baba8');\n",
       "          const dataTable =\n",
       "            await google.colab.kernel.invokeFunction('convertToInteractive',\n",
       "                                                     [key], {});\n",
       "          if (!dataTable) return;\n",
       "\n",
       "          const docLinkHtml = 'Like what you see? Visit the ' +\n",
       "            '<a target=\"_blank\" href=https://colab.research.google.com/notebooks/data_table.ipynb>data table notebook</a>'\n",
       "            + ' to learn more about interactive tables.';\n",
       "          element.innerHTML = '';\n",
       "          dataTable['output_type'] = 'display_data';\n",
       "          await google.colab.output.renderOutput(dataTable, element);\n",
       "          const docLink = document.createElement('div');\n",
       "          docLink.innerHTML = docLinkHtml;\n",
       "          element.appendChild(docLink);\n",
       "        }\n",
       "      </script>\n",
       "    </div>\n",
       "  </div>\n",
       "  "
      ],
      "text/plain": [
       "                 id                                       comment_text  toxic  \\\n",
       "0  0000997932d777bf  explanation edits made username hardcore metal...      0   \n",
       "1  000103f0d9cfb60f  daww match background colour im seemingly stuc...      0   \n",
       "2  000113f07ec002fd  hey man im really trying edit war guy constant...      0   \n",
       "3  0001b41b1c6bb37e  cant make real suggestion improvement wondered...      0   \n",
       "4  0001d958c54c6e35             sir hero chance remember page thats on      0   \n",
       "\n",
       "   severe_toxic  obscene  threat  insult  identity_hate  clean  \n",
       "0             0        0       0       0              0      1  \n",
       "1             0        0       0       0              0      1  \n",
       "2             0        0       0       0              0      1  \n",
       "3             0        0       0       0              0      1  \n",
       "4             0        0       0       0              0      1  "
      ]
     },
     "execution_count": 9,
     "metadata": {},
     "output_type": "execute_result"
    }
   ],
   "source": [
    "train_df = preprocess_text(train_df)\n",
    "train_df.head()"
   ]
  },
  {
   "cell_type": "code",
   "execution_count": null,
   "metadata": {
    "colab": {
     "base_uri": "https://localhost:8080/",
     "height": 241
    },
    "id": "Y5ly2dWsNhWU",
    "outputId": "d8a87805-1081-414c-f08f-fc252cded76a"
   },
   "outputs": [
    {
     "name": "stderr",
     "output_type": "stream",
     "text": [
      "<ipython-input-3-ecde23a7a0f1>:79: FutureWarning: The frame.append method is deprecated and will be removed from pandas in a future version. Use pandas.concat instead.\n",
      "  df = df.append(train_df[train_df['clean']==1].sample(frac=1, random_state=200).iloc[:df.shape[0],:])\n"
     ]
    },
    {
     "data": {
      "text/html": [
       "\n",
       "  <div id=\"df-1bf04ba8-8617-4c40-ab68-b19a6590dc65\">\n",
       "    <div class=\"colab-df-container\">\n",
       "      <div>\n",
       "<style scoped>\n",
       "    .dataframe tbody tr th:only-of-type {\n",
       "        vertical-align: middle;\n",
       "    }\n",
       "\n",
       "    .dataframe tbody tr th {\n",
       "        vertical-align: top;\n",
       "    }\n",
       "\n",
       "    .dataframe thead th {\n",
       "        text-align: right;\n",
       "    }\n",
       "</style>\n",
       "<table border=\"1\" class=\"dataframe\">\n",
       "  <thead>\n",
       "    <tr style=\"text-align: right;\">\n",
       "      <th></th>\n",
       "      <th>id</th>\n",
       "      <th>comment_text</th>\n",
       "      <th>toxic</th>\n",
       "      <th>severe_toxic</th>\n",
       "      <th>obscene</th>\n",
       "      <th>threat</th>\n",
       "      <th>insult</th>\n",
       "      <th>identity_hate</th>\n",
       "      <th>clean</th>\n",
       "    </tr>\n",
       "  </thead>\n",
       "  <tbody>\n",
       "    <tr>\n",
       "      <th>134065</th>\n",
       "      <td>cd04ee4935924644</td>\n",
       "      <td>got ill start on</td>\n",
       "      <td>0</td>\n",
       "      <td>0</td>\n",
       "      <td>0</td>\n",
       "      <td>0</td>\n",
       "      <td>0</td>\n",
       "      <td>0</td>\n",
       "      <td>1</td>\n",
       "    </tr>\n",
       "    <tr>\n",
       "      <th>128040</th>\n",
       "      <td>acd929b3f6c5984b</td>\n",
       "      <td>barnstar anti vandalism barnstar professing lo...</td>\n",
       "      <td>0</td>\n",
       "      <td>0</td>\n",
       "      <td>0</td>\n",
       "      <td>0</td>\n",
       "      <td>0</td>\n",
       "      <td>0</td>\n",
       "      <td>1</td>\n",
       "    </tr>\n",
       "    <tr>\n",
       "      <th>136471</th>\n",
       "      <td>da225210fb20b417</td>\n",
       "      <td>homey yo beat u up</td>\n",
       "      <td>0</td>\n",
       "      <td>0</td>\n",
       "      <td>0</td>\n",
       "      <td>1</td>\n",
       "      <td>0</td>\n",
       "      <td>0</td>\n",
       "      <td>0</td>\n",
       "    </tr>\n",
       "    <tr>\n",
       "      <th>112748</th>\n",
       "      <td>5b33d2be26a63953</td>\n",
       "      <td>encouraged feedback let clear bit first versio...</td>\n",
       "      <td>0</td>\n",
       "      <td>0</td>\n",
       "      <td>0</td>\n",
       "      <td>0</td>\n",
       "      <td>0</td>\n",
       "      <td>0</td>\n",
       "      <td>1</td>\n",
       "    </tr>\n",
       "    <tr>\n",
       "      <th>21589</th>\n",
       "      <td>38dd995c105311e6</td>\n",
       "      <td>shes insane zealot</td>\n",
       "      <td>1</td>\n",
       "      <td>0</td>\n",
       "      <td>0</td>\n",
       "      <td>0</td>\n",
       "      <td>1</td>\n",
       "      <td>0</td>\n",
       "      <td>0</td>\n",
       "    </tr>\n",
       "  </tbody>\n",
       "</table>\n",
       "</div>\n",
       "      <button class=\"colab-df-convert\" onclick=\"convertToInteractive('df-1bf04ba8-8617-4c40-ab68-b19a6590dc65')\"\n",
       "              title=\"Convert this dataframe to an interactive table.\"\n",
       "              style=\"display:none;\">\n",
       "        \n",
       "  <svg xmlns=\"http://www.w3.org/2000/svg\" height=\"24px\"viewBox=\"0 0 24 24\"\n",
       "       width=\"24px\">\n",
       "    <path d=\"M0 0h24v24H0V0z\" fill=\"none\"/>\n",
       "    <path d=\"M18.56 5.44l.94 2.06.94-2.06 2.06-.94-2.06-.94-.94-2.06-.94 2.06-2.06.94zm-11 1L8.5 8.5l.94-2.06 2.06-.94-2.06-.94L8.5 2.5l-.94 2.06-2.06.94zm10 10l.94 2.06.94-2.06 2.06-.94-2.06-.94-.94-2.06-.94 2.06-2.06.94z\"/><path d=\"M17.41 7.96l-1.37-1.37c-.4-.4-.92-.59-1.43-.59-.52 0-1.04.2-1.43.59L10.3 9.45l-7.72 7.72c-.78.78-.78 2.05 0 2.83L4 21.41c.39.39.9.59 1.41.59.51 0 1.02-.2 1.41-.59l7.78-7.78 2.81-2.81c.8-.78.8-2.07 0-2.86zM5.41 20L4 18.59l7.72-7.72 1.47 1.35L5.41 20z\"/>\n",
       "  </svg>\n",
       "      </button>\n",
       "      \n",
       "  <style>\n",
       "    .colab-df-container {\n",
       "      display:flex;\n",
       "      flex-wrap:wrap;\n",
       "      gap: 12px;\n",
       "    }\n",
       "\n",
       "    .colab-df-convert {\n",
       "      background-color: #E8F0FE;\n",
       "      border: none;\n",
       "      border-radius: 50%;\n",
       "      cursor: pointer;\n",
       "      display: none;\n",
       "      fill: #1967D2;\n",
       "      height: 32px;\n",
       "      padding: 0 0 0 0;\n",
       "      width: 32px;\n",
       "    }\n",
       "\n",
       "    .colab-df-convert:hover {\n",
       "      background-color: #E2EBFA;\n",
       "      box-shadow: 0px 1px 2px rgba(60, 64, 67, 0.3), 0px 1px 3px 1px rgba(60, 64, 67, 0.15);\n",
       "      fill: #174EA6;\n",
       "    }\n",
       "\n",
       "    [theme=dark] .colab-df-convert {\n",
       "      background-color: #3B4455;\n",
       "      fill: #D2E3FC;\n",
       "    }\n",
       "\n",
       "    [theme=dark] .colab-df-convert:hover {\n",
       "      background-color: #434B5C;\n",
       "      box-shadow: 0px 1px 3px 1px rgba(0, 0, 0, 0.15);\n",
       "      filter: drop-shadow(0px 1px 2px rgba(0, 0, 0, 0.3));\n",
       "      fill: #FFFFFF;\n",
       "    }\n",
       "  </style>\n",
       "\n",
       "      <script>\n",
       "        const buttonEl =\n",
       "          document.querySelector('#df-1bf04ba8-8617-4c40-ab68-b19a6590dc65 button.colab-df-convert');\n",
       "        buttonEl.style.display =\n",
       "          google.colab.kernel.accessAllowed ? 'block' : 'none';\n",
       "\n",
       "        async function convertToInteractive(key) {\n",
       "          const element = document.querySelector('#df-1bf04ba8-8617-4c40-ab68-b19a6590dc65');\n",
       "          const dataTable =\n",
       "            await google.colab.kernel.invokeFunction('convertToInteractive',\n",
       "                                                     [key], {});\n",
       "          if (!dataTable) return;\n",
       "\n",
       "          const docLinkHtml = 'Like what you see? Visit the ' +\n",
       "            '<a target=\"_blank\" href=https://colab.research.google.com/notebooks/data_table.ipynb>data table notebook</a>'\n",
       "            + ' to learn more about interactive tables.';\n",
       "          element.innerHTML = '';\n",
       "          dataTable['output_type'] = 'display_data';\n",
       "          await google.colab.output.renderOutput(dataTable, element);\n",
       "          const docLink = document.createElement('div');\n",
       "          docLink.innerHTML = docLinkHtml;\n",
       "          element.appendChild(docLink);\n",
       "        }\n",
       "      </script>\n",
       "    </div>\n",
       "  </div>\n",
       "  "
      ],
      "text/plain": [
       "                      id                                       comment_text  \\\n",
       "134065  cd04ee4935924644                                   got ill start on   \n",
       "128040  acd929b3f6c5984b  barnstar anti vandalism barnstar professing lo...   \n",
       "136471  da225210fb20b417                                 homey yo beat u up   \n",
       "112748  5b33d2be26a63953  encouraged feedback let clear bit first versio...   \n",
       "21589   38dd995c105311e6                                 shes insane zealot   \n",
       "\n",
       "        toxic  severe_toxic  obscene  threat  insult  identity_hate  clean  \n",
       "134065      0             0        0       0       0              0      1  \n",
       "128040      0             0        0       0       0              0      1  \n",
       "136471      0             0        0       1       0              0      0  \n",
       "112748      0             0        0       0       0              0      1  \n",
       "21589       1             0        0       0       1              0      0  "
      ]
     },
     "execution_count": 10,
     "metadata": {},
     "output_type": "execute_result"
    }
   ],
   "source": [
    "#Get sampled Data by removing Rows which create Bias\n",
    "train_df = sample_dataset(train_df)\n",
    "train_df.head()"
   ]
  },
  {
   "cell_type": "markdown",
   "metadata": {
    "id": "10EIdqHp1XRy"
   },
   "source": [
    "## **Removing bias from the data** \n",
    "\n",
    "Since majority of the tweets were not offensive, this means that the training data is quite biased. Therefore we took 16000 tweets which contained some offensive content, and an equal number of tweets which were clean.\n",
    "\n",
    "Doing this, we ensure that our training data is not biased against a particular label."
   ]
  },
  {
   "cell_type": "code",
   "execution_count": null,
   "metadata": {
    "colab": {
     "base_uri": "https://localhost:8080/",
     "height": 702
    },
    "id": "SNAq7V8QI7H0",
    "outputId": "f44bcd81-567d-4e34-d07a-a7d53b835e00"
   },
   "outputs": [
    {
     "data": {
      "image/png": "[encoded data removed]",
      "text/plain": [
       "<Figure size 800x600 with 1 Axes>"
      ]
     },
     "metadata": {},
     "output_type": "display_data"
    }
   ],
   "source": [
    "#modified dataset\n",
    "plot_bar_graph(train_df,labels,'Processed Balanced Data with columns')"
   ]
  },
  {
   "cell_type": "code",
   "execution_count": null,
   "metadata": {
    "colab": {
     "base_uri": "https://localhost:8080/"
    },
    "id": "3VXc27RQItFs",
    "outputId": "6987a3c0-dc16-47cf-9f3f-83d26498d5b2"
   },
   "outputs": [
    {
     "name": "stdout",
     "output_type": "stream",
     "text": [
      "(32450,) (32450, 7)\n",
      "(25960,) (6490,) (25960, 7) (6490, 7)\n"
     ]
    }
   ],
   "source": [
    "X = train_df['comment_text'].values\n",
    "y = train_df.iloc[:,2:].values\n",
    "print(X.shape, y.shape)\n",
    "X_train, X_test, y_train, y_test = train_test_split(X, y, test_size=0.2,random_state=200, stratify=y[:,-1])\n",
    "print(X_train.shape, X_test.shape, y_train.shape, y_test.shape )"
   ]
  },
  {
   "cell_type": "code",
   "execution_count": null,
   "metadata": {
    "colab": {
     "base_uri": "https://localhost:8080/"
    },
    "id": "YFf_9Ndk1CYW",
    "outputId": "5c166f2f-42fb-4ccd-fb7b-6a0b93048773"
   },
   "outputs": [
    {
     "name": "stdout",
     "output_type": "stream",
     "text": [
      "X_train shape for baseline models: (25960, 3000)\n",
      "X_test shape for baseline models: (6490, 3000)\n"
     ]
    }
   ],
   "source": [
    "ml_X_train, ml_X_test = baseline_ml_preprocessing(X_train,X_test)\n",
    "print(\"X_train shape for baseline models:\",ml_X_train.shape)\n",
    "print(\"X_test shape for baseline models:\",ml_X_test.shape)"
   ]
  },
  {
   "cell_type": "markdown",
   "metadata": {
    "id": "PjSJbPFS1d1x"
   },
   "source": [
    "**Training using classical ML algorithms**\n",
    "\n",
    "Now we have our train and test data ready to be used in ML algorithms. The are prefixed with ml_"
   ]
  },
  {
   "cell_type": "code",
   "execution_count": null,
   "metadata": {
    "id": "sv-csWp6TcQ4"
   },
   "outputs": [],
   "source": [
    "scores_df = pd.DataFrame(columns=['model_name','micro_avg_f1_score','hamming_loss','accuracy'])"
   ]
  },
  {
   "cell_type": "markdown",
   "metadata": {
    "id": "5gGD87321gru"
   },
   "source": [
    "We test the following algorithms - \n",
    "\n",
    "\n",
    "\n",
    "*   Binary Relevance\n",
    "*   Classifier Chain\n",
    "*   One Vs Rest\n",
    "*   Label PowerSet\n",
    "*   Hierarchical SVM\n",
    "\n"
   ]
  },
  {
   "cell_type": "code",
   "execution_count": null,
   "metadata": {
    "id": "W8mBeuS52IvS"
   },
   "outputs": [],
   "source": [
    "class HierarchicalSVM:\n",
    "    def __init__(self):\n",
    "        self.classifiers = {}#Dictionary to store the classifiers for each label\n",
    "\n",
    "    def train(self, X_train, Y_train):\n",
    "        num_labels = Y_train.shape[1]\n",
    "        # Train the classifiers for each label\n",
    "        for label_idx in range(num_labels):\n",
    "            label = str(label_idx)\n",
    "            Y_label = Y_train[:, label_idx]\n",
    "            classifier = SVC(kernel='linear')\n",
    "            classifier.fit(X_train, Y_label)\n",
    "            self.classifiers[label] = classifier\n",
    "\n",
    "    def predict(self, X_test):\n",
    "        num_labels = len(self.classifiers)\n",
    "        num_samples = X_test.shape[0]\n",
    "        predictions = np.zeros((num_samples, num_labels))\n",
    "        for label_idx, classifier in self.classifiers.items():\n",
    "            label_predictions = classifier.predict(X_test)\n",
    "            predictions[:, int(label_idx)] = label_predictions\n",
    "        return predictions"
   ]
  },
  {
   "cell_type": "code",
   "execution_count": null,
   "metadata": {
    "colab": {
     "base_uri": "https://localhost:8080/"
    },
    "id": "Ktlq-F-gPEHz",
    "outputId": "123aa9a4-72e0-4372-cfc3-8e8dbc7b5b5a"
   },
   "outputs": [
    {
     "name": "stdout",
     "output_type": "stream",
     "text": [
      "====================BR============================\n"
     ]
    },
    {
     "name": "stderr",
     "output_type": "stream",
     "text": [
      "<ipython-input-16-e632f2dc34b0>:6: FutureWarning: The frame.append method is deprecated and will be removed from pandas in a future version. Use pandas.concat instead.\n",
      "  scores_df = scores_df.append(arr,ignore_index=True)\n",
      "/usr/local/lib/python3.10/dist-packages/sklearn/metrics/_classification.py:1344: UndefinedMetricWarning: Precision and F-score are ill-defined and being set to 0.0 in samples with no predicted labels. Use `zero_division` parameter to control this behavior.\n",
      "  _warn_prf(average, modifier, msg_start, len(result))\n",
      "/usr/local/lib/python3.10/dist-packages/sklearn/metrics/_classification.py:1344: UndefinedMetricWarning: Recall and F-score are ill-defined and being set to 0.0 in samples with no true labels. Use `zero_division` parameter to control this behavior.\n",
      "  _warn_prf(average, modifier, msg_start, len(result))\n"
     ]
    },
    {
     "name": "stdout",
     "output_type": "stream",
     "text": [
      "              precision    recall  f1-score   support\n",
      "\n",
      "           0       0.84      0.89      0.86      2878\n",
      "           1       0.20      0.55      0.29       108\n",
      "           2       0.69      0.88      0.78      1335\n",
      "           3       0.11      0.71      0.19        17\n",
      "           4       0.58      0.78      0.66      1166\n",
      "           5       0.26      0.69      0.37        97\n",
      "\n",
      "   micro avg       0.68      0.85      0.76      5601\n",
      "   macro avg       0.45      0.75      0.53      5601\n",
      "weighted avg       0.72      0.85      0.78      5601\n",
      " samples avg       0.33      0.37      0.34      5601\n",
      "\n",
      "====================Classifier Chain============================\n"
     ]
    },
    {
     "name": "stderr",
     "output_type": "stream",
     "text": [
      "<ipython-input-16-e632f2dc34b0>:15: FutureWarning: The frame.append method is deprecated and will be removed from pandas in a future version. Use pandas.concat instead.\n",
      "  scores_df = scores_df.append(arr,ignore_index=True)\n",
      "/usr/local/lib/python3.10/dist-packages/sklearn/metrics/_classification.py:1344: UndefinedMetricWarning: Precision and F-score are ill-defined and being set to 0.0 in samples with no predicted labels. Use `zero_division` parameter to control this behavior.\n",
      "  _warn_prf(average, modifier, msg_start, len(result))\n",
      "/usr/local/lib/python3.10/dist-packages/sklearn/metrics/_classification.py:1344: UndefinedMetricWarning: Recall and F-score are ill-defined and being set to 0.0 in samples with no true labels. Use `zero_division` parameter to control this behavior.\n",
      "  _warn_prf(average, modifier, msg_start, len(result))\n"
     ]
    },
    {
     "name": "stdout",
     "output_type": "stream",
     "text": [
      "              precision    recall  f1-score   support\n",
      "\n",
      "           0       0.84      0.89      0.86      2878\n",
      "           1       0.18      0.54      0.28       100\n",
      "           2       0.72      0.87      0.79      1413\n",
      "           3       0.10      0.69      0.18        16\n",
      "           4       0.63      0.73      0.68      1349\n",
      "           5       0.30      0.75      0.43       104\n",
      "\n",
      "   micro avg       0.70      0.84      0.76      5860\n",
      "   macro avg       0.46      0.74      0.53      5860\n",
      "weighted avg       0.74      0.84      0.78      5860\n",
      " samples avg       0.34      0.36      0.34      5860\n",
      "\n",
      "====================One Vs Rest============================\n"
     ]
    },
    {
     "name": "stderr",
     "output_type": "stream",
     "text": [
      "<ipython-input-16-e632f2dc34b0>:24: FutureWarning: The frame.append method is deprecated and will be removed from pandas in a future version. Use pandas.concat instead.\n",
      "  scores_df = scores_df.append(arr,ignore_index=True)\n",
      "/usr/local/lib/python3.10/dist-packages/sklearn/metrics/_classification.py:1344: UndefinedMetricWarning: Precision and F-score are ill-defined and being set to 0.0 in samples with no predicted labels. Use `zero_division` parameter to control this behavior.\n",
      "  _warn_prf(average, modifier, msg_start, len(result))\n",
      "/usr/local/lib/python3.10/dist-packages/sklearn/metrics/_classification.py:1344: UndefinedMetricWarning: Recall and F-score are ill-defined and being set to 0.0 in samples with no true labels. Use `zero_division` parameter to control this behavior.\n",
      "  _warn_prf(average, modifier, msg_start, len(result))\n"
     ]
    },
    {
     "name": "stdout",
     "output_type": "stream",
     "text": [
      "              precision    recall  f1-score   support\n",
      "\n",
      "           0       0.84      0.89      0.86      2878\n",
      "           1       0.20      0.55      0.29       108\n",
      "           2       0.69      0.88      0.78      1335\n",
      "           3       0.11      0.71      0.19        17\n",
      "           4       0.58      0.78      0.66      1166\n",
      "           5       0.26      0.69      0.37        97\n",
      "\n",
      "   micro avg       0.68      0.85      0.76      5601\n",
      "   macro avg       0.45      0.75      0.53      5601\n",
      "weighted avg       0.72      0.85      0.78      5601\n",
      " samples avg       0.33      0.37      0.34      5601\n",
      "\n",
      "====================Label PowerSet============================\n"
     ]
    },
    {
     "name": "stderr",
     "output_type": "stream",
     "text": [
      "<ipython-input-16-e632f2dc34b0>:32: FutureWarning: The frame.append method is deprecated and will be removed from pandas in a future version. Use pandas.concat instead.\n",
      "  scores_df = scores_df.append(arr,ignore_index=True)\n",
      "/usr/local/lib/python3.10/dist-packages/sklearn/metrics/_classification.py:1344: UndefinedMetricWarning: Precision and F-score are ill-defined and being set to 0.0 in samples with no predicted labels. Use `zero_division` parameter to control this behavior.\n",
      "  _warn_prf(average, modifier, msg_start, len(result))\n",
      "/usr/local/lib/python3.10/dist-packages/sklearn/metrics/_classification.py:1344: UndefinedMetricWarning: Recall and F-score are ill-defined and being set to 0.0 in samples with no true labels. Use `zero_division` parameter to control this behavior.\n",
      "  _warn_prf(average, modifier, msg_start, len(result))\n"
     ]
    },
    {
     "name": "stdout",
     "output_type": "stream",
     "text": [
      "              precision    recall  f1-score   support\n",
      "\n",
      "           0       0.76      0.91      0.83      2550\n",
      "           1       0.13      0.58      0.21        64\n",
      "           2       0.62      0.88      0.73      1200\n",
      "           3       0.05      0.83      0.09         6\n",
      "           4       0.55      0.78      0.64      1098\n",
      "           5       0.18      0.68      0.29        71\n",
      "\n",
      "   micro avg       0.62      0.87      0.72      4989\n",
      "   macro avg       0.38      0.78      0.46      4989\n",
      "weighted avg       0.66      0.87      0.75      4989\n",
      " samples avg       0.29      0.34      0.30      4989\n",
      "\n",
      "====================Hierarchical SVM============================\n",
      "              precision    recall  f1-score   support\n",
      "\n",
      "           0       0.85      0.89      0.87      2900\n",
      "           1       0.06      0.71      0.11        24\n",
      "           2       0.74      0.88      0.80      1426\n",
      "           3       0.11      0.63      0.19        19\n",
      "           4       0.63      0.76      0.69      1290\n",
      "           5       0.31      0.73      0.43       111\n",
      "\n",
      "   micro avg       0.71      0.86      0.78      5770\n",
      "   macro avg       0.45      0.77      0.52      5770\n",
      "weighted avg       0.76      0.86      0.80      5770\n",
      " samples avg       0.35      0.38      0.35      5770\n",
      "\n"
     ]
    },
    {
     "name": "stderr",
     "output_type": "stream",
     "text": [
      "<ipython-input-16-e632f2dc34b0>:39: FutureWarning: The frame.append method is deprecated and will be removed from pandas in a future version. Use pandas.concat instead.\n",
      "  scores_df = scores_df.append(arr,ignore_index=True)\n",
      "/usr/local/lib/python3.10/dist-packages/sklearn/metrics/_classification.py:1344: UndefinedMetricWarning: Precision and F-score are ill-defined and being set to 0.0 in samples with no predicted labels. Use `zero_division` parameter to control this behavior.\n",
      "  _warn_prf(average, modifier, msg_start, len(result))\n",
      "/usr/local/lib/python3.10/dist-packages/sklearn/metrics/_classification.py:1344: UndefinedMetricWarning: Recall and F-score are ill-defined and being set to 0.0 in samples with no true labels. Use `zero_division` parameter to control this behavior.\n",
      "  _warn_prf(average, modifier, msg_start, len(result))\n"
     ]
    }
   ],
   "source": [
    "print(\"====================BR============================\")\n",
    "model = BinaryRelevance(LogisticRegression(solver='sag'))\n",
    "model.fit(ml_X_train,  y_train[:,:-1])\n",
    "y_pred = model.predict(ml_X_test)\n",
    "arr={'model_name':'BR','micro_avg_f1_score':f1_score(y_test[:,:-1], y_pred, average=\"micro\"),'hamming_loss':hamming_loss(y_test[:,:-1], y_pred),'accuracy':accuracy_score(y_test[:,:-1],y_pred)}\n",
    "scores_df = scores_df.append(arr,ignore_index=True)\n",
    "print(classification_report(y_pred,y_test[:,:-1]))\n",
    "\n",
    "print(\"====================Classifier Chain============================\")\n",
    "\n",
    "model = ClassifierChain(LogisticRegression(solver='sag'))\n",
    "model.fit(ml_X_train, y_train[:,:-1])\n",
    "y_pred = model.predict(ml_X_test)\n",
    "arr={'model_name':'Classifier_Chain','micro_avg_f1_score':f1_score(y_test[:,:-1], y_pred, average=\"micro\"),'hamming_loss':hamming_loss(y_test[:,:-1], y_pred),'accuracy':accuracy_score(y_test[:,:-1],y_pred)}\n",
    "scores_df = scores_df.append(arr,ignore_index=True)\n",
    "print(classification_report(y_pred,y_test[:,:-1]))\n",
    "\n",
    "print(\"====================One Vs Rest============================\")\n",
    "\n",
    "model = OneVsRestClassifier(LogisticRegression())\n",
    "model.fit(ml_X_train, y_train[:,:-1])\n",
    "y_pred = model.predict(ml_X_test)\n",
    "arr={'model_name':'One_vs_rest','micro_avg_f1_score':f1_score(y_test[:,:-1], y_pred, average=\"micro\"),'hamming_loss':hamming_loss(y_test[:,:-1], y_pred),'accuracy':accuracy_score(y_test[:,:-1],y_pred)}\n",
    "scores_df = scores_df.append(arr,ignore_index=True)\n",
    "print(classification_report(y_pred,y_test[:,:-1]))\n",
    "\n",
    "print(\"====================Label PowerSet============================\")\n",
    "model = LabelPowerset(LogisticRegression(max_iter=1000))\n",
    "model.fit(ml_X_train, y_train[:,:-1])\n",
    "y_pred = model.predict(ml_X_test)\n",
    "arr={'model_name':'Label_Powerset','micro_avg_f1_score':f1_score(y_test[:,:-1], y_pred, average=\"micro\"),'hamming_loss':hamming_loss(y_test[:,:-1], y_pred),'accuracy':accuracy_score(y_test[:,:-1],y_pred)}\n",
    "scores_df = scores_df.append(arr,ignore_index=True)\n",
    "print(classification_report(y_pred,y_test[:,:-1]))\n",
    "print(\"====================Hierarchical SVM============================\")\n",
    "model = HierarchicalSVM()\n",
    "model.train(ml_X_train, y_train[:,:-1])\n",
    "y_pred = model.predict(ml_X_test)\n",
    "arr={'model_name':'Hierarchical_SVM','micro_avg_f1_score':f1_score(y_test[:,:-1], y_pred, average=\"micro\"),'hamming_loss':hamming_loss(y_test[:,:-1], y_pred),'accuracy':accuracy_score(y_test[:,:-1],y_pred)}\n",
    "scores_df = scores_df.append(arr,ignore_index=True)\n",
    "print(classification_report(y_pred,y_test[:,:-1]))\n"
   ]
  },
  {
   "cell_type": "markdown",
   "metadata": {
    "id": "9fZc_R161qYv"
   },
   "source": [
    "**Summarizing the results of classical ML algorithms**"
   ]
  },
  {
   "cell_type": "code",
   "execution_count": null,
   "metadata": {
    "colab": {
     "base_uri": "https://localhost:8080/",
     "height": 206
    },
    "id": "9xvICzxDoAK0",
    "outputId": "bda10ddc-3264-41a5-ff3d-8c0c4c397e34"
   },
   "outputs": [
    {
     "data": {
      "text/html": [
       "\n",
       "  <div id=\"df-b80468d2-959f-4241-bd09-0cb371491ef6\">\n",
       "    <div class=\"colab-df-container\">\n",
       "      <div>\n",
       "<style scoped>\n",
       "    .dataframe tbody tr th:only-of-type {\n",
       "        vertical-align: middle;\n",
       "    }\n",
       "\n",
       "    .dataframe tbody tr th {\n",
       "        vertical-align: top;\n",
       "    }\n",
       "\n",
       "    .dataframe thead th {\n",
       "        text-align: right;\n",
       "    }\n",
       "</style>\n",
       "<table border=\"1\" class=\"dataframe\">\n",
       "  <thead>\n",
       "    <tr style=\"text-align: right;\">\n",
       "      <th></th>\n",
       "      <th>model_name</th>\n",
       "      <th>micro_avg_f1_score</th>\n",
       "      <th>hamming_loss</th>\n",
       "      <th>accuracy</th>\n",
       "    </tr>\n",
       "  </thead>\n",
       "  <tbody>\n",
       "    <tr>\n",
       "      <th>0</th>\n",
       "      <td>BR</td>\n",
       "      <td>0.759005</td>\n",
       "      <td>0.077838</td>\n",
       "      <td>0.661787</td>\n",
       "    </tr>\n",
       "    <tr>\n",
       "      <th>1</th>\n",
       "      <td>Classifier_Chain</td>\n",
       "      <td>0.764568</td>\n",
       "      <td>0.077607</td>\n",
       "      <td>0.668259</td>\n",
       "    </tr>\n",
       "    <tr>\n",
       "      <th>2</th>\n",
       "      <td>One_vs_rest</td>\n",
       "      <td>0.759005</td>\n",
       "      <td>0.077838</td>\n",
       "      <td>0.661787</td>\n",
       "    </tr>\n",
       "    <tr>\n",
       "      <th>3</th>\n",
       "      <td>Label_Powerset</td>\n",
       "      <td>0.722106</td>\n",
       "      <td>0.085388</td>\n",
       "      <td>0.653621</td>\n",
       "    </tr>\n",
       "    <tr>\n",
       "      <th>4</th>\n",
       "      <td>Hierarchical_SVM</td>\n",
       "      <td>0.775302</td>\n",
       "      <td>0.073549</td>\n",
       "      <td>0.671957</td>\n",
       "    </tr>\n",
       "  </tbody>\n",
       "</table>\n",
       "</div>\n",
       "      <button class=\"colab-df-convert\" onclick=\"convertToInteractive('df-b80468d2-959f-4241-bd09-0cb371491ef6')\"\n",
       "              title=\"Convert this dataframe to an interactive table.\"\n",
       "              style=\"display:none;\">\n",
       "        \n",
       "  <svg xmlns=\"http://www.w3.org/2000/svg\" height=\"24px\"viewBox=\"0 0 24 24\"\n",
       "       width=\"24px\">\n",
       "    <path d=\"M0 0h24v24H0V0z\" fill=\"none\"/>\n",
       "    <path d=\"M18.56 5.44l.94 2.06.94-2.06 2.06-.94-2.06-.94-.94-2.06-.94 2.06-2.06.94zm-11 1L8.5 8.5l.94-2.06 2.06-.94-2.06-.94L8.5 2.5l-.94 2.06-2.06.94zm10 10l.94 2.06.94-2.06 2.06-.94-2.06-.94-.94-2.06-.94 2.06-2.06.94z\"/><path d=\"M17.41 7.96l-1.37-1.37c-.4-.4-.92-.59-1.43-.59-.52 0-1.04.2-1.43.59L10.3 9.45l-7.72 7.72c-.78.78-.78 2.05 0 2.83L4 21.41c.39.39.9.59 1.41.59.51 0 1.02-.2 1.41-.59l7.78-7.78 2.81-2.81c.8-.78.8-2.07 0-2.86zM5.41 20L4 18.59l7.72-7.72 1.47 1.35L5.41 20z\"/>\n",
       "  </svg>\n",
       "      </button>\n",
       "      \n",
       "  <style>\n",
       "    .colab-df-container {\n",
       "      display:flex;\n",
       "      flex-wrap:wrap;\n",
       "      gap: 12px;\n",
       "    }\n",
       "\n",
       "    .colab-df-convert {\n",
       "      background-color: #E8F0FE;\n",
       "      border: none;\n",
       "      border-radius: 50%;\n",
       "      cursor: pointer;\n",
       "      display: none;\n",
       "      fill: #1967D2;\n",
       "      height: 32px;\n",
       "      padding: 0 0 0 0;\n",
       "      width: 32px;\n",
       "    }\n",
       "\n",
       "    .colab-df-convert:hover {\n",
       "      background-color: #E2EBFA;\n",
       "      box-shadow: 0px 1px 2px rgba(60, 64, 67, 0.3), 0px 1px 3px 1px rgba(60, 64, 67, 0.15);\n",
       "      fill: #174EA6;\n",
       "    }\n",
       "\n",
       "    [theme=dark] .colab-df-convert {\n",
       "      background-color: #3B4455;\n",
       "      fill: #D2E3FC;\n",
       "    }\n",
       "\n",
       "    [theme=dark] .colab-df-convert:hover {\n",
       "      background-color: #434B5C;\n",
       "      box-shadow: 0px 1px 3px 1px rgba(0, 0, 0, 0.15);\n",
       "      filter: drop-shadow(0px 1px 2px rgba(0, 0, 0, 0.3));\n",
       "      fill: #FFFFFF;\n",
       "    }\n",
       "  </style>\n",
       "\n",
       "      <script>\n",
       "        const buttonEl =\n",
       "          document.querySelector('#df-b80468d2-959f-4241-bd09-0cb371491ef6 button.colab-df-convert');\n",
       "        buttonEl.style.display =\n",
       "          google.colab.kernel.accessAllowed ? 'block' : 'none';\n",
       "\n",
       "        async function convertToInteractive(key) {\n",
       "          const element = document.querySelector('#df-b80468d2-959f-4241-bd09-0cb371491ef6');\n",
       "          const dataTable =\n",
       "            await google.colab.kernel.invokeFunction('convertToInteractive',\n",
       "                                                     [key], {});\n",
       "          if (!dataTable) return;\n",
       "\n",
       "          const docLinkHtml = 'Like what you see? Visit the ' +\n",
       "            '<a target=\"_blank\" href=https://colab.research.google.com/notebooks/data_table.ipynb>data table notebook</a>'\n",
       "            + ' to learn more about interactive tables.';\n",
       "          element.innerHTML = '';\n",
       "          dataTable['output_type'] = 'display_data';\n",
       "          await google.colab.output.renderOutput(dataTable, element);\n",
       "          const docLink = document.createElement('div');\n",
       "          docLink.innerHTML = docLinkHtml;\n",
       "          element.appendChild(docLink);\n",
       "        }\n",
       "      </script>\n",
       "    </div>\n",
       "  </div>\n",
       "  "
      ],
      "text/plain": [
       "         model_name  micro_avg_f1_score  hamming_loss  accuracy\n",
       "0                BR            0.759005      0.077838  0.661787\n",
       "1  Classifier_Chain            0.764568      0.077607  0.668259\n",
       "2       One_vs_rest            0.759005      0.077838  0.661787\n",
       "3    Label_Powerset            0.722106      0.085388  0.653621\n",
       "4  Hierarchical_SVM            0.775302      0.073549  0.671957"
      ]
     },
     "execution_count": 17,
     "metadata": {},
     "output_type": "execute_result"
    }
   ],
   "source": [
    "scores_df"
   ]
  },
  {
   "cell_type": "code",
   "execution_count": null,
   "metadata": {
    "id": "AIDIGpsUoANk"
   },
   "outputs": [],
   "source": [
    "#DL preprocessing"
   ]
  },
  {
   "cell_type": "code",
   "execution_count": null,
   "metadata": {
    "colab": {
     "base_uri": "https://localhost:8080/"
    },
    "id": "syMIcvhN3DSi",
    "outputId": "14d6f50a-379f-44a4-ea28-c4202c3a5ba4"
   },
   "outputs": [
    {
     "name": "stdout",
     "output_type": "stream",
     "text": [
      "torch.Size([25960, 100]) torch.Size([6490, 100]) torch.Size([25960, 7]) torch.Size([6490, 7])\n"
     ]
    }
   ],
   "source": [
    "max_seq_len = 100\n",
    "tokenizer, X_train, y_train, X_test, y_test = Sequential_Preprocessing(X_train, X_test, y_train, y_test,max_seq_len)\n",
    "print(X_train.shape, X_test.shape, y_train.shape, y_test.shape)"
   ]
  },
  {
   "cell_type": "markdown",
   "metadata": {
    "id": "FKtUXEhk1uca"
   },
   "source": [
    "Finding the glove and bert embeddings"
   ]
  },
  {
   "cell_type": "code",
   "execution_count": null,
   "metadata": {
    "colab": {
     "base_uri": "https://localhost:8080/"
    },
    "id": "g2n1qO3O6jbv",
    "outputId": "844b9bb6-14ff-44e6-d4df-413e6690d7d9"
   },
   "outputs": [
    {
     "name": "stdout",
     "output_type": "stream",
     "text": [
      "GloVe embedding matrix created!\n",
      "Vocabulary size: 50685\n",
      "Total unknown words: 16419\n"
     ]
    }
   ],
   "source": [
    "glove_embeddings, glove_embedding_matrix = create_glove_embedding_matrix(tokenizer,glove_file_path='glove.6B/glove.6B.300d.txt')"
   ]
  },
  {
   "cell_type": "code",
   "execution_count": null,
   "metadata": {
    "colab": {
     "base_uri": "https://localhost:8080/"
    },
    "id": "EtlGRy9d64KT",
    "outputId": "5a8444b0-4d67-44cd-ac23-0c686cbb661e"
   },
   "outputs": [
    {
     "name": "stdout",
     "output_type": "stream",
     "text": [
      "torch.Size([7, 300])\n"
     ]
    }
   ],
   "source": [
    "glove_label_embeddings = create_glove_label_embedding(labels,glove_embeddings)\n",
    "print(glove_label_embeddings.shape)"
   ]
  },
  {
   "cell_type": "code",
   "execution_count": null,
   "metadata": {
    "id": "WvK2JHGOzGRf"
   },
   "outputs": [],
   "source": [
    "# word2vec_model = Word2Vec.load('path/to/word2vec_model')\n",
    "\n",
    "# word2vec_embedding = {word: word2vec_model.wv[word] for word in word2vec_model.wv.vocab}\n",
    "\n",
    "# # Define the vocabulary size and embedding dimensions\n",
    "# vocab_size = len(tokenizer.index_word)+1\n",
    "# embedding_dim = word2vec_model.vector_size\n",
    "\n",
    "# # Create the embedding matrix\n",
    "# word2vec_embedding_matrix = np.zeros((vocab_size, embedding_dim))\n",
    "# for i, word in enumerate(word2vec_embedding):\n",
    "#     word = tokenizer.index_word[i]\n",
    "#     if word in word2vec_embedding.keys():\n",
    "#       word2vec_embedding_matrix[i] = word2vec_embedding[word]\n",
    "#     else:\n",
    "#       continue\n",
    "# print(\"Word2Vec Embedding matrix created!\")\n",
    "# print(word2vec_embedding_matrix.shape)\n",
    "\n",
    "# word2vec_label_embedding = torch.zeros(len(labels),embedding_dim)\n",
    "\n",
    "# for index, label in enumerate(labels):\n",
    "#   wrds = label.split('_')\n",
    "#   for l in wrds:\n",
    "#     if l in word2vec_embedding.keys():\n",
    "#         word2vec_label_embedding[index] +=  torch.from_numpy(word2vec_embedding[l])\n",
    "#   word2vec_label_embedding[index]=word2vec_label_embedding[index]/len(wrds) \n",
    "\n",
    "# print(\"Word2Vec label embedding:\")\n",
    "# print(word2vec_label_embedding)"
   ]
  },
  {
   "cell_type": "code",
   "execution_count": null,
   "metadata": {
    "colab": {
     "base_uri": "https://localhost:8080/",
     "height": 269,
     "referenced_widgets": [
      "b84711d90cfe4f889c662ad03eb14716",
      "a976238571174f8d9192a31ff3d5c3d5",
      "88efcfea3974450c928c974f091744b3",
      "d1542aa04b344713a1134fd0302ba162",
      "b2692d83f09a486c9c3186ec73f64f1d",
      "2d36b2e4ce9247f8a7d556ea2d4fbbaf",
      "b244f49621604e20b90dc0659faa598b",
      "fca86cc61473462eaedaabf3fe3de8e8",
      "27de5ddcf9ad41d0abdb7fc40fd63ef4",
      "6dc757df6fc24eb6ab09ed6bc5363dc8",
      "48bbcd8bdd4e4f22892233bb9c22499c",
      "f7e6d2cac5424ab1b2b060715cd36a07",
      "3a4d463189de4c2199170550c9fcb720",
      "0d6e9828ec294966a09cc9878a0a2969",
      "871cf9dc73a44dffa439696c5b5091e3",
      "e45af4b8cb9f4c9991f18a8828a7015a",
      "2e784340cdd3474485b839f01ea8a735",
      "cf024c1e21af49bf85bac3f215ce2bec",
      "8fdcf4cf179947a5a412857c634b1105",
      "ac665d6cc49844529c2fabeadf40329e",
      "690d419a190a40779b69afe877924db8",
      "0e8de91b02a44247af2544b56d47c72d",
      "3d25d6797f1744a89f8a6b012b5ca18c",
      "bbf6d4148a6047c3843455648933c6c3",
      "ffd62e74ed4a42068989fdb81bcbeaa4",
      "e5dd935d0fd74ae0981f665bdc46ec99",
      "e0ce6cd8bb094835acfe968f0984ae60",
      "cf242fad209e41938ebdd7665a8aa2da",
      "d801e0df47184335bdfedf763e694d17",
      "a2897cf3cb854c33b457160eefd86cc7",
      "66bdaf101c87445db8a031b92014de63",
      "0bb8614697824a8580229d406e3f4bd5",
      "e2bdcc18437647eb82c9df4e2795e9cd",
      "21c623bb43e942448d07235afa5e8cb1",
      "0a477918c72c4786ab284f2a0e98d163",
      "96becd5034d94569b31b6810ea9083c7",
      "8ad3c9319e8144cd95cd91e61c28ea9a",
      "3c9858ad885d46d994580c555b371378",
      "540f7163e5594bb9ac1e14f74fd146b5",
      "ae8f4f6d59034045b45aaddf0af1b93b",
      "ce5fa2e065544e4eaf1d789fa0f09de4",
      "3267d5f59bac457fbea59039d2a3d741",
      "637ffa573b1849fe8aa7589d24dc7351",
      "4d0b3d5f7da44efebf8f40a26d2f878a"
     ]
    },
    "id": "oBR5ARr4_nbh",
    "outputId": "cc3efcda-7048-4371-d892-8d090de44903"
   },
   "outputs": [
    {
     "data": {
      "application/vnd.jupyter.widget-view+json": {
       "model_id": "b84711d90cfe4f889c662ad03eb14716",
       "version_major": 2,
       "version_minor": 0
      },
      "text/plain": [
       "Downloading (…)lve/main/config.json:   0%|          | 0.00/570 [00:00<?, ?B/s]"
      ]
     },
     "metadata": {},
     "output_type": "display_data"
    },
    {
     "data": {
      "application/vnd.jupyter.widget-view+json": {
       "model_id": "f7e6d2cac5424ab1b2b060715cd36a07",
       "version_major": 2,
       "version_minor": 0
      },
      "text/plain": [
       "Downloading pytorch_model.bin:   0%|          | 0.00/440M [00:00<?, ?B/s]"
      ]
     },
     "metadata": {},
     "output_type": "display_data"
    },
    {
     "name": "stderr",
     "output_type": "stream",
     "text": [
      "Some weights of the model checkpoint at bert-base-uncased were not used when initializing BertModel: ['cls.predictions.transform.dense.weight', 'cls.seq_relationship.bias', 'cls.predictions.transform.LayerNorm.bias', 'cls.predictions.bias', 'cls.predictions.decoder.weight', 'cls.predictions.transform.dense.bias', 'cls.seq_relationship.weight', 'cls.predictions.transform.LayerNorm.weight']\n",
      "- This IS expected if you are initializing BertModel from the checkpoint of a model trained on another task or with another architecture (e.g. initializing a BertForSequenceClassification model from a BertForPreTraining model).\n",
      "- This IS NOT expected if you are initializing BertModel from the checkpoint of a model that you expect to be exactly identical (initializing a BertForSequenceClassification model from a BertForSequenceClassification model).\n"
     ]
    },
    {
     "data": {
      "application/vnd.jupyter.widget-view+json": {
       "model_id": "3d25d6797f1744a89f8a6b012b5ca18c",
       "version_major": 2,
       "version_minor": 0
      },
      "text/plain": [
       "Downloading (…)solve/main/vocab.txt:   0%|          | 0.00/232k [00:00<?, ?B/s]"
      ]
     },
     "metadata": {},
     "output_type": "display_data"
    },
    {
     "data": {
      "application/vnd.jupyter.widget-view+json": {
       "model_id": "21c623bb43e942448d07235afa5e8cb1",
       "version_major": 2,
       "version_minor": 0
      },
      "text/plain": [
       "Downloading (…)okenizer_config.json:   0%|          | 0.00/28.0 [00:00<?, ?B/s]"
      ]
     },
     "metadata": {},
     "output_type": "display_data"
    },
    {
     "name": "stderr",
     "output_type": "stream",
     "text": [
      "100%|██████████| 50684/50684 [00:15<00:00, 3232.66it/s]\n",
      "100%|██████████| 99/99 [01:55<00:00,  1.17s/it]"
     ]
    },
    {
     "name": "stdout",
     "output_type": "stream",
     "text": [
      "torch.Size([50684, 768])\n"
     ]
    },
    {
     "name": "stderr",
     "output_type": "stream",
     "text": [
      "\n"
     ]
    }
   ],
   "source": [
    "bert_embeddding_matrix = get_bert_embedding_matrix(tokenizer)\n",
    "print(bert_embeddding_matrix.shape)"
   ]
  },
  {
   "cell_type": "code",
   "execution_count": null,
   "metadata": {
    "colab": {
     "base_uri": "https://localhost:8080/"
    },
    "id": "lcscY1c8JJtg",
    "outputId": "df1f8069-ab7e-47f2-fd65-60e61994704b"
   },
   "outputs": [
    {
     "name": "stdout",
     "output_type": "stream",
     "text": [
      "Device mapping:\n",
      "/job:localhost/replica:0/task:0/device:GPU:0 -> device: 0, name: Tesla T4, pci bus id: 0000:00:04.0, compute capability: 7.5\n",
      "\n"
     ]
    },
    {
     "name": "stderr",
     "output_type": "stream",
     "text": [
      "WARNING:tensorflow:From <ipython-input-22-ea7676897c82>:4: is_gpu_available (from tensorflow.python.framework.test_util) is deprecated and will be removed in a future version.\n",
      "Instructions for updating:\n",
      "Use `tf.config.list_physical_devices('GPU')` instead.\n"
     ]
    },
    {
     "name": "stdout",
     "output_type": "stream",
     "text": [
      "GPU is Available? => True\n"
     ]
    }
   ],
   "source": [
    "#Checking GPU for tensorflow\n",
    "sess = tf.compat.v1.Session(config=tf.compat.v1.ConfigProto(log_device_placement=True))\n",
    "keras.backend.set_session(sess)\n",
    "print(\"GPU is Available? =>\",tf.test.is_gpu_available())"
   ]
  },
  {
   "cell_type": "code",
   "execution_count": null,
   "metadata": {
    "id": "egDcQ85dMJ47"
   },
   "outputs": [],
   "source": [
    "VOCAB_SIZE = len(tokenizer.index_word)+1\n",
    "#Preparing for KERAS Model\n",
    "glove_embd_mat= np.array(glove_embedding_matrix.to('cpu'))\n",
    "glove_embd_mat = np.vstack((np.zeros((1, glove_embd_mat.shape[1])), glove_embd_mat))\n",
    "bert_embd_mat= np.array(bert_embeddding_matrix.to('cpu').detach().numpy())\n",
    "bert_embd_mat = np.vstack((np.zeros((1, bert_embd_mat.shape[1])), bert_embd_mat))"
   ]
  },
  {
   "cell_type": "markdown",
   "metadata": {
    "id": "Oh_kBwjc15kp"
   },
   "source": [
    "### Running deep learning algorithms\n",
    "\n",
    "The algorithms used are - \n",
    "* BiLSTM using glove embeddings\n",
    "* BiLSTM using BERT embeddings\n",
    "* CNN using BERT embeddings\n",
    "* CNN usin BERT embeddings"
   ]
  },
  {
   "cell_type": "code",
   "execution_count": null,
   "metadata": {
    "colab": {
     "base_uri": "https://localhost:8080/"
    },
    "id": "ew-oCvcKw-nL",
    "outputId": "d557dac9-e921-4fb9-a673-6764ed4bcc21"
   },
   "outputs": [
    {
     "name": "stderr",
     "output_type": "stream",
     "text": [
      "WARNING:tensorflow:Layer lstm will not use cuDNN kernels since it doesn't meet the criteria. It will use a generic GPU kernel as fallback when running on GPU.\n",
      "WARNING:tensorflow:Layer lstm will not use cuDNN kernels since it doesn't meet the criteria. It will use a generic GPU kernel as fallback when running on GPU.\n",
      "WARNING:tensorflow:Layer lstm will not use cuDNN kernels since it doesn't meet the criteria. It will use a generic GPU kernel as fallback when running on GPU.\n"
     ]
    },
    {
     "name": "stdout",
     "output_type": "stream",
     "text": [
      "=====================Glove BiLSTM===========================\n",
      "Epoch 1/3\n",
      "102/102 [==============================] - 91s 828ms/step - loss: 0.3949 - accuracy: 0.6428\n",
      "Epoch 2/3\n",
      "102/102 [==============================] - 77s 756ms/step - loss: 0.2204 - accuracy: 0.8665\n",
      "Epoch 3/3\n",
      "102/102 [==============================] - 79s 778ms/step - loss: 0.1794 - accuracy: 0.9057\n",
      "26/26 [==============================] - 2s 45ms/step\n",
      "         model_name  micro_avg_f1_score  hamming_loss  accuracy\n",
      "0                BR            0.768250      0.076117  0.667180\n",
      "1  Classifier_Chain            0.769028      0.076451  0.672111\n",
      "2       One_vs_rest            0.765692      0.076117  0.667180\n",
      "3    Label_Powerset            0.734849      0.082357  0.661941\n",
      "4  Hierarchical_SVM            0.776746      0.073472  0.672265\n",
      "5         CNN_glove            0.815412      0.078670  0.657473\n",
      "6      BiLSTM_glove            0.828584      0.075083  0.667951\n",
      "              precision    recall  f1-score   support\n",
      "\n",
      "           0       0.90      0.88      0.89      3113\n",
      "           1       0.17      0.71      0.28        72\n",
      "           2       0.81      0.82      0.81      1687\n",
      "           3       0.00      0.00      0.00         0\n",
      "           4       0.72      0.72      0.72      1567\n",
      "           5       0.03      0.80      0.06        10\n",
      "           6       0.91      0.92      0.91      3229\n",
      "\n",
      "   micro avg       0.81      0.85      0.83      9678\n",
      "   macro avg       0.51      0.69      0.52      9678\n",
      "weighted avg       0.85      0.85      0.85      9678\n",
      " samples avg       0.83      0.84      0.82      9678\n",
      "\n"
     ]
    },
    {
     "name": "stderr",
     "output_type": "stream",
     "text": [
      "<ipython-input-55-3ae34c0b4e40>:17: FutureWarning: The frame.append method is deprecated and will be removed from pandas in a future version. Use pandas.concat instead.\n",
      "  scores_df = scores_df.append(arr,ignore_index=True)\n",
      "/usr/local/lib/python3.10/dist-packages/sklearn/metrics/_classification.py:1344: UndefinedMetricWarning: Recall and F-score are ill-defined and being set to 0.0 in labels with no true samples. Use `zero_division` parameter to control this behavior.\n",
      "  _warn_prf(average, modifier, msg_start, len(result))\n",
      "/usr/local/lib/python3.10/dist-packages/sklearn/metrics/_classification.py:1344: UndefinedMetricWarning: Recall and F-score are ill-defined and being set to 0.0 in samples with no true labels. Use `zero_division` parameter to control this behavior.\n",
      "  _warn_prf(average, modifier, msg_start, len(result))\n"
     ]
    }
   ],
   "source": [
    "print(\"=====================Glove BiLSTM===========================\")\n",
    "inp = Input(shape=(max_seq_len,))\n",
    "x = Embedding(VOCAB_SIZE+1, 300, weights=[glove_embd_mat])(inp)\n",
    "x = Bidirectional(LSTM(50, return_sequences=True, dropout=0.1, recurrent_dropout=0.1))(x)\n",
    "x = GlobalMaxPool1D()(x)\n",
    "x = Dense(50, activation=\"relu\")(x)\n",
    "x = Dropout(0.1)(x)\n",
    "x = Dense(7, activation=\"sigmoid\")(x)\n",
    "model = Model(inputs=inp, outputs=x)\n",
    "model.compile(loss='binary_crossentropy', optimizer='adam', metrics=['accuracy'])\n",
    "\n",
    "model.fit(np.asarray(X_train),np.asarray(y_train), batch_size=256, epochs=3)\n",
    "y_pred = model.predict(np.asarray(X_test),batch_size=256, verbose=1)\n",
    "y_pred= np.where(y_pred > 0.5, 1, 0)\n",
    "\n",
    "arr={'model_name':'BiLSTM_glove','micro_avg_f1_score':f1_score(y_test, y_pred, average=\"micro\"),'hamming_loss':hamming_loss(y_test, y_pred),'accuracy':accuracy_score(y_test,y_pred)}\n",
    "scores_df = scores_df.append(arr,ignore_index=True)\n",
    "print(scores_df)\n",
    "print(classification_report(y_pred,y_test))\n"
   ]
  },
  {
   "cell_type": "code",
   "execution_count": null,
   "metadata": {
    "colab": {
     "base_uri": "https://localhost:8080/"
    },
    "id": "cH3E0KFT7JO4",
    "outputId": "a9f3c0d2-d7fb-4ac9-99b2-2512b4c9d8e2"
   },
   "outputs": [
    {
     "name": "stdout",
     "output_type": "stream",
     "text": [
      "=====================Bert BiLSTM===========================\n"
     ]
    },
    {
     "name": "stderr",
     "output_type": "stream",
     "text": [
      "WARNING:tensorflow:Layer lstm will not use cuDNN kernels since it doesn't meet the criteria. It will use a generic GPU kernel as fallback when running on GPU.\n",
      "WARNING:tensorflow:Layer lstm will not use cuDNN kernels since it doesn't meet the criteria. It will use a generic GPU kernel as fallback when running on GPU.\n",
      "WARNING:tensorflow:Layer lstm will not use cuDNN kernels since it doesn't meet the criteria. It will use a generic GPU kernel as fallback when running on GPU.\n"
     ]
    },
    {
     "name": "stdout",
     "output_type": "stream",
     "text": [
      "Epoch 1/4\n",
      "102/102 [==============================] - 107s 952ms/step - loss: 0.3838 - accuracy: 0.6665\n",
      "Epoch 2/4\n",
      "102/102 [==============================] - 93s 909ms/step - loss: 0.1867 - accuracy: 0.8998\n",
      "Epoch 3/4\n",
      "102/102 [==============================] - 87s 856ms/step - loss: 0.1513 - accuracy: 0.9327\n",
      "Epoch 4/4\n",
      "102/102 [==============================] - 84s 827ms/step - loss: 0.1276 - accuracy: 0.9455\n",
      "26/26 [==============================] - 2s 69ms/step\n",
      "              precision    recall  f1-score   support\n",
      "\n",
      "           0       0.88      0.89      0.88      3027\n",
      "           1       0.37      0.52      0.43       206\n",
      "           2       0.83      0.84      0.83      1671\n",
      "           3       0.00      0.00      0.00         0\n",
      "           4       0.68      0.73      0.70      1463\n",
      "           5       0.15      0.75      0.24        51\n",
      "           6       0.93      0.90      0.91      3332\n",
      "\n",
      "   micro avg       0.81      0.85      0.83      9750\n",
      "   macro avg       0.55      0.66      0.57      9750\n",
      "weighted avg       0.84      0.85      0.85      9750\n",
      " samples avg       0.83      0.84      0.82      9750\n",
      "\n"
     ]
    },
    {
     "name": "stderr",
     "output_type": "stream",
     "text": [
      "/usr/local/lib/python3.10/dist-packages/sklearn/metrics/_classification.py:1344: UndefinedMetricWarning: Recall and F-score are ill-defined and being set to 0.0 in labels with no true samples. Use `zero_division` parameter to control this behavior.\n",
      "  _warn_prf(average, modifier, msg_start, len(result))\n",
      "/usr/local/lib/python3.10/dist-packages/sklearn/metrics/_classification.py:1344: UndefinedMetricWarning: Recall and F-score are ill-defined and being set to 0.0 in samples with no true labels. Use `zero_division` parameter to control this behavior.\n",
      "  _warn_prf(average, modifier, msg_start, len(result))\n"
     ]
    }
   ],
   "source": [
    "print(\"=====================Bert BiLSTM===========================\")\n",
    "inp = Input(shape=(max_seq_len,))\n",
    "x = Embedding(VOCAB_SIZE, 768, weights=[bert_embd_mat])(inp)\n",
    "x = Bidirectional(LSTM(50, return_sequences=True, dropout=0.1, recurrent_dropout=0.1))(x)\n",
    "x = GlobalMaxPool1D()(x)\n",
    "x = Dense(50, activation=\"relu\")(x)\n",
    "x = Dropout(0.1)(x)\n",
    "x = Dense(7, activation=\"sigmoid\")(x)\n",
    "model = Model(inputs=inp, outputs=x)\n",
    "model.compile(loss='binary_crossentropy', optimizer='adam', metrics=['accuracy'])\n",
    "\n",
    "model.fit(np.asarray(X_train),np.asarray(y_train), batch_size=256, epochs=4)\n",
    "y_pred = model.predict(np.asarray(X_test),batch_size=256, verbose=1)\n",
    "y_pred= np.where(y_pred > 0.5, 1, 0)\n",
    "\n",
    "arr={'model_name':'BiLSTM_bert','micro_avg_f1_score':f1_score(y_test, y_pred, average=\"micro\"),'hamming_loss':hamming_loss(y_test, y_pred),'accuracy':accuracy_score(y_test,y_pred)}\n",
    "scores_df = scores_df.append(arr,ignore_index=True)\n",
    "print(scores_df)\n",
    "print(classification_report(y_pred,y_test))"
   ]
  },
  {
   "cell_type": "code",
   "execution_count": null,
   "metadata": {
    "colab": {
     "base_uri": "https://localhost:8080/"
    },
    "id": "WugrHu17ESSL",
    "outputId": "fd97a433-6534-4ef2-8634-09cae0005715"
   },
   "outputs": [
    {
     "name": "stdout",
     "output_type": "stream",
     "text": [
      "=====================Glove CNN===========================\n",
      "Epoch 1/3\n",
      "102/102 [==============================] - 32s 198ms/step - loss: 0.3643 - accuracy: 0.6813\n",
      "Epoch 2/3\n",
      "102/102 [==============================] - 15s 150ms/step - loss: 0.2018 - accuracy: 0.8738\n",
      "Epoch 3/3\n",
      "102/102 [==============================] - 11s 108ms/step - loss: 0.1478 - accuracy: 0.9311\n",
      "26/26 [==============================] - 0s 7ms/step\n",
      "         model_name  micro_avg_f1_score  hamming_loss  accuracy\n",
      "0                BR            0.768250      0.076117  0.667180\n",
      "1  Classifier_Chain            0.769028      0.076451  0.672111\n",
      "2       One_vs_rest            0.765692      0.076117  0.667180\n",
      "3    Label_Powerset            0.734849      0.082357  0.661941\n",
      "4  Hierarchical_SVM            0.776746      0.073472  0.672265\n",
      "5         CNN_glove            0.815412      0.078670  0.657473\n",
      "              precision    recall  f1-score   support\n",
      "\n",
      "           0       0.86      0.89      0.87      2977\n",
      "           1       0.13      0.72      0.22        53\n",
      "           2       0.70      0.88      0.78      1353\n",
      "           3       0.02      1.00      0.04         2\n",
      "           4       0.62      0.75      0.68      1305\n",
      "           5       0.26      0.72      0.38        93\n",
      "           6       0.92      0.89      0.90      3358\n",
      "\n",
      "   micro avg       0.77      0.86      0.82      9141\n",
      "   macro avg       0.50      0.83      0.55      9141\n",
      "weighted avg       0.82      0.86      0.83      9141\n",
      " samples avg       0.80      0.84      0.80      9141\n",
      "\n"
     ]
    },
    {
     "name": "stderr",
     "output_type": "stream",
     "text": [
      "<ipython-input-54-76d74db9ed5d>:19: FutureWarning: The frame.append method is deprecated and will be removed from pandas in a future version. Use pandas.concat instead.\n",
      "  scores_df = scores_df.append(arr,ignore_index=True)\n",
      "/usr/local/lib/python3.10/dist-packages/sklearn/metrics/_classification.py:1344: UndefinedMetricWarning: Recall and F-score are ill-defined and being set to 0.0 in samples with no true labels. Use `zero_division` parameter to control this behavior.\n",
      "  _warn_prf(average, modifier, msg_start, len(result))\n"
     ]
    }
   ],
   "source": [
    "print(\"=====================Glove CNN===========================\")\n",
    "inp = Input(shape=(max_seq_len,))\n",
    "\n",
    "x = Embedding(VOCAB_SIZE+1, 300, weights=[glove_embd_mat])(inp)\n",
    "x = layers.Conv1D(filters=128, kernel_size=5, activation='relu')(x)\n",
    "x = GlobalMaxPool1D()(x)\n",
    "x = Dense(64, activation=\"relu\")(x)\n",
    "x = Dropout(0.1)(x)\n",
    "x = Dense(32, activation='relu')(x)\n",
    "x = Dense(7, activation=\"sigmoid\")(x)\n",
    "model = Model(inputs=inp, outputs=x)\n",
    "model.compile(loss='binary_crossentropy', optimizer='adam', metrics=['accuracy'])\n",
    "\n",
    "model.fit(np.asarray(X_train),np.asarray(y_train), batch_size=256, epochs=3)\n",
    "y_pred = model.predict(np.asarray(X_test),batch_size=256, verbose=1)\n",
    "y_pred= np.where(y_pred > 0.5, 1, 0)\n",
    "\n",
    "arr={'model_name':'CNN_glove','micro_avg_f1_score':f1_score(y_test, y_pred, average=\"micro\"),'hamming_loss':hamming_loss(y_test, y_pred),'accuracy':accuracy_score(y_test,y_pred)}\n",
    "scores_df = scores_df.append(arr,ignore_index=True)\n",
    "print(scores_df)\n",
    "print(classification_report(y_pred,y_test))\n"
   ]
  },
  {
   "cell_type": "code",
   "execution_count": null,
   "metadata": {
    "id": "SCaVzFxvCLmj"
   },
   "outputs": [],
   "source": [
    "print(\"=====================Bert CNN===========================\")\n",
    "inp = Input(shape=(max_seq_len,))\n",
    "\n",
    "x = Embedding(VOCAB_SIZE, 768, weights=[bert_embd_mat])(inp)\n",
    "x = layers.Conv1D(filters=128, kernel_size=5, activation='relu')(x)\n",
    "x = GlobalMaxPool1D()(x)\n",
    "x = Dense(64, activation=\"relu\")(x)\n",
    "x = Dropout(0.1)(x)\n",
    "x = Dense(32, activation='relu')(x)\n",
    "x = Dense(7, activation=\"sigmoid\")(x)\n",
    "model = Model(inputs=inp, outputs=x)\n",
    "model.compile(loss='binary_crossentropy', optimizer='adam', metrics=['accuracy'])\n",
    "\n",
    "model.fit(np.asarray(X_train),np.asarray(y_train), batch_size=256, epochs=3)\n",
    "y_pred = model.predict(np.asarray(X_test),batch_size=256, verbose=1)\n",
    "y_pred= np.where(y_pred > 0.5, 1, 0)\n",
    "\n",
    "arr={'model_name':'CNN_bert','micro_avg_f1_score':f1_score(y_test, y_pred, average=\"micro\"),'hamming_loss':hamming_loss(y_test, y_pred),'accuracy':accuracy_score(y_test,y_pred)}\n",
    "scores_df = scores_df.append(arr,ignore_index=True)\n",
    "print(scores_df)\n",
    "print(classification_report(y_pred,y_test))\n"
   ]
  },
  {
   "cell_type": "markdown",
   "metadata": {
    "id": "LX67ly932c2E"
   },
   "source": [
    "Summary of scores for all classical as well as deep learning models - "
   ]
  },
  {
   "cell_type": "code",
   "execution_count": null,
   "metadata": {
    "colab": {
     "base_uri": "https://localhost:8080/",
     "height": 269
    },
    "id": "vWftT7OgSKBf",
    "outputId": "dac51064-d5ae-4c1a-f035-61621ff1dcc1"
   },
   "outputs": [
    {
     "data": {
      "text/html": [
       "\n",
       "  <div id=\"df-511feb40-e225-49ab-bf5b-70afcb06f1fe\">\n",
       "    <div class=\"colab-df-container\">\n",
       "      <div>\n",
       "<style scoped>\n",
       "    .dataframe tbody tr th:only-of-type {\n",
       "        vertical-align: middle;\n",
       "    }\n",
       "\n",
       "    .dataframe tbody tr th {\n",
       "        vertical-align: top;\n",
       "    }\n",
       "\n",
       "    .dataframe thead th {\n",
       "        text-align: right;\n",
       "    }\n",
       "</style>\n",
       "<table border=\"1\" class=\"dataframe\">\n",
       "  <thead>\n",
       "    <tr style=\"text-align: right;\">\n",
       "      <th></th>\n",
       "      <th>model_name</th>\n",
       "      <th>micro_avg_f1_score</th>\n",
       "      <th>hamming_loss</th>\n",
       "      <th>accuracy</th>\n",
       "    </tr>\n",
       "  </thead>\n",
       "  <tbody>\n",
       "    <tr>\n",
       "      <th>0</th>\n",
       "      <td>BR</td>\n",
       "      <td>0.768250</td>\n",
       "      <td>0.076117</td>\n",
       "      <td>0.667180</td>\n",
       "    </tr>\n",
       "    <tr>\n",
       "      <th>1</th>\n",
       "      <td>Classifier_Chain</td>\n",
       "      <td>0.769028</td>\n",
       "      <td>0.076451</td>\n",
       "      <td>0.672111</td>\n",
       "    </tr>\n",
       "    <tr>\n",
       "      <th>2</th>\n",
       "      <td>One_vs_rest</td>\n",
       "      <td>0.765692</td>\n",
       "      <td>0.076117</td>\n",
       "      <td>0.667180</td>\n",
       "    </tr>\n",
       "    <tr>\n",
       "      <th>3</th>\n",
       "      <td>Label_Powerset</td>\n",
       "      <td>0.734849</td>\n",
       "      <td>0.082357</td>\n",
       "      <td>0.661941</td>\n",
       "    </tr>\n",
       "    <tr>\n",
       "      <th>4</th>\n",
       "      <td>Hierarchical_SVM</td>\n",
       "      <td>0.776746</td>\n",
       "      <td>0.073472</td>\n",
       "      <td>0.672265</td>\n",
       "    </tr>\n",
       "    <tr>\n",
       "      <th>5</th>\n",
       "      <td>CNN_glove</td>\n",
       "      <td>0.815412</td>\n",
       "      <td>0.078670</td>\n",
       "      <td>0.657473</td>\n",
       "    </tr>\n",
       "    <tr>\n",
       "      <th>6</th>\n",
       "      <td>BiLSTM_glove</td>\n",
       "      <td>0.828584</td>\n",
       "      <td>0.075083</td>\n",
       "      <td>0.667951</td>\n",
       "    </tr>\n",
       "  </tbody>\n",
       "</table>\n",
       "</div>\n",
       "      <button class=\"colab-df-convert\" onclick=\"convertToInteractive('df-511feb40-e225-49ab-bf5b-70afcb06f1fe')\"\n",
       "              title=\"Convert this dataframe to an interactive table.\"\n",
       "              style=\"display:none;\">\n",
       "        \n",
       "  <svg xmlns=\"http://www.w3.org/2000/svg\" height=\"24px\"viewBox=\"0 0 24 24\"\n",
       "       width=\"24px\">\n",
       "    <path d=\"M0 0h24v24H0V0z\" fill=\"none\"/>\n",
       "    <path d=\"M18.56 5.44l.94 2.06.94-2.06 2.06-.94-2.06-.94-.94-2.06-.94 2.06-2.06.94zm-11 1L8.5 8.5l.94-2.06 2.06-.94-2.06-.94L8.5 2.5l-.94 2.06-2.06.94zm10 10l.94 2.06.94-2.06 2.06-.94-2.06-.94-.94-2.06-.94 2.06-2.06.94z\"/><path d=\"M17.41 7.96l-1.37-1.37c-.4-.4-.92-.59-1.43-.59-.52 0-1.04.2-1.43.59L10.3 9.45l-7.72 7.72c-.78.78-.78 2.05 0 2.83L4 21.41c.39.39.9.59 1.41.59.51 0 1.02-.2 1.41-.59l7.78-7.78 2.81-2.81c.8-.78.8-2.07 0-2.86zM5.41 20L4 18.59l7.72-7.72 1.47 1.35L5.41 20z\"/>\n",
       "  </svg>\n",
       "      </button>\n",
       "      \n",
       "  <style>\n",
       "    .colab-df-container {\n",
       "      display:flex;\n",
       "      flex-wrap:wrap;\n",
       "      gap: 12px;\n",
       "    }\n",
       "\n",
       "    .colab-df-convert {\n",
       "      background-color: #E8F0FE;\n",
       "      border: none;\n",
       "      border-radius: 50%;\n",
       "      cursor: pointer;\n",
       "      display: none;\n",
       "      fill: #1967D2;\n",
       "      height: 32px;\n",
       "      padding: 0 0 0 0;\n",
       "      width: 32px;\n",
       "    }\n",
       "\n",
       "    .colab-df-convert:hover {\n",
       "      background-color: #E2EBFA;\n",
       "      box-shadow: 0px 1px 2px rgba(60, 64, 67, 0.3), 0px 1px 3px 1px rgba(60, 64, 67, 0.15);\n",
       "      fill: #174EA6;\n",
       "    }\n",
       "\n",
       "    [theme=dark] .colab-df-convert {\n",
       "      background-color: #3B4455;\n",
       "      fill: #D2E3FC;\n",
       "    }\n",
       "\n",
       "    [theme=dark] .colab-df-convert:hover {\n",
       "      background-color: #434B5C;\n",
       "      box-shadow: 0px 1px 3px 1px rgba(0, 0, 0, 0.15);\n",
       "      filter: drop-shadow(0px 1px 2px rgba(0, 0, 0, 0.3));\n",
       "      fill: #FFFFFF;\n",
       "    }\n",
       "  </style>\n",
       "\n",
       "      <script>\n",
       "        const buttonEl =\n",
       "          document.querySelector('#df-511feb40-e225-49ab-bf5b-70afcb06f1fe button.colab-df-convert');\n",
       "        buttonEl.style.display =\n",
       "          google.colab.kernel.accessAllowed ? 'block' : 'none';\n",
       "\n",
       "        async function convertToInteractive(key) {\n",
       "          const element = document.querySelector('#df-511feb40-e225-49ab-bf5b-70afcb06f1fe');\n",
       "          const dataTable =\n",
       "            await google.colab.kernel.invokeFunction('convertToInteractive',\n",
       "                                                     [key], {});\n",
       "          if (!dataTable) return;\n",
       "\n",
       "          const docLinkHtml = 'Like what you see? Visit the ' +\n",
       "            '<a target=\"_blank\" href=https://colab.research.google.com/notebooks/data_table.ipynb>data table notebook</a>'\n",
       "            + ' to learn more about interactive tables.';\n",
       "          element.innerHTML = '';\n",
       "          dataTable['output_type'] = 'display_data';\n",
       "          await google.colab.output.renderOutput(dataTable, element);\n",
       "          const docLink = document.createElement('div');\n",
       "          docLink.innerHTML = docLinkHtml;\n",
       "          element.appendChild(docLink);\n",
       "        }\n",
       "      </script>\n",
       "    </div>\n",
       "  </div>\n",
       "  "
      ],
      "text/plain": [
       "         model_name  micro_avg_f1_score  hamming_loss  accuracy\n",
       "0                BR            0.768250      0.076117  0.667180\n",
       "1  Classifier_Chain            0.769028      0.076451  0.672111\n",
       "2       One_vs_rest            0.765692      0.076117  0.667180\n",
       "3    Label_Powerset            0.734849      0.082357  0.661941\n",
       "4  Hierarchical_SVM            0.776746      0.073472  0.672265\n",
       "5         CNN_glove            0.815412      0.078670  0.657473\n",
       "6      BiLSTM_glove            0.828584      0.075083  0.667951"
      ]
     },
     "execution_count": 56,
     "metadata": {},
     "output_type": "execute_result"
    }
   ],
   "source": [
    "scores_df"
   ]
  },
  {
   "cell_type": "code",
   "execution_count": null,
   "metadata": {
    "id": "Glgo1Vi7Ey8E"
   },
   "outputs": [],
   "source": [
    "# import torch\n",
    "# import torch.nn as nn\n",
    "# import torch.optim as optim\n",
    "\n",
    "# class GraphConvLayer(nn.Module):\n",
    "#     def __init__(self, input_dim, output_dim):\n",
    "#         super(GraphConvLayer, self).__init__()\n",
    "#         self.linear = nn.Linear(input_dim, output_dim)\n",
    "\n",
    "#     def forward(self, x, adj):\n",
    "#         x = self.linear(x)\n",
    "#         print(x.shape, adj.shape)\n",
    "#         # x = torch.matmul(adj, x.unsqueeze(2)).squeeze(2)\n",
    "#         x = torch.matmul(adj, x)\n",
    "#         return x\n",
    "\n",
    "# class GraphNeuralNetwork(nn.Module):\n",
    "#     def __init__(self, input_dim, hidden_dim, output_dim,embeddings):\n",
    "#         super(GraphNeuralNetwork, self).__init__()\n",
    "#         self.embedding = nn.Embedding.from_pretrained(embeddings)\n",
    "#         self.conv1 = GraphConvLayer(input_dim, hidden_dim)\n",
    "#         self.conv2 = GraphConvLayer(hidden_dim, output_dim)\n",
    "#         self.relu = nn.ReLU()\n",
    "#         self.softmax = nn.Softmax(dim=1)\n",
    "\n",
    "#     def forward(self, x, adj):\n",
    "#         x = self.embedding(x)\n",
    "#         x = self.relu(self.conv1(x, adj))\n",
    "#         x = self.softmax(self.conv2(x, adj))\n",
    "#         return x"
   ]
  },
  {
   "cell_type": "code",
   "execution_count": null,
   "metadata": {
    "colab": {
     "base_uri": "https://localhost:8080/"
    },
    "id": "wsNbWlRPL3m1",
    "outputId": "7cd0443e-eabb-40e6-e794-2842c91277dc"
   },
   "outputs": [
    {
     "data": {
      "text/plain": [
       "tensor([[1.0000, 0.1064, 0.5177, 0.0284, 0.4815, 0.0860, 0.0000],\n",
       "        [1.0000, 1.0000, 0.9509, 0.0675, 0.8611, 0.1972, 0.0000],\n",
       "        [0.9395, 0.1836, 1.0000, 0.0350, 0.7304, 0.1226, 0.0000],\n",
       "        [0.9380, 0.2372, 0.6361, 1.0000, 0.6577, 0.2022, 0.0000],\n",
       "        [0.9339, 0.1777, 0.7806, 0.0387, 1.0000, 0.1481, 0.0000],\n",
       "        [0.9213, 0.2248, 0.7235, 0.0656, 0.8180, 1.0000, 0.0000],\n",
       "        [0.0000, 0.0000, 0.0000, 0.0000, 0.0000, 0.0000, 1.0000]],\n",
       "       dtype=torch.float64)"
      ]
     },
     "execution_count": 182,
     "metadata": {},
     "output_type": "execute_result"
    }
   ],
   "source": [
    "# adj_matrix = create_adjacency_matrix_cooccurance(y_train.numpy())\n",
    "# adj_matrix = torch.tensor(adj_matrix)\n",
    "# adj_matrix"
   ]
  },
  {
   "cell_type": "code",
   "execution_count": null,
   "metadata": {
    "id": "AaWA_zMCE2aV"
   },
   "outputs": [],
   "source": [
    "\n",
    "# input_dim = 300  # Dimension of input features\n",
    "# hidden_dim = 250  # Hidden dimension in the GNN\n",
    "# output_dim = y_train.shape[1]  # Dimension of output labels\n",
    "# device = torch.device(\"cuda\" if torch.cuda.is_available() else \"cpu\")\n",
    "# model = GraphNeuralNetwork(input_dim, hidden_dim, output_dim, glove_embedding_matrix).to(device)\n",
    "\n",
    "# # Define loss function and optimizer\n",
    "# loss_function = nn.BCEWithLogitsLoss()\n",
    "# optimizer = optim.Adam(model.parameters(), lr=0.01)\n",
    "\n",
    "# train_data = DataLoader(dataset(X_train, y_train), batch_size=256)\n",
    "# # Training loop\n",
    "# num_epochs = 10\n",
    "# for epoch in range(num_epochs):\n",
    "#     tl=0\n",
    "#     for i, (X,y) in enumerate(train_data):\n",
    "#       optimizer.zero_grad()\n",
    "#       print(X.shape, y.shape)\n",
    "#       output = model(X.to(device), adj_matrix.to(device))\n",
    "#       loss = loss_function(output, y_train).to(device)\n",
    "#       tl += loss.item()\n",
    "#       loss.backward()\n",
    "#       optimizer.step()\n",
    "#     print(f\"Epoch {epoch+1}/{num_epochs}, Loss: {tl}\")\n",
    "\n",
    "# # Once trained, you can use the trained model for prediction\n",
    "# # output = model(X_test, adj_matrix)\n",
    "# # y_ = torch.sigmoid(output)  # Apply sigmoid activation for multilabel classification\n"
   ]
  },
  {
   "cell_type": "code",
   "execution_count": null,
   "metadata": {
    "id": "Pz3mNci4wEbP"
   },
   "outputs": [],
   "source": []
  },
  {
   "cell_type": "code",
   "execution_count": null,
   "metadata": {
    "id": "rFfoFUOWjchi"
   },
   "outputs": [],
   "source": [
    "# adj_matrix = torch.randn(7, 7)"
   ]
  },
  {
   "cell_type": "code",
   "execution_count": null,
   "metadata": {
    "id": "grHZPqiJPPEp"
   },
   "outputs": [],
   "source": [
    "def train(model, X_train, label_embedding, y_train,\n",
    "          total_epoch=250, batch_size=250, learning_rate=0.001,\n",
    "          save_path='./model.pt', state=None):\n",
    "  \n",
    "    device = torch.device(\"cuda\" if torch.cuda.is_available() else \"cpu\")\n",
    "    model = model.to(device)\n",
    "    label_embedding = label_embedding.to(device)\n",
    "    criterion = nn.BCEWithLogitsLoss()\n",
    "    optimizer = optim.Adam(model.parameters(), lr=learning_rate)\n",
    "    train_data = DataLoader(dataset(X_train, y_train), batch_size=batch_size)\n",
    "  \n",
    "    best_loss = float('inf')\n",
    "    num_increasing_epochs = 0\n",
    "  \n",
    "    for epoch in range(1, total_epoch + 1):\n",
    "        running_loss = 0\n",
    "        y_pred = []\n",
    "        epoch_time = 0\n",
    "        model.train()\n",
    "      \n",
    "        for index, (X, y) in enumerate(train_data):\n",
    "            optimizer.zero_grad()\n",
    "            out = model(X.to(device), label_embedding)\n",
    "            loss = criterion(out, y.to(device).float())\n",
    "            loss.backward()\n",
    "            nn.utils.clip_grad_norm_(model.parameters(), max_norm=10)\n",
    "            optimizer.step()\n",
    "            y_pred.append(torch.sigmoid(out.detach()).round().cpu())\n",
    "            running_loss += loss.item()\n",
    "    \n",
    "        y_pred = torch.vstack(y_pred)\n",
    "        f1score = f1_score(y_train, y_pred, average='micro')\n",
    "        hammingloss = hamming_loss(y_train, y_pred)\n",
    "        print(f'epoch:{epoch} loss:{running_loss:.5f} hamming_loss:{hammingloss:.5f} micro_f1score:{f1score:.5f}')\n"
   ]
  },
  {
   "cell_type": "markdown",
   "metadata": {
    "id": "gnEgDAiS2rUo"
   },
   "source": [
    "**The MAGNET CLASS**\n",
    "\n",
    "Here we will initialize the adjacency matrix using three methods - \n",
    "* Cooccurance intialization\n",
    "* Xaviour initialization\n",
    "* Random initialization\n",
    "\n",
    "Then we will be training the model using glove embeddings. "
   ]
  },
  {
   "cell_type": "code",
   "execution_count": null,
   "metadata": {
    "id": "ZCYRX5MHT8lO"
   },
   "outputs": [],
   "source": [
    "class MAGNET(nn.Module):\n",
    "  def __init__(self, input_size, hidden_size, adjacency, embeddings, heads=4, slope=0.01, dropout=0.5):\n",
    "    super(MAGNET, self).__init__()\n",
    "    self.embedding = nn.Embedding.from_pretrained(embeddings)\n",
    "    self.biLSTM = nn.LSTM(input_size,hidden_size,batch_first=True,bidirectional=True)\n",
    "    self.adjacency = nn.Parameter(adjacency)\n",
    "    self.dropout = nn.Dropout(dropout)\n",
    "    self.edge_weights = nn.Linear(hidden_size*2*2, 1, bias=False)\n",
    "    self.activation = nn.LeakyReLU(slope)\n",
    "    self.softmax = nn.Softmax(dim=1)\n",
    "    self.tanh = nn.Tanh()\n",
    "    self.heads = heads\n",
    "    self.transform_dim1 = nn.Linear(input_size, hidden_size*2, bias=False)\n",
    "    self.transform_dim2 = nn.Linear(hidden_size*2, hidden_size*2, bias=False)\n",
    "    self.transform_dimensions = [self.transform_dim1, self.transform_dim2]\n",
    " \n",
    "  def forward(self, token, label_embedding):\n",
    "      #BILSTM part\n",
    "      features = self.embedding(token)\n",
    "      out, (h, _) = self.biLSTM(features)\n",
    "      embedding = torch.cat([h[-2, :, :], h[-1, :, :]], dim=1)\n",
    "      embedding = self.dropout(embedding)\n",
    "\n",
    "      #GAT PART\n",
    "      for td in self.transform_dimensions: #Two Multiheaded GAT layers\n",
    "        outputs = []\n",
    "        for head in range(self.heads):\n",
    "          label_embed = td(label_embedding)   \n",
    "          n, embed_size = label_embed.shape\n",
    "\n",
    "          label_embed_combinations = label_embed.unsqueeze(1).expand(-1, n, -1)\n",
    "          label_embed_combinations = torch.cat([label_embed_combinations, label_embed.unsqueeze(0).expand(n, -1, -1)], dim=2)\n",
    "          e = self.activation(self.edge_weights(label_embed_combinations).squeeze(2))\n",
    "\n",
    "          attention_coefficients = self.tanh(torch.mul(e,self.adjacency))\n",
    "\n",
    "          new_h = torch.matmul(attention_coefficients.to(label_embed.dtype), label_embed)\n",
    "          outputs.append(new_h)\n",
    "        outputs = self.activation(torch.mean(torch.stack(outputs, dim=0),dim=0))\n",
    "\n",
    "        label_embedding = outputs\n",
    "      attention_features = self.dropout(label_embedding)\n",
    "      attention_features = attention_features.transpose(0, 1) \n",
    "      predicted_labels = torch.matmul(embedding, attention_features)\n",
    "      return predicted_labels"
   ]
  },
  {
   "cell_type": "code",
   "execution_count": null,
   "metadata": {
    "id": "mRnu0sbvYtfp"
   },
   "outputs": [],
   "source": [
    "save_path = './glove_magnet_model.pth'"
   ]
  },
  {
   "cell_type": "markdown",
   "metadata": {
    "id": "wwSOrRqw2xRX"
   },
   "source": [
    "**Initializing using cooccurance matrix.**"
   ]
  },
  {
   "cell_type": "code",
   "execution_count": null,
   "metadata": {
    "colab": {
     "base_uri": "https://localhost:8080/"
    },
    "id": "tVECE46ej14p",
    "outputId": "d806a2fd-86a0-4846-cc24-69520faa5d6b"
   },
   "outputs": [
    {
     "data": {
      "text/plain": [
       "tensor([[1.0000, 0.1064, 0.5177, 0.0284, 0.4815, 0.0860, 0.0000],\n",
       "        [1.0000, 1.0000, 0.9509, 0.0675, 0.8611, 0.1972, 0.0000],\n",
       "        [0.9395, 0.1836, 1.0000, 0.0350, 0.7304, 0.1226, 0.0000],\n",
       "        [0.9380, 0.2372, 0.6361, 1.0000, 0.6577, 0.2022, 0.0000],\n",
       "        [0.9339, 0.1777, 0.7806, 0.0387, 1.0000, 0.1481, 0.0000],\n",
       "        [0.9213, 0.2248, 0.7235, 0.0656, 0.8180, 1.0000, 0.0000],\n",
       "        [0.0000, 0.0000, 0.0000, 0.0000, 0.0000, 0.0000, 1.0000]],\n",
       "       dtype=torch.float64)"
      ]
     },
     "execution_count": 28,
     "metadata": {},
     "output_type": "execute_result"
    }
   ],
   "source": [
    "adj_matrix = create_adjacency_matrix_cooccurance(y_train.numpy())\n",
    "adj_matrix = torch.tensor(adj_matrix)\n",
    "adj_matrix"
   ]
  },
  {
   "cell_type": "code",
   "execution_count": null,
   "metadata": {
    "id": "TsidK00lw0-g"
   },
   "outputs": [],
   "source": [
    "model = MAGNET(300, 250, adj_matrix, glove_embedding_matrix,heads=8)"
   ]
  },
  {
   "cell_type": "code",
   "execution_count": null,
   "metadata": {
    "colab": {
     "base_uri": "https://localhost:8080/"
    },
    "id": "M2Pk7zRyjm_6",
    "outputId": "209cf9f1-d335-4f8e-8bbd-529e584396a7"
   },
   "outputs": [
    {
     "name": "stdout",
     "output_type": "stream",
     "text": [
      "epoch:1 loss:42.00155 hamming_loss:0.21614 micro_f1score:0.31529\n",
      "epoch:2 loss:26.34696 hamming_loss:0.10193 micro_f1score:0.76203\n",
      "epoch:3 loss:23.10602 hamming_loss:0.08924 micro_f1score:0.79374\n",
      "epoch:4 loss:21.62392 hamming_loss:0.08436 micro_f1score:0.80539\n",
      "epoch:5 loss:20.82383 hamming_loss:0.08149 micro_f1score:0.81237\n",
      "epoch:6 loss:19.96281 hamming_loss:0.07824 micro_f1score:0.82001\n",
      "epoch:7 loss:19.44956 hamming_loss:0.07678 micro_f1score:0.82343\n",
      "epoch:8 loss:18.98440 hamming_loss:0.07506 micro_f1score:0.82763\n",
      "epoch:9 loss:18.26785 hamming_loss:0.07254 micro_f1score:0.83354\n",
      "epoch:10 loss:17.87156 hamming_loss:0.07102 micro_f1score:0.83690\n",
      "epoch:11 loss:16.98031 hamming_loss:0.06738 micro_f1score:0.84586\n",
      "epoch:12 loss:16.91331 hamming_loss:0.06763 micro_f1score:0.84598\n",
      "epoch:13 loss:16.10156 hamming_loss:0.06499 micro_f1score:0.85160\n",
      "epoch:14 loss:15.34780 hamming_loss:0.06219 micro_f1score:0.85844\n",
      "epoch:15 loss:14.77733 hamming_loss:0.06005 micro_f1score:0.86325\n",
      "epoch:16 loss:14.56726 hamming_loss:0.05904 micro_f1score:0.86575\n",
      "epoch:17 loss:14.12070 hamming_loss:0.05745 micro_f1score:0.86943\n",
      "epoch:18 loss:13.89544 hamming_loss:0.05594 micro_f1score:0.87284\n",
      "epoch:19 loss:13.54217 hamming_loss:0.05474 micro_f1score:0.87575\n",
      "epoch:20 loss:15.74666 hamming_loss:0.06126 micro_f1score:0.86093\n",
      "epoch:21 loss:13.03494 hamming_loss:0.05337 micro_f1score:0.87929\n",
      "epoch:22 loss:12.66858 hamming_loss:0.05210 micro_f1score:0.88236\n",
      "epoch:23 loss:12.33123 hamming_loss:0.05074 micro_f1score:0.88537\n",
      "epoch:24 loss:11.91892 hamming_loss:0.04893 micro_f1score:0.88953\n",
      "epoch:25 loss:11.55608 hamming_loss:0.04751 micro_f1score:0.89307\n",
      "epoch:26 loss:11.07241 hamming_loss:0.04598 micro_f1score:0.89661\n",
      "epoch:27 loss:10.67259 hamming_loss:0.04428 micro_f1score:0.90035\n",
      "epoch:28 loss:10.44831 hamming_loss:0.04342 micro_f1score:0.90236\n",
      "epoch:29 loss:10.49969 hamming_loss:0.04306 micro_f1score:0.90326\n",
      "epoch:30 loss:10.40132 hamming_loss:0.04342 micro_f1score:0.90248\n",
      "epoch:31 loss:9.97144 hamming_loss:0.04121 micro_f1score:0.90749\n",
      "epoch:32 loss:9.74523 hamming_loss:0.04043 micro_f1score:0.90932\n",
      "epoch:33 loss:9.50815 hamming_loss:0.03931 micro_f1score:0.91179\n",
      "epoch:34 loss:9.17357 hamming_loss:0.03781 micro_f1score:0.91526\n",
      "epoch:35 loss:8.97913 hamming_loss:0.03713 micro_f1score:0.91691\n",
      "epoch:36 loss:8.88504 hamming_loss:0.03724 micro_f1score:0.91673\n",
      "epoch:37 loss:8.71159 hamming_loss:0.03616 micro_f1score:0.91900\n",
      "epoch:38 loss:8.53744 hamming_loss:0.03555 micro_f1score:0.92045\n",
      "epoch:39 loss:8.41028 hamming_loss:0.03539 micro_f1score:0.92076\n",
      "epoch:40 loss:8.16300 hamming_loss:0.03420 micro_f1score:0.92363\n",
      "epoch:41 loss:8.04597 hamming_loss:0.03378 micro_f1score:0.92457\n",
      "epoch:42 loss:7.94433 hamming_loss:0.03278 micro_f1score:0.92669\n",
      "epoch:43 loss:7.44690 hamming_loss:0.03111 micro_f1score:0.93049\n",
      "epoch:44 loss:7.27314 hamming_loss:0.03026 micro_f1score:0.93242\n",
      "epoch:45 loss:7.01415 hamming_loss:0.02935 micro_f1score:0.93447\n",
      "epoch:46 loss:6.96678 hamming_loss:0.02884 micro_f1score:0.93564\n",
      "epoch:47 loss:6.99887 hamming_loss:0.02897 micro_f1score:0.93532\n",
      "epoch:48 loss:7.14776 hamming_loss:0.02936 micro_f1score:0.93443\n",
      "epoch:49 loss:6.52055 hamming_loss:0.02690 micro_f1score:0.93999\n",
      "epoch:50 loss:6.52035 hamming_loss:0.02660 micro_f1score:0.94065\n"
     ]
    }
   ],
   "source": [
    "#Coocurance initialization\n",
    "train(model, X_train, glove_label_embeddings,y_train,total_epoch=50, save_path=save_path)"
   ]
  },
  {
   "cell_type": "code",
   "execution_count": null,
   "metadata": {
    "id": "X3Z_aVdr-S19"
   },
   "outputs": [],
   "source": [
    "torch.save(model,save_path)"
   ]
  },
  {
   "cell_type": "code",
   "execution_count": null,
   "metadata": {
    "colab": {
     "base_uri": "https://localhost:8080/"
    },
    "id": "W24AhoVHccPp",
    "outputId": "1351d1f4-79b0-458c-ea47-4db207be5bcb"
   },
   "outputs": [
    {
     "name": "stderr",
     "output_type": "stream",
     "text": [
      "100%|██████████| 6490/6490 [00:48<00:00, 132.56it/s]\n"
     ]
    }
   ],
   "source": [
    "y_pred = []\n",
    "device = torch.device(\"cuda\" if torch.cuda.is_available() else \"cpu\")\n",
    "for i in tqdm(range(X_test.shape[0])):\n",
    "  x = X_test[i].view(1,100)\n",
    "  out = model(x.to(device), glove_label_embeddings.to(device))\n",
    "  y_pred.append(torch.sigmoid(out.detach()).round().cpu())"
   ]
  },
  {
   "cell_type": "code",
   "execution_count": null,
   "metadata": {
    "id": "8I8DK0HtdW62"
   },
   "outputs": [],
   "source": [
    "y_pred = torch.vstack(y_pred)"
   ]
  },
  {
   "cell_type": "code",
   "execution_count": null,
   "metadata": {
    "colab": {
     "base_uri": "https://localhost:8080/"
    },
    "id": "GvLGZavIdJRd",
    "outputId": "cdf40b99-a1ce-4825-ee8d-7ac5201bafd1"
   },
   "outputs": [
    {
     "name": "stdout",
     "output_type": "stream",
     "text": [
      "{'model_name': 'MAGNET_Cooccurance', 'micro_avg_f1_score': 0.7934177464649947, 'hamming_loss': 0.09229583975346688, 'accuracy': 0.6140215716486903}\n",
      "              precision    recall  f1-score   support\n",
      "\n",
      "           0       0.85      0.86      0.85      3001\n",
      "           1       0.37      0.36      0.36       298\n",
      "           2       0.75      0.79      0.77      1607\n",
      "           3       0.18      0.43      0.25        44\n",
      "           4       0.67      0.68      0.68      1536\n",
      "           5       0.44      0.46      0.45       251\n",
      "           6       0.90      0.87      0.88      3339\n",
      "\n",
      "   micro avg       0.79      0.80      0.79     10076\n",
      "   macro avg       0.59      0.64      0.61     10076\n",
      "weighted avg       0.79      0.80      0.80     10076\n",
      " samples avg       0.81      0.80      0.78     10076\n",
      "\n"
     ]
    },
    {
     "name": "stderr",
     "output_type": "stream",
     "text": [
      "/usr/local/lib/python3.10/dist-packages/sklearn/metrics/_classification.py:1344: UndefinedMetricWarning: Recall and F-score are ill-defined and being set to 0.0 in samples with no true labels. Use `zero_division` parameter to control this behavior.\n",
      "  _warn_prf(average, modifier, msg_start, len(result))\n"
     ]
    }
   ],
   "source": [
    "arr={'model_name':'MAGNET_Cooccurance','micro_avg_f1_score':f1_score(y_test, y_pred, average=\"micro\"),'hamming_loss':hamming_loss(y_test, y_pred),'accuracy':accuracy_score(y_test,y_pred)}\n",
    "# scores_df = scores_df.append(arr,ignore_index=True)\n",
    "print(arr)\n",
    "print(classification_report(y_pred,y_test))"
   ]
  },
  {
   "cell_type": "markdown",
   "metadata": {
    "id": "9kYKW9Er22ye"
   },
   "source": [
    "**Xaviour's initialization**"
   ]
  },
  {
   "cell_type": "code",
   "execution_count": null,
   "metadata": {
    "colab": {
     "base_uri": "https://localhost:8080/"
    },
    "id": "pOZZyRLDese9",
    "outputId": "cf7b5f9e-c596-4203-8eea-27e4a40724c4"
   },
   "outputs": [
    {
     "name": "stderr",
     "output_type": "stream",
     "text": [
      "<ipython-input-64-f66315f0aa9a>:2: UserWarning: To copy construct from a tensor, it is recommended to use sourceTensor.clone().detach() or sourceTensor.clone().detach().requires_grad_(True), rather than torch.tensor(sourceTensor).\n",
      "  adj_matrix = torch.tensor(adj_matrix)\n"
     ]
    },
    {
     "data": {
      "text/plain": [
       "tensor([[ 0.5724, -0.2907, -0.5935, -0.1678, -0.3640,  0.6305,  0.1413],\n",
       "        [-0.3767, -0.4491, -0.1317, -0.3240, -0.4961, -0.2636, -0.3426],\n",
       "        [ 0.1393, -0.3582, -0.0219, -0.0592, -0.1004, -0.5549, -0.3266],\n",
       "        [ 0.4378, -0.0328, -0.4516, -0.3266,  0.4856,  0.3628, -0.0195],\n",
       "        [-0.3437,  0.2951,  0.6149,  0.4478,  0.4687,  0.0273, -0.4245],\n",
       "        [ 0.1250, -0.0474, -0.3595,  0.6054,  0.3584,  0.4017, -0.0841],\n",
       "        [-0.0154,  0.3555,  0.1391,  0.5880,  0.0148,  0.4679, -0.5166]])"
      ]
     },
     "execution_count": 64,
     "metadata": {},
     "output_type": "execute_result"
    }
   ],
   "source": [
    "adj_matrix = create_adjacency_matrix_xavier(y_train.numpy())\n",
    "adj_matrix = torch.tensor(adj_matrix)\n",
    "adj_matrix"
   ]
  },
  {
   "cell_type": "code",
   "execution_count": null,
   "metadata": {
    "id": "UVfju6CZe8GH"
   },
   "outputs": [],
   "source": [
    "model = MAGNET(300, 250, adj_matrix, glove_embedding_matrix,heads=8)"
   ]
  },
  {
   "cell_type": "code",
   "execution_count": null,
   "metadata": {
    "colab": {
     "base_uri": "https://localhost:8080/"
    },
    "id": "coBdedeNPZKY",
    "outputId": "64b2c32d-02a1-4f7f-cbab-4b5ff1f52ab6"
   },
   "outputs": [
    {
     "name": "stdout",
     "output_type": "stream",
     "text": [
      "epoch:1 loss:33.04614 hamming_loss:0.13466 micro_f1score:0.67637\n",
      "epoch:2 loss:25.92534 hamming_loss:0.09942 micro_f1score:0.76756\n",
      "epoch:3 loss:24.17178 hamming_loss:0.09243 micro_f1score:0.78498\n",
      "epoch:4 loss:23.23519 hamming_loss:0.08903 micro_f1score:0.79357\n",
      "epoch:5 loss:22.04953 hamming_loss:0.08525 micro_f1score:0.80332\n",
      "epoch:6 loss:21.23165 hamming_loss:0.08241 micro_f1score:0.81045\n",
      "epoch:7 loss:20.69443 hamming_loss:0.08056 micro_f1score:0.81434\n",
      "epoch:8 loss:19.82300 hamming_loss:0.07780 micro_f1score:0.82185\n",
      "epoch:9 loss:19.78283 hamming_loss:0.07704 micro_f1score:0.82328\n",
      "epoch:10 loss:19.27693 hamming_loss:0.07553 micro_f1score:0.82715\n",
      "epoch:11 loss:18.45850 hamming_loss:0.07228 micro_f1score:0.83496\n",
      "epoch:12 loss:18.12489 hamming_loss:0.07101 micro_f1score:0.83771\n",
      "epoch:13 loss:17.47616 hamming_loss:0.06777 micro_f1score:0.84581\n",
      "epoch:14 loss:17.28810 hamming_loss:0.06711 micro_f1score:0.84722\n",
      "epoch:15 loss:16.68447 hamming_loss:0.06477 micro_f1score:0.85265\n",
      "epoch:16 loss:17.29733 hamming_loss:0.06752 micro_f1score:0.84640\n",
      "epoch:17 loss:17.88668 hamming_loss:0.06965 micro_f1score:0.84125\n",
      "epoch:18 loss:15.96795 hamming_loss:0.06234 micro_f1score:0.85870\n",
      "epoch:19 loss:15.19938 hamming_loss:0.05969 micro_f1score:0.86478\n",
      "epoch:20 loss:14.36214 hamming_loss:0.05642 micro_f1score:0.87261\n",
      "epoch:21 loss:14.21532 hamming_loss:0.05597 micro_f1score:0.87350\n",
      "epoch:22 loss:13.52723 hamming_loss:0.05307 micro_f1score:0.88038\n",
      "epoch:23 loss:13.48493 hamming_loss:0.05283 micro_f1score:0.88092\n",
      "epoch:24 loss:13.49624 hamming_loss:0.05342 micro_f1score:0.87974\n",
      "epoch:25 loss:13.28949 hamming_loss:0.05271 micro_f1score:0.88143\n",
      "epoch:26 loss:12.71347 hamming_loss:0.04958 micro_f1score:0.88849\n",
      "epoch:27 loss:12.25193 hamming_loss:0.04755 micro_f1score:0.89340\n",
      "epoch:28 loss:11.82840 hamming_loss:0.04603 micro_f1score:0.89691\n",
      "epoch:29 loss:11.44363 hamming_loss:0.04445 micro_f1score:0.90030\n",
      "epoch:30 loss:11.19343 hamming_loss:0.04350 micro_f1score:0.90247\n",
      "epoch:31 loss:10.59212 hamming_loss:0.04143 micro_f1score:0.90742\n",
      "epoch:32 loss:10.66802 hamming_loss:0.04119 micro_f1score:0.90779\n",
      "epoch:33 loss:10.37156 hamming_loss:0.04064 micro_f1score:0.90916\n",
      "epoch:34 loss:10.16064 hamming_loss:0.03939 micro_f1score:0.91206\n",
      "epoch:35 loss:9.72657 hamming_loss:0.03768 micro_f1score:0.91584\n",
      "epoch:36 loss:9.41752 hamming_loss:0.03752 micro_f1score:0.91618\n",
      "epoch:37 loss:8.88864 hamming_loss:0.03494 micro_f1score:0.92203\n",
      "epoch:38 loss:8.55753 hamming_loss:0.03331 micro_f1score:0.92581\n",
      "epoch:39 loss:8.66529 hamming_loss:0.03383 micro_f1score:0.92454\n",
      "epoch:40 loss:8.34255 hamming_loss:0.03270 micro_f1score:0.92711\n",
      "epoch:41 loss:8.02438 hamming_loss:0.03145 micro_f1score:0.92997\n",
      "epoch:42 loss:8.10450 hamming_loss:0.03139 micro_f1score:0.93007\n",
      "epoch:43 loss:8.25567 hamming_loss:0.03204 micro_f1score:0.92861\n",
      "epoch:44 loss:7.87600 hamming_loss:0.03068 micro_f1score:0.93163\n",
      "epoch:45 loss:7.80026 hamming_loss:0.03007 micro_f1score:0.93311\n",
      "epoch:46 loss:7.51957 hamming_loss:0.02898 micro_f1score:0.93549\n",
      "epoch:47 loss:7.40309 hamming_loss:0.02827 micro_f1score:0.93703\n",
      "epoch:48 loss:7.08078 hamming_loss:0.02738 micro_f1score:0.93905\n",
      "epoch:49 loss:17.37140 hamming_loss:0.05475 micro_f1score:0.87899\n",
      "epoch:50 loss:12.06504 hamming_loss:0.04157 micro_f1score:0.90759\n"
     ]
    }
   ],
   "source": [
    "#Xavier Initialization\n",
    "train(model, X_train, glove_label_embeddings,y_train,total_epoch=50, save_path=save_path)"
   ]
  },
  {
   "cell_type": "code",
   "execution_count": null,
   "metadata": {
    "colab": {
     "base_uri": "https://localhost:8080/"
    },
    "id": "RWyUpdSCmg4L",
    "outputId": "04746dda-4088-451b-ed32-cee7e66c6534"
   },
   "outputs": [
    {
     "name": "stdout",
     "output_type": "stream",
     "text": [
      "epoch:1 loss:7.99771 hamming_loss:0.03299 micro_f1score:0.92643\n",
      "epoch:2 loss:7.75173 hamming_loss:0.03184 micro_f1score:0.92900\n",
      "epoch:3 loss:7.31711 hamming_loss:0.03035 micro_f1score:0.93244\n",
      "epoch:4 loss:7.19163 hamming_loss:0.02941 micro_f1score:0.93448\n",
      "epoch:5 loss:6.99891 hamming_loss:0.02856 micro_f1score:0.93654\n",
      "epoch:6 loss:6.90241 hamming_loss:0.02820 micro_f1score:0.93724\n",
      "epoch:7 loss:6.96195 hamming_loss:0.02832 micro_f1score:0.93705\n",
      "epoch:8 loss:6.91062 hamming_loss:0.02807 micro_f1score:0.93750\n",
      "epoch:9 loss:6.78423 hamming_loss:0.02742 micro_f1score:0.93915\n",
      "epoch:10 loss:6.62988 hamming_loss:0.02698 micro_f1score:0.93999\n",
      "epoch:11 loss:6.60798 hamming_loss:0.02633 micro_f1score:0.94138\n",
      "epoch:12 loss:6.48195 hamming_loss:0.02613 micro_f1score:0.94188\n",
      "epoch:13 loss:6.30166 hamming_loss:0.02558 micro_f1score:0.94312\n",
      "epoch:14 loss:6.03807 hamming_loss:0.02411 micro_f1score:0.94635\n",
      "epoch:15 loss:6.12789 hamming_loss:0.02502 micro_f1score:0.94435\n",
      "epoch:16 loss:6.05874 hamming_loss:0.02434 micro_f1score:0.94593\n",
      "epoch:17 loss:6.18370 hamming_loss:0.02446 micro_f1score:0.94559\n",
      "epoch:18 loss:6.02611 hamming_loss:0.02398 micro_f1score:0.94665\n",
      "epoch:19 loss:6.12102 hamming_loss:0.02444 micro_f1score:0.94566\n",
      "epoch:20 loss:5.84406 hamming_loss:0.02362 micro_f1score:0.94753\n",
      "epoch:21 loss:5.41376 hamming_loss:0.02208 micro_f1score:0.95099\n",
      "epoch:22 loss:5.44650 hamming_loss:0.02176 micro_f1score:0.95169\n",
      "epoch:23 loss:5.46210 hamming_loss:0.02184 micro_f1score:0.95144\n",
      "epoch:24 loss:5.29211 hamming_loss:0.02117 micro_f1score:0.95299\n",
      "epoch:25 loss:5.35080 hamming_loss:0.02138 micro_f1score:0.95248\n",
      "epoch:26 loss:5.07956 hamming_loss:0.02035 micro_f1score:0.95478\n",
      "epoch:27 loss:4.91959 hamming_loss:0.01928 micro_f1score:0.95718\n",
      "epoch:28 loss:5.65834 hamming_loss:0.02143 micro_f1score:0.95236\n",
      "epoch:29 loss:5.12640 hamming_loss:0.02002 micro_f1score:0.95552\n",
      "epoch:30 loss:5.52373 hamming_loss:0.02089 micro_f1score:0.95353\n"
     ]
    }
   ],
   "source": [
    "train(model, X_train, glove_label_embeddings,y_train,total_epoch=30, save_path=save_path)"
   ]
  },
  {
   "cell_type": "code",
   "execution_count": null,
   "metadata": {
    "colab": {
     "base_uri": "https://localhost:8080/"
    },
    "id": "v-V01XOwe_9i",
    "outputId": "d6cc284b-aae6-4064-8034-a6f52da7f3d5"
   },
   "outputs": [
    {
     "name": "stderr",
     "output_type": "stream",
     "text": [
      "100%|██████████| 6490/6490 [00:51<00:00, 127.01it/s]\n"
     ]
    }
   ],
   "source": [
    "y_pred = []\n",
    "device = torch.device(\"cuda\" if torch.cuda.is_available() else \"cpu\")\n",
    "for i in tqdm(range(X_test.shape[0])):\n",
    "  x = X_test[i].view(1,100)\n",
    "  out = model(x.to(device), glove_label_embeddings.to(device))\n",
    "  y_pred.append(torch.sigmoid(out.detach()).round().cpu())\n",
    "\n",
    "y_pred = torch.vstack(y_pred)"
   ]
  },
  {
   "cell_type": "code",
   "execution_count": null,
   "metadata": {
    "colab": {
     "base_uri": "https://localhost:8080/"
    },
    "id": "-HfiB4sLfV5R",
    "outputId": "dc03d664-4e35-4fcf-86c2-e5b6c3875f45"
   },
   "outputs": [
    {
     "name": "stdout",
     "output_type": "stream",
     "text": [
      "{'model_name': 'MAGNET_xavier', 'micro_avg_f1_score': 0.7839896450440584, 'hamming_loss': 0.09550957517059212, 'accuracy': 0.598151001540832}\n",
      "              precision    recall  f1-score   support\n",
      "\n",
      "           0       0.86      0.84      0.85      3097\n",
      "           1       0.20      0.41      0.27       144\n",
      "           2       0.72      0.80      0.76      1546\n",
      "           3       0.38      0.35      0.36       118\n",
      "           4       0.60      0.69      0.64      1364\n",
      "           5       0.45      0.37      0.40       319\n",
      "           6       0.89      0.88      0.88      3278\n",
      "\n",
      "   micro avg       0.77      0.80      0.78      9866\n",
      "   macro avg       0.59      0.62      0.60      9866\n",
      "weighted avg       0.78      0.80      0.79      9866\n",
      " samples avg       0.80      0.79      0.77      9866\n",
      "\n"
     ]
    },
    {
     "name": "stderr",
     "output_type": "stream",
     "text": [
      "/usr/local/lib/python3.10/dist-packages/sklearn/metrics/_classification.py:1344: UndefinedMetricWarning: Recall and F-score are ill-defined and being set to 0.0 in samples with no true labels. Use `zero_division` parameter to control this behavior.\n",
      "  _warn_prf(average, modifier, msg_start, len(result))\n"
     ]
    }
   ],
   "source": [
    "arr={'model_name':'MAGNET_xavier','micro_avg_f1_score':f1_score(y_test, y_pred, average=\"micro\"),'hamming_loss':hamming_loss(y_test, y_pred),'accuracy':accuracy_score(y_test,y_pred)}\n",
    "scores_df = scores_df.append(arr,ignore_index=True)\n",
    "print(arr)\n",
    "print(classification_report(y_pred,y_test))"
   ]
  },
  {
   "cell_type": "markdown",
   "metadata": {
    "id": "yaEYI6gk274R"
   },
   "source": [
    "**Random initialization**"
   ]
  },
  {
   "cell_type": "code",
   "execution_count": null,
   "metadata": {
    "id": "SmiMU9P5gxJK"
   },
   "outputs": [],
   "source": [
    "#Random initialisation\n",
    "adj_matrix = torch.randn(7, 7)"
   ]
  },
  {
   "cell_type": "code",
   "execution_count": null,
   "metadata": {
    "id": "Q4GFUzgDhZrF"
   },
   "outputs": [],
   "source": [
    "model = MAGNET(300, 250, adj_matrix, glove_embedding_matrix,heads=8)"
   ]
  },
  {
   "cell_type": "code",
   "execution_count": null,
   "metadata": {
    "colab": {
     "base_uri": "https://localhost:8080/"
    },
    "id": "bzcvaVwcPXAh",
    "outputId": "d122beb4-7a9c-47e1-ef3a-8590f4273dff"
   },
   "outputs": [
    {
     "name": "stdout",
     "output_type": "stream",
     "text": [
      "epoch:1 loss:37.90182 hamming_loss:0.16219 micro_f1score:0.57687\n",
      "epoch:2 loss:26.94985 hamming_loss:0.10223 micro_f1score:0.75872\n",
      "epoch:3 loss:24.64162 hamming_loss:0.09434 micro_f1score:0.78041\n",
      "epoch:4 loss:26.02718 hamming_loss:0.09832 micro_f1score:0.77030\n",
      "epoch:5 loss:22.37064 hamming_loss:0.08602 micro_f1score:0.80094\n",
      "epoch:6 loss:21.84500 hamming_loss:0.08408 micro_f1score:0.80572\n",
      "epoch:7 loss:20.93736 hamming_loss:0.08116 micro_f1score:0.81278\n",
      "epoch:8 loss:20.16739 hamming_loss:0.07819 micro_f1score:0.82031\n",
      "epoch:9 loss:19.74241 hamming_loss:0.07667 micro_f1score:0.82429\n",
      "epoch:10 loss:19.50452 hamming_loss:0.07606 micro_f1score:0.82564\n",
      "epoch:11 loss:18.60078 hamming_loss:0.07295 micro_f1score:0.83292\n",
      "epoch:12 loss:18.16968 hamming_loss:0.07081 micro_f1score:0.83823\n",
      "epoch:13 loss:17.68715 hamming_loss:0.06938 micro_f1score:0.84189\n",
      "epoch:14 loss:17.06294 hamming_loss:0.06735 micro_f1score:0.84686\n",
      "epoch:15 loss:16.47658 hamming_loss:0.06425 micro_f1score:0.85395\n",
      "epoch:16 loss:16.00995 hamming_loss:0.06292 micro_f1score:0.85722\n",
      "epoch:17 loss:15.54502 hamming_loss:0.06142 micro_f1score:0.86096\n",
      "epoch:18 loss:15.15812 hamming_loss:0.05940 micro_f1score:0.86554\n",
      "epoch:19 loss:14.72547 hamming_loss:0.05751 micro_f1score:0.86995\n",
      "epoch:20 loss:14.62250 hamming_loss:0.05716 micro_f1score:0.87105\n",
      "epoch:21 loss:14.99857 hamming_loss:0.05848 micro_f1score:0.86767\n",
      "epoch:22 loss:14.67181 hamming_loss:0.05680 micro_f1score:0.87189\n",
      "epoch:23 loss:13.69551 hamming_loss:0.05409 micro_f1score:0.87829\n",
      "epoch:24 loss:12.69253 hamming_loss:0.04968 micro_f1score:0.88831\n",
      "epoch:25 loss:12.09417 hamming_loss:0.04740 micro_f1score:0.89355\n",
      "epoch:26 loss:24.68010 hamming_loss:0.08216 micro_f1score:0.81316\n",
      "epoch:27 loss:14.52971 hamming_loss:0.05486 micro_f1score:0.87662\n",
      "epoch:28 loss:12.14052 hamming_loss:0.04667 micro_f1score:0.89533\n",
      "epoch:29 loss:11.59295 hamming_loss:0.04457 micro_f1score:0.89994\n",
      "epoch:30 loss:11.09934 hamming_loss:0.04278 micro_f1score:0.90434\n",
      "epoch:31 loss:10.78875 hamming_loss:0.04186 micro_f1score:0.90645\n",
      "epoch:32 loss:10.34669 hamming_loss:0.03992 micro_f1score:0.91081\n",
      "epoch:33 loss:10.43032 hamming_loss:0.04014 micro_f1score:0.91028\n",
      "epoch:34 loss:10.40769 hamming_loss:0.03996 micro_f1score:0.91076\n",
      "epoch:35 loss:10.18736 hamming_loss:0.03970 micro_f1score:0.91145\n",
      "epoch:36 loss:10.34242 hamming_loss:0.03991 micro_f1score:0.91081\n",
      "epoch:37 loss:9.34928 hamming_loss:0.03573 micro_f1score:0.92021\n",
      "epoch:38 loss:8.67304 hamming_loss:0.03325 micro_f1score:0.92600\n",
      "epoch:39 loss:8.61073 hamming_loss:0.03294 micro_f1score:0.92666\n",
      "epoch:40 loss:8.18495 hamming_loss:0.03144 micro_f1score:0.92996\n",
      "epoch:41 loss:7.95696 hamming_loss:0.03087 micro_f1score:0.93133\n",
      "epoch:42 loss:7.67605 hamming_loss:0.02969 micro_f1score:0.93406\n",
      "epoch:43 loss:7.57434 hamming_loss:0.02917 micro_f1score:0.93513\n",
      "epoch:44 loss:7.18684 hamming_loss:0.02761 micro_f1score:0.93868\n",
      "epoch:45 loss:7.07899 hamming_loss:0.02671 micro_f1score:0.94067\n",
      "epoch:46 loss:7.10115 hamming_loss:0.02671 micro_f1score:0.94068\n",
      "epoch:47 loss:6.87766 hamming_loss:0.02606 micro_f1score:0.94215\n",
      "epoch:48 loss:6.54583 hamming_loss:0.02485 micro_f1score:0.94485\n",
      "epoch:49 loss:6.60289 hamming_loss:0.02542 micro_f1score:0.94360\n",
      "epoch:50 loss:6.40245 hamming_loss:0.02425 micro_f1score:0.94620\n"
     ]
    }
   ],
   "source": [
    "#Random initialisation\n",
    "train(model, X_train, glove_label_embeddings,y_train,total_epoch=50, save_path=save_path)"
   ]
  },
  {
   "cell_type": "code",
   "execution_count": null,
   "metadata": {
    "colab": {
     "base_uri": "https://localhost:8080/"
    },
    "id": "N0pUCedTw6qu",
    "outputId": "adcffa6e-0e47-4810-ce9e-afe586fbbe68"
   },
   "outputs": [
    {
     "name": "stderr",
     "output_type": "stream",
     "text": [
      "100%|██████████| 6490/6490 [00:44<00:00, 144.80it/s]\n"
     ]
    }
   ],
   "source": [
    "y_pred = []\n",
    "device = torch.device(\"cuda\" if torch.cuda.is_available() else \"cpu\")\n",
    "for i in tqdm(range(X_test.shape[0])):\n",
    "  x = X_test[i].view(1,100)\n",
    "  out = model(x.to(device), glove_label_embeddings.to(device))\n",
    "  y_pred.append(torch.sigmoid(out.detach()).round().cpu())\n",
    "\n",
    "y_pred = torch.vstack(y_pred)"
   ]
  },
  {
   "cell_type": "code",
   "execution_count": null,
   "metadata": {
    "colab": {
     "base_uri": "https://localhost:8080/"
    },
    "id": "ow2oGKCk0bRV",
    "outputId": "62a6b5b9-b908-4cbf-ed18-3751ed9affc8"
   },
   "outputs": [
    {
     "name": "stdout",
     "output_type": "stream",
     "text": [
      "{'model_name': 'MAGNET_random', 'micro_avg_f1_score': 0.7803653884762096, 'hamming_loss': 0.09632401496808277, 'accuracy': 0.588135593220339}\n",
      "              precision    recall  f1-score   support\n",
      "\n",
      "           0       0.88      0.81      0.84      3290\n",
      "           1       0.32      0.42      0.36       217\n",
      "           2       0.69      0.82      0.75      1431\n",
      "           3       0.39      0.51      0.44        82\n",
      "           4       0.60      0.70      0.65      1344\n",
      "           5       0.47      0.47      0.47       260\n",
      "           6       0.84      0.89      0.86      3079\n",
      "\n",
      "   micro avg       0.76      0.80      0.78      9703\n",
      "   macro avg       0.60      0.66      0.63      9703\n",
      "weighted avg       0.77      0.80      0.78      9703\n",
      " samples avg       0.78      0.79      0.76      9703\n",
      "\n"
     ]
    },
    {
     "name": "stderr",
     "output_type": "stream",
     "text": [
      "/usr/local/lib/python3.10/dist-packages/sklearn/metrics/_classification.py:1344: UndefinedMetricWarning: Recall and F-score are ill-defined and being set to 0.0 in samples with no true labels. Use `zero_division` parameter to control this behavior.\n",
      "  _warn_prf(average, modifier, msg_start, len(result))\n"
     ]
    }
   ],
   "source": [
    "arr={'model_name':'MAGNET_random','micro_avg_f1_score':f1_score(y_test, y_pred, average=\"micro\"),'hamming_loss':hamming_loss(y_test, y_pred),'accuracy':accuracy_score(y_test,y_pred)}\n",
    "scores_df = scores_df.append(arr,ignore_index=True)\n",
    "print(arr)\n",
    "print(classification_report(y_pred,y_test))"
   ]
  },
  {
   "cell_type": "code",
   "execution_count": null,
   "metadata": {
    "colab": {
     "base_uri": "https://localhost:8080/"
    },
    "id": "q77_T0qlnpYC",
    "outputId": "eb3e59b8-3ccc-4269-a019-aea90faee907"
   },
   "outputs": [
    {
     "data": {
      "text/plain": [
       "Parameter containing:\n",
       "tensor([[ 0.6937, -0.2006,  0.2486, -0.1822,  0.1479, -0.1086,  0.0293],\n",
       "        [ 0.8458,  0.9264,  0.8186,  0.2366,  0.7374, -0.1675,  0.0992],\n",
       "        [ 0.7063,  0.1879,  0.9135, -0.0044,  0.6248, -0.0269, -0.2106],\n",
       "        [ 0.6145, -0.0421,  0.3925,  1.1011,  0.3909, -0.0373, -0.0110],\n",
       "        [ 0.7057,  0.0351,  0.6755, -0.0243,  0.8600,  0.0699,  0.2344],\n",
       "        [ 0.6129, -0.2898,  0.3176,  0.0868,  0.5169,  1.1826,  0.0220],\n",
       "        [-0.0602, -0.0384, -0.0482,  0.0138, -0.0936, -0.0930,  1.1234]],\n",
       "       device='cuda:0', dtype=torch.float64, requires_grad=True)"
      ]
     },
     "execution_count": 110,
     "metadata": {},
     "output_type": "execute_result"
    }
   ],
   "source": [
    "model.adjacency"
   ]
  },
  {
   "cell_type": "code",
   "execution_count": null,
   "metadata": {
    "id": "Ycz4FO2LOsrf"
   },
   "outputs": [],
   "source": [
    "new_h = model.adjacency @ glove_label_embeddings.to(device).double()"
   ]
  },
  {
   "cell_type": "markdown",
   "metadata": {
    "id": "9icqL-6M3C1u"
   },
   "source": [
    "### Interesting observation\n",
    "\n",
    "The attention mechanism focusses on the closeness between labels. To demonstrate this we use the following method - \n",
    "* We first reduced the dimension of original glove embeddings and the embeddings obtained after training through the model, of all the labels using PCA to 2.\n",
    "* Then we plotted original embeddings and trained embeddings on a graph.\n",
    "* We observed that in the first graph, labels were positioned as per the glove embedding.\n",
    "* But after training through the model, the labels which were similar to each other came closer\n"
   ]
  },
  {
   "cell_type": "code",
   "execution_count": null,
   "metadata": {
    "id": "_4Ind0t3jPXO"
   },
   "outputs": [],
   "source": [
    "from sklearn.decomposition import PCA\n"
   ]
  },
  {
   "cell_type": "code",
   "execution_count": null,
   "metadata": {
    "colab": {
     "base_uri": "https://localhost:8080/",
     "height": 435
    },
    "id": "rW9wejEcgZsa",
    "outputId": "5763d12b-0ec1-4d0a-fa36-86bc6052773f"
   },
   "outputs": [
    {
     "data": {
      "image/png": "[encoded data removed]",
      "text/plain": [
       "<Figure size 640x480 with 1 Axes>"
      ]
     },
     "metadata": {},
     "output_type": "display_data"
    }
   ],
   "source": [
    "from sklearn.decomposition import PCA\n",
    "pca = PCA(2)\n",
    "Xt = pca.fit_transform(new_h.cpu().detach().numpy())\n",
    "plot = plt.scatter(Xt[:,0], Xt[:,1])\n",
    "for i, label in enumerate(labels):\n",
    "    plt.annotate(label, (Xt[i][0], Xt[i][1]), textcoords=\"offset points\", xytext=(0, 5), ha='center')\n",
    "\n",
    "plt.xlim(-6, 20)\n",
    "plt.ylim(-10, 10)\n",
    "plt.show()"
   ]
  },
  {
   "cell_type": "code",
   "execution_count": null,
   "metadata": {
    "colab": {
     "base_uri": "https://localhost:8080/",
     "height": 435
    },
    "id": "PHUDou4Ni05S",
    "outputId": "bdd93e77-6390-4f92-a668-510e5d6fba66"
   },
   "outputs": [
    {
     "data": {
      "image/png": "[encoded data removed]",
      "text/plain": [
       "<Figure size 640x480 with 1 Axes>"
      ]
     },
     "metadata": {},
     "output_type": "display_data"
    }
   ],
   "source": [
    "from sklearn.decomposition import PCA\n",
    "pca = PCA(2)\n",
    "Xt = pca.fit_transform(glove_label_embeddings)\n",
    "plot = plt.scatter(Xt[:,0], Xt[:,1])\n",
    "for i, label in enumerate(labels):\n",
    "    plt.annotate(label, (Xt[i][0], Xt[i][1]), textcoords=\"offset points\", xytext=(0, 5), ha='center')\n",
    "\n",
    "plt.xlim(-6, 20)\n",
    "plt.ylim(-10, 10)\n",
    "plt.show()"
   ]
  },
  {
   "cell_type": "code",
   "execution_count": null,
   "metadata": {
    "colab": {
     "base_uri": "https://localhost:8080/",
     "height": 513
    },
    "id": "ig2_QITtCyTT",
    "outputId": "e4f5cf97-3b7e-409b-8a6f-d70a2c786e34"
   },
   "outputs": [
    {
     "data": {
      "image/png": "[encoded data removed]",
      "text/plain": [
       "<Figure size 640x480 with 2 Axes>"
      ]
     },
     "metadata": {},
     "output_type": "display_data"
    }
   ],
   "source": [
    "plt.imshow(adj_matrix, cmap='hot', interpolation='nearest')\n",
    "plt.colorbar()\n",
    "plt.xticks(np.arange(len(labels)), labels, rotation=45)\n",
    "plt.title('Initialized Adjacency Matrix HeatMap')\n",
    "plt.show()"
   ]
  },
  {
   "cell_type": "code",
   "execution_count": null,
   "metadata": {
    "colab": {
     "base_uri": "https://localhost:8080/",
     "height": 513
    },
    "id": "Rq4lE8wtBiz8",
    "outputId": "0ea78d63-731f-445e-c6cf-f8797c0bed38"
   },
   "outputs": [
    {
     "data": {
      "image/png": "[encoded data removed]",
      "text/plain": [
       "<Figure size 640x480 with 2 Axes>"
      ]
     },
     "metadata": {},
     "output_type": "display_data"
    }
   ],
   "source": [
    "plt.imshow(model.adjacency.detach().cpu().numpy(), cmap='hot', interpolation='nearest')\n",
    "plt.colorbar()\n",
    "plt.xticks(np.arange(len(labels)), labels, rotation=45)\n",
    "plt.title('Learned Adjacency Matrix HeatMap')\n",
    "plt.show()"
   ]
  },
  {
   "cell_type": "markdown",
   "metadata": {
    "id": "A8WZUwOA3Kv3"
   },
   "source": [
    "**Summary of all the algorithms used till now (classical + DL)**"
   ]
  },
  {
   "cell_type": "code",
   "execution_count": null,
   "metadata": {
    "colab": {
     "base_uri": "https://localhost:8080/",
     "height": 426
    },
    "id": "zl--5dhPM_m1",
    "outputId": "8a242411-a25f-4963-d161-1ad92c5856ab"
   },
   "outputs": [
    {
     "data": {
      "text/html": [
       "\n",
       "  <div id=\"df-b8335c31-fe42-4c9c-8052-f971ec9dee16\">\n",
       "    <div class=\"colab-df-container\">\n",
       "      <div>\n",
       "<style scoped>\n",
       "    .dataframe tbody tr th:only-of-type {\n",
       "        vertical-align: middle;\n",
       "    }\n",
       "\n",
       "    .dataframe tbody tr th {\n",
       "        vertical-align: top;\n",
       "    }\n",
       "\n",
       "    .dataframe thead th {\n",
       "        text-align: right;\n",
       "    }\n",
       "</style>\n",
       "<table border=\"1\" class=\"dataframe\">\n",
       "  <thead>\n",
       "    <tr style=\"text-align: right;\">\n",
       "      <th></th>\n",
       "      <th>model_name</th>\n",
       "      <th>micro_avg_f1_score</th>\n",
       "      <th>hamming_loss</th>\n",
       "      <th>accuracy</th>\n",
       "    </tr>\n",
       "  </thead>\n",
       "  <tbody>\n",
       "    <tr>\n",
       "      <th>0</th>\n",
       "      <td>BR</td>\n",
       "      <td>0.76825</td>\n",
       "      <td>0.076117</td>\n",
       "      <td>0.66718</td>\n",
       "    </tr>\n",
       "    <tr>\n",
       "      <th>1</th>\n",
       "      <td>Classifier_Chain</td>\n",
       "      <td>0.769028</td>\n",
       "      <td>0.076451</td>\n",
       "      <td>0.672111</td>\n",
       "    </tr>\n",
       "    <tr>\n",
       "      <th>2</th>\n",
       "      <td>One_vs_rest</td>\n",
       "      <td>0.765692</td>\n",
       "      <td>0.076117</td>\n",
       "      <td>0.66718</td>\n",
       "    </tr>\n",
       "    <tr>\n",
       "      <th>3</th>\n",
       "      <td>One_vs_rest</td>\n",
       "      <td>0.765692</td>\n",
       "      <td>0.076117</td>\n",
       "      <td>0.66718</td>\n",
       "    </tr>\n",
       "    <tr>\n",
       "      <th>4</th>\n",
       "      <td>Hierarchical_SVM</td>\n",
       "      <td>0.776746</td>\n",
       "      <td>0.073472</td>\n",
       "      <td>0.672265</td>\n",
       "    </tr>\n",
       "    <tr>\n",
       "      <th>5</th>\n",
       "      <td>BiLSTM_glove</td>\n",
       "      <td>0.828584</td>\n",
       "      <td>0.075083</td>\n",
       "      <td>0.667951</td>\n",
       "    </tr>\n",
       "    <tr>\n",
       "      <th>6</th>\n",
       "      <td>BiLSTM_bert</td>\n",
       "      <td>0.83385</td>\n",
       "      <td>0.076097</td>\n",
       "      <td>0.68041</td>\n",
       "    </tr>\n",
       "    <tr>\n",
       "      <th>7</th>\n",
       "      <td>CNN_glove</td>\n",
       "      <td>0.815412</td>\n",
       "      <td>0.07867</td>\n",
       "      <td>0.657473</td>\n",
       "    </tr>\n",
       "    <tr>\n",
       "      <th>8</th>\n",
       "      <td>CNN_bert</td>\n",
       "      <td>0.82195</td>\n",
       "      <td>0.079621</td>\n",
       "      <td>0.67003</td>\n",
       "    </tr>\n",
       "    <tr>\n",
       "      <th>9</th>\n",
       "      <td>MAGNET_Cooccurance</td>\n",
       "      <td>0.79341</td>\n",
       "      <td>0.09229</td>\n",
       "      <td>0.61402</td>\n",
       "    </tr>\n",
       "    <tr>\n",
       "      <th>10</th>\n",
       "      <td>MAGNET_xavier</td>\n",
       "      <td>0.783989</td>\n",
       "      <td>0.095509</td>\n",
       "      <td>0.598151</td>\n",
       "    </tr>\n",
       "    <tr>\n",
       "      <th>11</th>\n",
       "      <td>MAGNET_random</td>\n",
       "      <td>0.780365</td>\n",
       "      <td>0.096324</td>\n",
       "      <td>0.588135</td>\n",
       "    </tr>\n",
       "  </tbody>\n",
       "</table>\n",
       "</div>\n",
       "      <button class=\"colab-df-convert\" onclick=\"convertToInteractive('df-b8335c31-fe42-4c9c-8052-f971ec9dee16')\"\n",
       "              title=\"Convert this dataframe to an interactive table.\"\n",
       "              style=\"display:none;\">\n",
       "        \n",
       "  <svg xmlns=\"http://www.w3.org/2000/svg\" height=\"24px\"viewBox=\"0 0 24 24\"\n",
       "       width=\"24px\">\n",
       "    <path d=\"M0 0h24v24H0V0z\" fill=\"none\"/>\n",
       "    <path d=\"M18.56 5.44l.94 2.06.94-2.06 2.06-.94-2.06-.94-.94-2.06-.94 2.06-2.06.94zm-11 1L8.5 8.5l.94-2.06 2.06-.94-2.06-.94L8.5 2.5l-.94 2.06-2.06.94zm10 10l.94 2.06.94-2.06 2.06-.94-2.06-.94-.94-2.06-.94 2.06-2.06.94z\"/><path d=\"M17.41 7.96l-1.37-1.37c-.4-.4-.92-.59-1.43-.59-.52 0-1.04.2-1.43.59L10.3 9.45l-7.72 7.72c-.78.78-.78 2.05 0 2.83L4 21.41c.39.39.9.59 1.41.59.51 0 1.02-.2 1.41-.59l7.78-7.78 2.81-2.81c.8-.78.8-2.07 0-2.86zM5.41 20L4 18.59l7.72-7.72 1.47 1.35L5.41 20z\"/>\n",
       "  </svg>\n",
       "      </button>\n",
       "      \n",
       "  <style>\n",
       "    .colab-df-container {\n",
       "      display:flex;\n",
       "      flex-wrap:wrap;\n",
       "      gap: 12px;\n",
       "    }\n",
       "\n",
       "    .colab-df-convert {\n",
       "      background-color: #E8F0FE;\n",
       "      border: none;\n",
       "      border-radius: 50%;\n",
       "      cursor: pointer;\n",
       "      display: none;\n",
       "      fill: #1967D2;\n",
       "      height: 32px;\n",
       "      padding: 0 0 0 0;\n",
       "      width: 32px;\n",
       "    }\n",
       "\n",
       "    .colab-df-convert:hover {\n",
       "      background-color: #E2EBFA;\n",
       "      box-shadow: 0px 1px 2px rgba(60, 64, 67, 0.3), 0px 1px 3px 1px rgba(60, 64, 67, 0.15);\n",
       "      fill: #174EA6;\n",
       "    }\n",
       "\n",
       "    [theme=dark] .colab-df-convert {\n",
       "      background-color: #3B4455;\n",
       "      fill: #D2E3FC;\n",
       "    }\n",
       "\n",
       "    [theme=dark] .colab-df-convert:hover {\n",
       "      background-color: #434B5C;\n",
       "      box-shadow: 0px 1px 3px 1px rgba(0, 0, 0, 0.15);\n",
       "      filter: drop-shadow(0px 1px 2px rgba(0, 0, 0, 0.3));\n",
       "      fill: #FFFFFF;\n",
       "    }\n",
       "  </style>\n",
       "\n",
       "      <script>\n",
       "        const buttonEl =\n",
       "          document.querySelector('#df-b8335c31-fe42-4c9c-8052-f971ec9dee16 button.colab-df-convert');\n",
       "        buttonEl.style.display =\n",
       "          google.colab.kernel.accessAllowed ? 'block' : 'none';\n",
       "\n",
       "        async function convertToInteractive(key) {\n",
       "          const element = document.querySelector('#df-b8335c31-fe42-4c9c-8052-f971ec9dee16');\n",
       "          const dataTable =\n",
       "            await google.colab.kernel.invokeFunction('convertToInteractive',\n",
       "                                                     [key], {});\n",
       "          if (!dataTable) return;\n",
       "\n",
       "          const docLinkHtml = 'Like what you see? Visit the ' +\n",
       "            '<a target=\"_blank\" href=https://colab.research.google.com/notebooks/data_table.ipynb>data table notebook</a>'\n",
       "            + ' to learn more about interactive tables.';\n",
       "          element.innerHTML = '';\n",
       "          dataTable['output_type'] = 'display_data';\n",
       "          await google.colab.output.renderOutput(dataTable, element);\n",
       "          const docLink = document.createElement('div');\n",
       "          docLink.innerHTML = docLinkHtml;\n",
       "          element.appendChild(docLink);\n",
       "        }\n",
       "      </script>\n",
       "    </div>\n",
       "  </div>\n",
       "  "
      ],
      "text/plain": [
       "            model_name micro_avg_f1_score hamming_loss  accuracy\n",
       "0                   BR            0.76825     0.076117   0.66718\n",
       "1     Classifier_Chain           0.769028     0.076451  0.672111\n",
       "2          One_vs_rest           0.765692     0.076117   0.66718\n",
       "3          One_vs_rest           0.765692     0.076117   0.66718\n",
       "4     Hierarchical_SVM           0.776746     0.073472  0.672265\n",
       "5         BiLSTM_glove           0.828584     0.075083  0.667951\n",
       "6          BiLSTM_bert            0.83385     0.076097   0.68041\n",
       "7            CNN_glove           0.815412      0.07867  0.657473\n",
       "8             CNN_bert            0.82195     0.079621   0.67003\n",
       "9   MAGNET_Cooccurance            0.79341      0.09229   0.61402\n",
       "10       MAGNET_xavier           0.783989     0.095509  0.598151\n",
       "11       MAGNET_random           0.780365     0.096324  0.588135"
      ]
     },
     "execution_count": 129,
     "metadata": {},
     "output_type": "execute_result"
    }
   ],
   "source": [
    "scores_df"
   ]
  },
  {
   "cell_type": "code",
   "execution_count": null,
   "metadata": {
    "id": "Sn6nT6jnE_Vs"
   },
   "outputs": [],
   "source": []
  },
  {
   "cell_type": "code",
   "execution_count": null,
   "metadata": {
    "colab": {
     "base_uri": "https://localhost:8080/"
    },
    "id": "EgOt9QqjSmZ0",
    "outputId": "74bbfa26-7602-464e-e095-7437af6b7962"
   },
   "outputs": [
    {
     "name": "stdout",
     "output_type": "stream",
     "text": [
      "Data shape: (159571, 8)\n",
      "Labels: Index(['toxic', 'severe_toxic', 'obscene', 'threat', 'insult', 'identity_hate',\n",
      "       'clean'],\n",
      "      dtype='object')\n"
     ]
    }
   ],
   "source": [
    "train_df = pd.read_csv('train.csv')\n",
    "print(\"Data shape:\",train_df.shape)\n",
    "#assigning labels\n",
    "\n",
    "#Adding new column of Clean Text\n",
    "arr=[]\n",
    "for i in range(train_df.shape[0]):\n",
    "  if (train_df.iloc[i,2:]==0).all():\n",
    "    arr.append(1)\n",
    "  else:\n",
    "    arr.append(0)\n",
    "train_df['clean'] = pd.Series(np.asarray(arr))\n",
    "labels = train_df.columns[2:]\n",
    "print(\"Labels:\",labels)"
   ]
  },
  {
   "cell_type": "code",
   "execution_count": null,
   "metadata": {
    "colab": {
     "base_uri": "https://localhost:8080/",
     "height": 441
    },
    "id": "k3TI-WZkTRWH",
    "outputId": "c3234da5-bcd5-4c4f-c522-b7d8d6adb69b"
   },
   "outputs": [
    {
     "data": {
      "text/html": [
       "\n",
       "  <div id=\"df-2becfe59-e90e-4976-9ad0-46d00a216670\">\n",
       "    <div class=\"colab-df-container\">\n",
       "      <div>\n",
       "<style scoped>\n",
       "    .dataframe tbody tr th:only-of-type {\n",
       "        vertical-align: middle;\n",
       "    }\n",
       "\n",
       "    .dataframe tbody tr th {\n",
       "        vertical-align: top;\n",
       "    }\n",
       "\n",
       "    .dataframe thead th {\n",
       "        text-align: right;\n",
       "    }\n",
       "</style>\n",
       "<table border=\"1\" class=\"dataframe\">\n",
       "  <thead>\n",
       "    <tr style=\"text-align: right;\">\n",
       "      <th></th>\n",
       "      <th>id</th>\n",
       "      <th>comment_text</th>\n",
       "      <th>toxic</th>\n",
       "      <th>severe_toxic</th>\n",
       "      <th>obscene</th>\n",
       "      <th>threat</th>\n",
       "      <th>insult</th>\n",
       "      <th>identity_hate</th>\n",
       "      <th>clean</th>\n",
       "    </tr>\n",
       "  </thead>\n",
       "  <tbody>\n",
       "    <tr>\n",
       "      <th>0</th>\n",
       "      <td>0000997932d777bf</td>\n",
       "      <td>explanation edits made username hardcore metal...</td>\n",
       "      <td>0</td>\n",
       "      <td>0</td>\n",
       "      <td>0</td>\n",
       "      <td>0</td>\n",
       "      <td>0</td>\n",
       "      <td>0</td>\n",
       "      <td>1</td>\n",
       "    </tr>\n",
       "    <tr>\n",
       "      <th>1</th>\n",
       "      <td>000103f0d9cfb60f</td>\n",
       "      <td>daww match background colour im seemingly stuc...</td>\n",
       "      <td>0</td>\n",
       "      <td>0</td>\n",
       "      <td>0</td>\n",
       "      <td>0</td>\n",
       "      <td>0</td>\n",
       "      <td>0</td>\n",
       "      <td>1</td>\n",
       "    </tr>\n",
       "    <tr>\n",
       "      <th>2</th>\n",
       "      <td>000113f07ec002fd</td>\n",
       "      <td>hey man im really trying edit war guy constant...</td>\n",
       "      <td>0</td>\n",
       "      <td>0</td>\n",
       "      <td>0</td>\n",
       "      <td>0</td>\n",
       "      <td>0</td>\n",
       "      <td>0</td>\n",
       "      <td>1</td>\n",
       "    </tr>\n",
       "    <tr>\n",
       "      <th>3</th>\n",
       "      <td>0001b41b1c6bb37e</td>\n",
       "      <td>cant make real suggestion improvement wondered...</td>\n",
       "      <td>0</td>\n",
       "      <td>0</td>\n",
       "      <td>0</td>\n",
       "      <td>0</td>\n",
       "      <td>0</td>\n",
       "      <td>0</td>\n",
       "      <td>1</td>\n",
       "    </tr>\n",
       "    <tr>\n",
       "      <th>4</th>\n",
       "      <td>0001d958c54c6e35</td>\n",
       "      <td>sir hero chance remember page thats on</td>\n",
       "      <td>0</td>\n",
       "      <td>0</td>\n",
       "      <td>0</td>\n",
       "      <td>0</td>\n",
       "      <td>0</td>\n",
       "      <td>0</td>\n",
       "      <td>1</td>\n",
       "    </tr>\n",
       "  </tbody>\n",
       "</table>\n",
       "</div>\n",
       "      <button class=\"colab-df-convert\" onclick=\"convertToInteractive('df-2becfe59-e90e-4976-9ad0-46d00a216670')\"\n",
       "              title=\"Convert this dataframe to an interactive table.\"\n",
       "              style=\"display:none;\">\n",
       "        \n",
       "  <svg xmlns=\"http://www.w3.org/2000/svg\" height=\"24px\"viewBox=\"0 0 24 24\"\n",
       "       width=\"24px\">\n",
       "    <path d=\"M0 0h24v24H0V0z\" fill=\"none\"/>\n",
       "    <path d=\"M18.56 5.44l.94 2.06.94-2.06 2.06-.94-2.06-.94-.94-2.06-.94 2.06-2.06.94zm-11 1L8.5 8.5l.94-2.06 2.06-.94-2.06-.94L8.5 2.5l-.94 2.06-2.06.94zm10 10l.94 2.06.94-2.06 2.06-.94-2.06-.94-.94-2.06-.94 2.06-2.06.94z\"/><path d=\"M17.41 7.96l-1.37-1.37c-.4-.4-.92-.59-1.43-.59-.52 0-1.04.2-1.43.59L10.3 9.45l-7.72 7.72c-.78.78-.78 2.05 0 2.83L4 21.41c.39.39.9.59 1.41.59.51 0 1.02-.2 1.41-.59l7.78-7.78 2.81-2.81c.8-.78.8-2.07 0-2.86zM5.41 20L4 18.59l7.72-7.72 1.47 1.35L5.41 20z\"/>\n",
       "  </svg>\n",
       "      </button>\n",
       "      \n",
       "  <style>\n",
       "    .colab-df-container {\n",
       "      display:flex;\n",
       "      flex-wrap:wrap;\n",
       "      gap: 12px;\n",
       "    }\n",
       "\n",
       "    .colab-df-convert {\n",
       "      background-color: #E8F0FE;\n",
       "      border: none;\n",
       "      border-radius: 50%;\n",
       "      cursor: pointer;\n",
       "      display: none;\n",
       "      fill: #1967D2;\n",
       "      height: 32px;\n",
       "      padding: 0 0 0 0;\n",
       "      width: 32px;\n",
       "    }\n",
       "\n",
       "    .colab-df-convert:hover {\n",
       "      background-color: #E2EBFA;\n",
       "      box-shadow: 0px 1px 2px rgba(60, 64, 67, 0.3), 0px 1px 3px 1px rgba(60, 64, 67, 0.15);\n",
       "      fill: #174EA6;\n",
       "    }\n",
       "\n",
       "    [theme=dark] .colab-df-convert {\n",
       "      background-color: #3B4455;\n",
       "      fill: #D2E3FC;\n",
       "    }\n",
       "\n",
       "    [theme=dark] .colab-df-convert:hover {\n",
       "      background-color: #434B5C;\n",
       "      box-shadow: 0px 1px 3px 1px rgba(0, 0, 0, 0.15);\n",
       "      filter: drop-shadow(0px 1px 2px rgba(0, 0, 0, 0.3));\n",
       "      fill: #FFFFFF;\n",
       "    }\n",
       "  </style>\n",
       "\n",
       "      <script>\n",
       "        const buttonEl =\n",
       "          document.querySelector('#df-2becfe59-e90e-4976-9ad0-46d00a216670 button.colab-df-convert');\n",
       "        buttonEl.style.display =\n",
       "          google.colab.kernel.accessAllowed ? 'block' : 'none';\n",
       "\n",
       "        async function convertToInteractive(key) {\n",
       "          const element = document.querySelector('#df-2becfe59-e90e-4976-9ad0-46d00a216670');\n",
       "          const dataTable =\n",
       "            await google.colab.kernel.invokeFunction('convertToInteractive',\n",
       "                                                     [key], {});\n",
       "          if (!dataTable) return;\n",
       "\n",
       "          const docLinkHtml = 'Like what you see? Visit the ' +\n",
       "            '<a target=\"_blank\" href=https://colab.research.google.com/notebooks/data_table.ipynb>data table notebook</a>'\n",
       "            + ' to learn more about interactive tables.';\n",
       "          element.innerHTML = '';\n",
       "          dataTable['output_type'] = 'display_data';\n",
       "          await google.colab.output.renderOutput(dataTable, element);\n",
       "          const docLink = document.createElement('div');\n",
       "          docLink.innerHTML = docLinkHtml;\n",
       "          element.appendChild(docLink);\n",
       "        }\n",
       "      </script>\n",
       "    </div>\n",
       "  </div>\n",
       "  "
      ],
      "text/plain": [
       "                 id                                       comment_text  toxic  \\\n",
       "0  0000997932d777bf  explanation edits made username hardcore metal...      0   \n",
       "1  000103f0d9cfb60f  daww match background colour im seemingly stuc...      0   \n",
       "2  000113f07ec002fd  hey man im really trying edit war guy constant...      0   \n",
       "3  0001b41b1c6bb37e  cant make real suggestion improvement wondered...      0   \n",
       "4  0001d958c54c6e35             sir hero chance remember page thats on      0   \n",
       "\n",
       "   severe_toxic  obscene  threat  insult  identity_hate  clean  \n",
       "0             0        0       0       0              0      1  \n",
       "1             0        0       0       0              0      1  \n",
       "2             0        0       0       0              0      1  \n",
       "3             0        0       0       0              0      1  \n",
       "4             0        0       0       0              0      1  "
      ]
     },
     "execution_count": 6,
     "metadata": {},
     "output_type": "execute_result"
    }
   ],
   "source": [
    "train_df = preprocess_text(train_df)\n",
    "train_df.head()"
   ]
  },
  {
   "cell_type": "code",
   "execution_count": null,
   "metadata": {
    "colab": {
     "base_uri": "https://localhost:8080/",
     "height": 444
    },
    "id": "wvpVc2_zTbl2",
    "outputId": "80ad6d24-dacd-401a-a2a5-3790648505fb"
   },
   "outputs": [
    {
     "name": "stderr",
     "output_type": "stream",
     "text": [
      "<ipython-input-4-ecde23a7a0f1>:79: FutureWarning: The frame.append method is deprecated and will be removed from pandas in a future version. Use pandas.concat instead.\n",
      "  df = df.append(train_df[train_df['clean']==1].sample(frac=1, random_state=200).iloc[:df.shape[0],:])\n"
     ]
    },
    {
     "data": {
      "text/html": [
       "\n",
       "  <div id=\"df-280a3298-5677-4d06-b241-c59489a20305\">\n",
       "    <div class=\"colab-df-container\">\n",
       "      <div>\n",
       "<style scoped>\n",
       "    .dataframe tbody tr th:only-of-type {\n",
       "        vertical-align: middle;\n",
       "    }\n",
       "\n",
       "    .dataframe tbody tr th {\n",
       "        vertical-align: top;\n",
       "    }\n",
       "\n",
       "    .dataframe thead th {\n",
       "        text-align: right;\n",
       "    }\n",
       "</style>\n",
       "<table border=\"1\" class=\"dataframe\">\n",
       "  <thead>\n",
       "    <tr style=\"text-align: right;\">\n",
       "      <th></th>\n",
       "      <th>id</th>\n",
       "      <th>comment_text</th>\n",
       "      <th>toxic</th>\n",
       "      <th>severe_toxic</th>\n",
       "      <th>obscene</th>\n",
       "      <th>threat</th>\n",
       "      <th>insult</th>\n",
       "      <th>identity_hate</th>\n",
       "      <th>clean</th>\n",
       "    </tr>\n",
       "  </thead>\n",
       "  <tbody>\n",
       "    <tr>\n",
       "      <th>134065</th>\n",
       "      <td>cd04ee4935924644</td>\n",
       "      <td>got ill start on</td>\n",
       "      <td>0</td>\n",
       "      <td>0</td>\n",
       "      <td>0</td>\n",
       "      <td>0</td>\n",
       "      <td>0</td>\n",
       "      <td>0</td>\n",
       "      <td>1</td>\n",
       "    </tr>\n",
       "    <tr>\n",
       "      <th>128040</th>\n",
       "      <td>acd929b3f6c5984b</td>\n",
       "      <td>barnstar anti vandalism barnstar professing lo...</td>\n",
       "      <td>0</td>\n",
       "      <td>0</td>\n",
       "      <td>0</td>\n",
       "      <td>0</td>\n",
       "      <td>0</td>\n",
       "      <td>0</td>\n",
       "      <td>1</td>\n",
       "    </tr>\n",
       "    <tr>\n",
       "      <th>136471</th>\n",
       "      <td>da225210fb20b417</td>\n",
       "      <td>homey yo beat u up</td>\n",
       "      <td>0</td>\n",
       "      <td>0</td>\n",
       "      <td>0</td>\n",
       "      <td>1</td>\n",
       "      <td>0</td>\n",
       "      <td>0</td>\n",
       "      <td>0</td>\n",
       "    </tr>\n",
       "    <tr>\n",
       "      <th>112748</th>\n",
       "      <td>5b33d2be26a63953</td>\n",
       "      <td>encouraged feedback let clear bit first versio...</td>\n",
       "      <td>0</td>\n",
       "      <td>0</td>\n",
       "      <td>0</td>\n",
       "      <td>0</td>\n",
       "      <td>0</td>\n",
       "      <td>0</td>\n",
       "      <td>1</td>\n",
       "    </tr>\n",
       "    <tr>\n",
       "      <th>21589</th>\n",
       "      <td>38dd995c105311e6</td>\n",
       "      <td>shes insane zealot</td>\n",
       "      <td>1</td>\n",
       "      <td>0</td>\n",
       "      <td>0</td>\n",
       "      <td>0</td>\n",
       "      <td>1</td>\n",
       "      <td>0</td>\n",
       "      <td>0</td>\n",
       "    </tr>\n",
       "  </tbody>\n",
       "</table>\n",
       "</div>\n",
       "      <button class=\"colab-df-convert\" onclick=\"convertToInteractive('df-280a3298-5677-4d06-b241-c59489a20305')\"\n",
       "              title=\"Convert this dataframe to an interactive table.\"\n",
       "              style=\"display:none;\">\n",
       "        \n",
       "  <svg xmlns=\"http://www.w3.org/2000/svg\" height=\"24px\"viewBox=\"0 0 24 24\"\n",
       "       width=\"24px\">\n",
       "    <path d=\"M0 0h24v24H0V0z\" fill=\"none\"/>\n",
       "    <path d=\"M18.56 5.44l.94 2.06.94-2.06 2.06-.94-2.06-.94-.94-2.06-.94 2.06-2.06.94zm-11 1L8.5 8.5l.94-2.06 2.06-.94-2.06-.94L8.5 2.5l-.94 2.06-2.06.94zm10 10l.94 2.06.94-2.06 2.06-.94-2.06-.94-.94-2.06-.94 2.06-2.06.94z\"/><path d=\"M17.41 7.96l-1.37-1.37c-.4-.4-.92-.59-1.43-.59-.52 0-1.04.2-1.43.59L10.3 9.45l-7.72 7.72c-.78.78-.78 2.05 0 2.83L4 21.41c.39.39.9.59 1.41.59.51 0 1.02-.2 1.41-.59l7.78-7.78 2.81-2.81c.8-.78.8-2.07 0-2.86zM5.41 20L4 18.59l7.72-7.72 1.47 1.35L5.41 20z\"/>\n",
       "  </svg>\n",
       "      </button>\n",
       "      \n",
       "  <style>\n",
       "    .colab-df-container {\n",
       "      display:flex;\n",
       "      flex-wrap:wrap;\n",
       "      gap: 12px;\n",
       "    }\n",
       "\n",
       "    .colab-df-convert {\n",
       "      background-color: #E8F0FE;\n",
       "      border: none;\n",
       "      border-radius: 50%;\n",
       "      cursor: pointer;\n",
       "      display: none;\n",
       "      fill: #1967D2;\n",
       "      height: 32px;\n",
       "      padding: 0 0 0 0;\n",
       "      width: 32px;\n",
       "    }\n",
       "\n",
       "    .colab-df-convert:hover {\n",
       "      background-color: #E2EBFA;\n",
       "      box-shadow: 0px 1px 2px rgba(60, 64, 67, 0.3), 0px 1px 3px 1px rgba(60, 64, 67, 0.15);\n",
       "      fill: #174EA6;\n",
       "    }\n",
       "\n",
       "    [theme=dark] .colab-df-convert {\n",
       "      background-color: #3B4455;\n",
       "      fill: #D2E3FC;\n",
       "    }\n",
       "\n",
       "    [theme=dark] .colab-df-convert:hover {\n",
       "      background-color: #434B5C;\n",
       "      box-shadow: 0px 1px 3px 1px rgba(0, 0, 0, 0.15);\n",
       "      filter: drop-shadow(0px 1px 2px rgba(0, 0, 0, 0.3));\n",
       "      fill: #FFFFFF;\n",
       "    }\n",
       "  </style>\n",
       "\n",
       "      <script>\n",
       "        const buttonEl =\n",
       "          document.querySelector('#df-280a3298-5677-4d06-b241-c59489a20305 button.colab-df-convert');\n",
       "        buttonEl.style.display =\n",
       "          google.colab.kernel.accessAllowed ? 'block' : 'none';\n",
       "\n",
       "        async function convertToInteractive(key) {\n",
       "          const element = document.querySelector('#df-280a3298-5677-4d06-b241-c59489a20305');\n",
       "          const dataTable =\n",
       "            await google.colab.kernel.invokeFunction('convertToInteractive',\n",
       "                                                     [key], {});\n",
       "          if (!dataTable) return;\n",
       "\n",
       "          const docLinkHtml = 'Like what you see? Visit the ' +\n",
       "            '<a target=\"_blank\" href=https://colab.research.google.com/notebooks/data_table.ipynb>data table notebook</a>'\n",
       "            + ' to learn more about interactive tables.';\n",
       "          element.innerHTML = '';\n",
       "          dataTable['output_type'] = 'display_data';\n",
       "          await google.colab.output.renderOutput(dataTable, element);\n",
       "          const docLink = document.createElement('div');\n",
       "          docLink.innerHTML = docLinkHtml;\n",
       "          element.appendChild(docLink);\n",
       "        }\n",
       "      </script>\n",
       "    </div>\n",
       "  </div>\n",
       "  "
      ],
      "text/plain": [
       "                      id                                       comment_text  \\\n",
       "134065  cd04ee4935924644                                   got ill start on   \n",
       "128040  acd929b3f6c5984b  barnstar anti vandalism barnstar professing lo...   \n",
       "136471  da225210fb20b417                                 homey yo beat u up   \n",
       "112748  5b33d2be26a63953  encouraged feedback let clear bit first versio...   \n",
       "21589   38dd995c105311e6                                 shes insane zealot   \n",
       "\n",
       "        toxic  severe_toxic  obscene  threat  insult  identity_hate  clean  \n",
       "134065      0             0        0       0       0              0      1  \n",
       "128040      0             0        0       0       0              0      1  \n",
       "136471      0             0        0       1       0              0      0  \n",
       "112748      0             0        0       0       0              0      1  \n",
       "21589       1             0        0       0       1              0      0  "
      ]
     },
     "execution_count": 7,
     "metadata": {},
     "output_type": "execute_result"
    }
   ],
   "source": [
    "#Get sampled Data by removing Rows which create Bias\n",
    "train_df = sample_dataset(train_df)\n",
    "train_df.head()"
   ]
  },
  {
   "cell_type": "code",
   "execution_count": null,
   "metadata": {
    "colab": {
     "base_uri": "https://localhost:8080/",
     "height": 113,
     "referenced_widgets": [
      "1526fec20e314de0b608ed99a1e52bfc",
      "0c54c577b5a84e869ff08fa88e6a56d4",
      "4aa3e6c3b5a04342bda5fd9555abb341",
      "ab1cf86a4bbd490fb019944902b93a39",
      "81898db93e7a41e8ad52f6221f1ede10",
      "587ac2218ae942cb808e986eef900c27",
      "2a5ca9a345cc421588bd3b6b8b0051cd",
      "06b2188431f343d493036470c6dc4513",
      "30b73218a3c54f7caf19418394b7359b",
      "d54cb516fe6e4e9eb5842a4d2e24a113",
      "81f75aaefd384d879a4e6e0eb237c328",
      "4e9614212fac49bab0817aa3bf82c00e",
      "4bab7951efa942c69cf422c1e4744653",
      "1b68dabc2e5343b0adb4b2ab541f05b3",
      "a1022c8d33bf497f9505fee450b7b4d2",
      "f4b4e6cfe4574bfa87772778139502ae",
      "4fbb4aa295bd4950a80ddf130ab3d18f",
      "245bdbec3f984357adbd45ff79df6cdc",
      "8efc2adc3f674a9eb36dbf8dcb00df23",
      "12d58448ad6247bea10a071373312c81",
      "afcddcf35c314552b17a37bc0203f9ea",
      "17b2f163b596404e938f8d72000e9a86",
      "9d345ae3647d4ee9b4bd8a4cc0ed666c",
      "43a4866d6a8149eeac7e8d17315be499",
      "861aa32b2b254bafbfa1e0199831a02e",
      "82ac79a730ba4734a9919cfe7f4cc4fd",
      "0104af4daf4043f2a9a3b9c42b26d37d",
      "94604076a83b4fe9aadadec982606cb8",
      "0b49a0eca87c44ebbdfed7c2c0be0df5",
      "6be8209420ff47e9aaef3e8d0066ac60",
      "020578f9dde14e7ca5d80ae3108ef265",
      "2ca6e53967f74ad0912247bddac46cda",
      "e495e1aacd3342d1af26f54ae5bd1ea0"
     ]
    },
    "id": "-KVlh0KjZwO-",
    "outputId": "f5441956-d08e-4a18-f6c1-64afc49a8c0a"
   },
   "outputs": [
    {
     "data": {
      "application/vnd.jupyter.widget-view+json": {
       "model_id": "1526fec20e314de0b608ed99a1e52bfc",
       "version_major": 2,
       "version_minor": 0
      },
      "text/plain": [
       "Downloading (…)solve/main/vocab.txt:   0%|          | 0.00/232k [00:00<?, ?B/s]"
      ]
     },
     "metadata": {},
     "output_type": "display_data"
    },
    {
     "data": {
      "application/vnd.jupyter.widget-view+json": {
       "model_id": "4e9614212fac49bab0817aa3bf82c00e",
       "version_major": 2,
       "version_minor": 0
      },
      "text/plain": [
       "Downloading (…)okenizer_config.json:   0%|          | 0.00/28.0 [00:00<?, ?B/s]"
      ]
     },
     "metadata": {},
     "output_type": "display_data"
    },
    {
     "data": {
      "application/vnd.jupyter.widget-view+json": {
       "model_id": "9d345ae3647d4ee9b4bd8a4cc0ed666c",
       "version_major": 2,
       "version_minor": 0
      },
      "text/plain": [
       "Downloading (…)lve/main/config.json:   0%|          | 0.00/570 [00:00<?, ?B/s]"
      ]
     },
     "metadata": {},
     "output_type": "display_data"
    }
   ],
   "source": [
    "device = torch.device('cuda')\n",
    "if torch.cuda.is_available():\n",
    "    device = torch.device('cuda:0')\n",
    "tokenizer = BertTokenizer.from_pretrained('bert-base-uncased')"
   ]
  },
  {
   "cell_type": "code",
   "execution_count": null,
   "metadata": {
    "id": "Dg7s2vE-aEqc"
   },
   "outputs": [],
   "source": [
    "train_df, test_df = train_test_split(train_df, test_size=0.2,random_state=200,stratify=train_df.iloc[:,-1])"
   ]
  },
  {
   "cell_type": "code",
   "execution_count": null,
   "metadata": {
    "id": "_L-AFlCma1sU"
   },
   "outputs": [],
   "source": [
    "class ToxicDataset(Dataset):\n",
    "    \n",
    "    def __init__(self, tokenizer: BertTokenizer, dataframe: pd.DataFrame, lazy: bool = False):\n",
    "        self.tokenizer = tokenizer\n",
    "        self.pad_idx = tokenizer.pad_token_id\n",
    "        self.lazy = lazy\n",
    "        if not self.lazy:\n",
    "            self.X = []\n",
    "            self.Y = []\n",
    "            for i, (row) in tqdm(dataframe.iterrows()):\n",
    "                x, y = self.row_to_tensor(self.tokenizer, row)\n",
    "                self.X.append(x)\n",
    "                self.Y.append(y)\n",
    "        else:\n",
    "            self.df = dataframe        \n",
    "    \n",
    "    @staticmethod\n",
    "    def row_to_tensor(tokenizer: BertTokenizer, row: pd.Series) -> Tuple[torch.LongTensor, torch.LongTensor]:\n",
    "        tokens = tokenizer.encode(row[\"comment_text\"], add_special_tokens=True)\n",
    "        if len(tokens) > 120:\n",
    "            tokens = tokens[:119] + [tokens[-1]]\n",
    "        x = torch.LongTensor(tokens)\n",
    "        y = torch.FloatTensor(row[[\"toxic\", \"severe_toxic\", \"obscene\", \"threat\", \"insult\", \"identity_hate\",\"clean\"]])\n",
    "        return x, y\n",
    "        \n",
    "    \n",
    "    def __len__(self):\n",
    "        if self.lazy:\n",
    "            return len(self.df)\n",
    "        else:\n",
    "            return len(self.X)\n",
    "\n",
    "    def __getitem__(self, index: int) -> Tuple[torch.LongTensor, torch.LongTensor]:\n",
    "        if not self.lazy:\n",
    "            return self.X[index], self.Y[index]\n",
    "        else:\n",
    "            return self.row_to_tensor(self.tokenizer, self.df.iloc[index])\n",
    "            \n",
    "\n",
    "def collate_fn(batch: List[Tuple[torch.LongTensor, torch.LongTensor]], device: torch.device) \\\n",
    "        -> Tuple[torch.LongTensor, torch.LongTensor]:\n",
    "    x, y = list(zip(*batch))\n",
    "    x = pad_sequence(x, batch_first=True, padding_value=0)\n",
    "    y = torch.stack(y)\n",
    "    return x.to(device), y.to(device)\n"
   ]
  },
  {
   "cell_type": "code",
   "execution_count": null,
   "metadata": {
    "id": "DNV5BeXoa9pE"
   },
   "outputs": [],
   "source": [
    "train_dataset = ToxicDataset(tokenizer, train_df, lazy=True)\n",
    "test_dataset = ToxicDataset(tokenizer, test_df, lazy=True)\n",
    "collate_fn = partial(collate_fn, device=device)\n",
    "BATCH_SIZE = 32\n",
    "train_sampler = RandomSampler(train_dataset)\n",
    "dev_sampler = RandomSampler(test_dataset)\n",
    "train_iterator = DataLoader(train_dataset, batch_size=BATCH_SIZE, sampler=train_sampler, collate_fn=collate_fn)\n",
    "dev_iterator = DataLoader(test_dataset, batch_size=BATCH_SIZE, sampler=dev_sampler, collate_fn=collate_fn)"
   ]
  },
  {
   "cell_type": "code",
   "execution_count": null,
   "metadata": {
    "id": "6CqGM0OZo3jI"
   },
   "outputs": [],
   "source": [
    "class BertClassifier(nn.Module):\n",
    "    \n",
    "    def __init__(self, bert: BertModel, num_classes: int):\n",
    "        super().__init__()\n",
    "        self.bert = bert\n",
    "        self.classifier = nn.Linear(bert.config.hidden_size, num_classes)\n",
    "        \n",
    "    def forward(self, input_ids, attention_mask=None, token_type_ids=None, position_ids=None, head_mask=None,\n",
    "                \n",
    "            labels=None):\n",
    "        outputs = self.bert(input_ids,\n",
    "                               attention_mask=attention_mask,\n",
    "                               token_type_ids=token_type_ids,\n",
    "                               position_ids=position_ids,\n",
    "                               head_mask=head_mask)\n",
    "        cls_output = outputs[1] # batch, hidden\n",
    "        cls_output = self.classifier(cls_output) # batch, 6\n",
    "        cls_output = torch.sigmoid(cls_output)\n",
    "        criterion = nn.BCELoss()\n",
    "        loss = 0\n",
    "        if labels is not None:\n",
    "            loss = criterion(cls_output, labels)\n",
    "        return loss, cls_output"
   ]
  },
  {
   "cell_type": "code",
   "execution_count": null,
   "metadata": {
    "id": "t5JMXZ_5o_dG"
   },
   "outputs": [],
   "source": [
    "def train(model, iterator, optimizer, scheduler):\n",
    "    model.train()\n",
    "    total_loss = 0\n",
    "    for x, y in tqdm(iterator):\n",
    "        optimizer.zero_grad()\n",
    "        mask = (x != 0).float()\n",
    "        loss, outputs = model(x, attention_mask=mask, labels=y)\n",
    "        total_loss += loss.item()\n",
    "        loss.backward()\n",
    "        optimizer.step()\n",
    "        scheduler.step()\n",
    "    print(f\"Train loss {total_loss / len(iterator)}\")"
   ]
  },
  {
   "cell_type": "code",
   "execution_count": null,
   "metadata": {
    "colab": {
     "base_uri": "https://localhost:8080/"
    },
    "id": "7SO_mtUGo-gc",
    "outputId": "d0e19f82-275b-4231-8bad-095e29ffcddc"
   },
   "outputs": [
    {
     "name": "stderr",
     "output_type": "stream",
     "text": [
      "Some weights of the model checkpoint at bert-base-uncased were not used when initializing BertModel: ['cls.predictions.transform.LayerNorm.bias', 'cls.seq_relationship.bias', 'cls.predictions.decoder.weight', 'cls.predictions.transform.dense.weight', 'cls.predictions.bias', 'cls.seq_relationship.weight', 'cls.predictions.transform.LayerNorm.weight', 'cls.predictions.transform.dense.bias']\n",
      "- This IS expected if you are initializing BertModel from the checkpoint of a model trained on another task or with another architecture (e.g. initializing a BertForSequenceClassification model from a BertForPreTraining model).\n",
      "- This IS NOT expected if you are initializing BertModel from the checkpoint of a model that you expect to be exactly identical (initializing a BertForSequenceClassification model from a BertForSequenceClassification model).\n"
     ]
    }
   ],
   "source": [
    "model = BertClassifier(BertModel.from_pretrained('bert-base-uncased'), 7).to(device)"
   ]
  },
  {
   "cell_type": "code",
   "execution_count": null,
   "metadata": {
    "colab": {
     "base_uri": "https://localhost:8080/"
    },
    "id": "XZmgc0MzpYTM",
    "outputId": "7fc63518-c2cc-4d38-eed9-f70ca8cfc286"
   },
   "outputs": [
    {
     "name": "stderr",
     "output_type": "stream",
     "text": [
      "/usr/local/lib/python3.10/dist-packages/transformers/optimization.py:391: FutureWarning: This implementation of AdamW is deprecated and will be removed in a future version. Use the PyTorch implementation torch.optim.AdamW instead, or set `no_deprecation_warning=True` to disable this warning\n",
      "  warnings.warn(\n"
     ]
    }
   ],
   "source": [
    "no_decay = ['bias', 'LayerNorm.weight']\n",
    "optimizer_grouped_parameters = [\n",
    "{'params': [p for n, p in model.named_parameters() if not any(nd in n for nd in no_decay)], 'weight_decay': 0.01},\n",
    "{'params': [p for n, p in model.named_parameters() if any(nd in n for nd in no_decay)], 'weight_decay': 0.0}\n",
    "]\n",
    "EPOCH_NUM = 8\n",
    "# triangular learning rate, linearly grows untill half of first epoch, then linearly decays \n",
    "warmup_steps = 10 ** 3\n",
    "total_steps = len(train_iterator) * EPOCH_NUM - warmup_steps\n",
    "optimizer = AdamW(optimizer_grouped_parameters, lr=2e-5, eps=1e-8)\n",
    "scheduler = get_linear_schedule_with_warmup(optimizer, warmup_steps, total_steps)\n",
    "# scheduler = WarmupLinearSchedule(optimizer, warmup_steps=warmup_steps, t_total=total_steps)"
   ]
  },
  {
   "cell_type": "code",
   "execution_count": null,
   "metadata": {
    "colab": {
     "base_uri": "https://localhost:8080/"
    },
    "id": "m_-ryCQ_pinl",
    "outputId": "7fecafc9-c384-487c-d184-f77b773046fe"
   },
   "outputs": [
    {
     "name": "stdout",
     "output_type": "stream",
     "text": [
      "================================================== EPOCH 0 ==================================================\n"
     ]
    },
    {
     "name": "stderr",
     "output_type": "stream",
     "text": [
      "100%|██████████| 812/812 [08:08<00:00,  1.66it/s]\n"
     ]
    },
    {
     "name": "stdout",
     "output_type": "stream",
     "text": [
      "Train loss 0.31736027307147757\n",
      "================================================== EPOCH 1 ==================================================\n"
     ]
    },
    {
     "name": "stderr",
     "output_type": "stream",
     "text": [
      "100%|██████████| 812/812 [08:06<00:00,  1.67it/s]\n"
     ]
    },
    {
     "name": "stdout",
     "output_type": "stream",
     "text": [
      "Train loss 0.16124800353177957\n",
      "================================================== EPOCH 2 ==================================================\n"
     ]
    },
    {
     "name": "stderr",
     "output_type": "stream",
     "text": [
      "100%|██████████| 812/812 [08:10<00:00,  1.66it/s]\n"
     ]
    },
    {
     "name": "stdout",
     "output_type": "stream",
     "text": [
      "Train loss 0.13076399981039646\n",
      "================================================== EPOCH 3 ==================================================\n"
     ]
    },
    {
     "name": "stderr",
     "output_type": "stream",
     "text": [
      "100%|██████████| 812/812 [08:08<00:00,  1.66it/s]\n"
     ]
    },
    {
     "name": "stdout",
     "output_type": "stream",
     "text": [
      "Train loss 0.10927103324495073\n",
      "================================================== EPOCH 4 ==================================================\n"
     ]
    },
    {
     "name": "stderr",
     "output_type": "stream",
     "text": [
      "100%|██████████| 812/812 [08:09<00:00,  1.66it/s]\n"
     ]
    },
    {
     "name": "stdout",
     "output_type": "stream",
     "text": [
      "Train loss 0.0929172182928202\n",
      "================================================== EPOCH 5 ==================================================\n"
     ]
    },
    {
     "name": "stderr",
     "output_type": "stream",
     "text": [
      "100%|██████████| 812/812 [08:07<00:00,  1.66it/s]\n"
     ]
    },
    {
     "name": "stdout",
     "output_type": "stream",
     "text": [
      "Train loss 0.08077572518156777\n",
      "================================================== EPOCH 6 ==================================================\n"
     ]
    },
    {
     "name": "stderr",
     "output_type": "stream",
     "text": [
      "100%|██████████| 812/812 [08:09<00:00,  1.66it/s]\n"
     ]
    },
    {
     "name": "stdout",
     "output_type": "stream",
     "text": [
      "Train loss 0.07278126178382727\n",
      "================================================== EPOCH 7 ==================================================\n"
     ]
    },
    {
     "name": "stderr",
     "output_type": "stream",
     "text": [
      "100%|██████████| 812/812 [08:08<00:00,  1.66it/s]"
     ]
    },
    {
     "name": "stdout",
     "output_type": "stream",
     "text": [
      "Train loss 0.07109613822809802\n"
     ]
    },
    {
     "name": "stderr",
     "output_type": "stream",
     "text": [
      "\n"
     ]
    }
   ],
   "source": [
    "for i in range(EPOCH_NUM):\n",
    "    print('=' * 50, f\"EPOCH {i}\", '=' * 50)\n",
    "    train(model, train_iterator, optimizer, scheduler)\n",
    "    # evaluate(model, dev_iterator)"
   ]
  },
  {
   "cell_type": "code",
   "execution_count": null,
   "metadata": {
    "colab": {
     "base_uri": "https://localhost:8080/"
    },
    "id": "n6wyMilfpupc",
    "outputId": "9b50bf3f-25c1-484e-8486-c487a50fe0af"
   },
   "outputs": [
    {
     "name": "stderr",
     "output_type": "stream",
     "text": [
      "100%|██████████| 203/203 [00:43<00:00,  4.72it/s]\n"
     ]
    }
   ],
   "source": [
    "model.eval()\n",
    "y_pred=[]\n",
    "columns = ['toxic', 'severe_toxic', 'obscene', 'threat', 'insult', 'identity_hate','clean']\n",
    "for i in tqdm(range(len(test_df) // BATCH_SIZE + 1)):\n",
    "    batch_df = test_df.iloc[i * BATCH_SIZE: (i + 1) * BATCH_SIZE]\n",
    "    texts = []\n",
    "    for text in batch_df[\"comment_text\"].tolist():\n",
    "        text = tokenizer.encode(text, add_special_tokens=True)\n",
    "        if len(text) > 120:\n",
    "            text = text[:119] + [tokenizer.sep_token_id]\n",
    "        texts.append(torch.LongTensor(text))\n",
    "    x = pad_sequence(texts, batch_first=True, padding_value=tokenizer.pad_token_id).to(device)\n",
    "    mask = (x != tokenizer.pad_token_id).float().to(device)\n",
    "    with torch.no_grad():\n",
    "        _, outputs = model(x, attention_mask=mask)\n",
    "    outputs = outputs.cpu().numpy()\n",
    "    y_pred.append(outputs)"
   ]
  },
  {
   "cell_type": "code",
   "execution_count": null,
   "metadata": {
    "colab": {
     "base_uri": "https://localhost:8080/"
    },
    "id": "PKO0VVTLy2rO",
    "outputId": "ecbe923b-f11b-4248-cfab-b8b54ba13947"
   },
   "outputs": [
    {
     "name": "stderr",
     "output_type": "stream",
     "text": [
      "<ipython-input-73-c5eb8d659cd7>:1: VisibleDeprecationWarning: Creating an ndarray from ragged nested sequences (which is a list-or-tuple of lists-or-tuples-or ndarrays with different lengths or shapes) is deprecated. If you meant to do this, you must specify 'dtype=object' when creating the ndarray.\n",
      "  y_pred = np.vstack(np.asarray(y_pred))\n"
     ]
    }
   ],
   "source": [
    "y_pred = np.vstack(np.asarray(y_pred))"
   ]
  },
  {
   "cell_type": "code",
   "execution_count": null,
   "metadata": {
    "id": "r_2jFRV8v_w8"
   },
   "outputs": [],
   "source": [
    "y_pred = np.where(y_pred>0.5,1,0)"
   ]
  },
  {
   "cell_type": "code",
   "execution_count": null,
   "metadata": {
    "id": "CPDvBS8gzQto"
   },
   "outputs": [],
   "source": [
    "y_test = test_df.iloc[:,2:].values"
   ]
  },
  {
   "cell_type": "code",
   "execution_count": null,
   "metadata": {
    "colab": {
     "base_uri": "https://localhost:8080/"
    },
    "id": "xXH7sZDuzZws",
    "outputId": "56f7cea6-215b-4282-c897-7a28bca2d548"
   },
   "outputs": [
    {
     "name": "stdout",
     "output_type": "stream",
     "text": [
      "{'model_name': 'BERT', 'micro_avg_f1_score': 0.8586138229151489, 'hamming_loss': 0.06407660136473696, 'accuracy': 0.700462249614792}\n",
      "              precision    recall  f1-score   support\n",
      "\n",
      "           0       0.94      0.88      0.91      3237\n",
      "           1       0.47      0.55      0.51       247\n",
      "           2       0.85      0.83      0.84      1751\n",
      "           3       0.48      0.67      0.56        76\n",
      "           4       0.76      0.74      0.75      1600\n",
      "           5       0.56      0.56      0.56       266\n",
      "           6       0.93      0.94      0.93      3191\n",
      "\n",
      "   micro avg       0.86      0.85      0.86     10368\n",
      "   macro avg       0.71      0.74      0.72     10368\n",
      "weighted avg       0.87      0.85      0.86     10368\n",
      " samples avg       0.88      0.86      0.85     10368\n",
      "\n"
     ]
    }
   ],
   "source": [
    "arr={'model_name':'BERT','micro_avg_f1_score':f1_score(y_test, y_pred, average=\"micro\"),'hamming_loss':hamming_loss(y_test, y_pred),'accuracy':accuracy_score(y_test,y_pred)}\n",
    "print(arr)\n",
    "print(classification_report(y_pred,y_test,zero_division=0))"
   ]
  },
  {
   "cell_type": "markdown",
   "metadata": {
    "id": "z2DH_zaC3OKh"
   },
   "source": [
    "# Second dataset\n",
    "\n",
    "For this dataset as well, we perform similar preprocessing which is shown below."
   ]
  },
  {
   "cell_type": "code",
   "execution_count": null,
   "metadata": {
    "colab": {
     "base_uri": "https://localhost:8080/"
    },
    "id": "644ACBOaxck4",
    "outputId": "4a780c49-4bef-471a-f3db-34f5539dca18"
   },
   "outputs": [
    {
     "name": "stderr",
     "output_type": "stream",
     "text": [
      "[nltk_data] Downloading package reuters to /root/nltk_data...\n"
     ]
    }
   ],
   "source": [
    "# Load the dataset and extract the documents and labels\n",
    "import nltk\n",
    "\n",
    "nltk.download('reuters')\n",
    "docs = nltk.corpus.reuters.fileids()\n",
    "labels = [nltk.corpus.reuters.categories(doc) for doc in docs]\n",
    "texts = [nltk.corpus.reuters.raw(doc) for doc in docs]\n",
    "mlb = MultiLabelBinarizer()\n",
    "bin_labels = mlb.fit_transform(labels)\n",
    "label_names = mlb.classes_"
   ]
  },
  {
   "cell_type": "code",
   "execution_count": null,
   "metadata": {
    "colab": {
     "base_uri": "https://localhost:8080/"
    },
    "id": "51h4DUYayAG_",
    "outputId": "8f89d55e-5941-40ed-9ad2-1ea9af9ff571"
   },
   "outputs": [
    {
     "name": "stdout",
     "output_type": "stream",
     "text": [
      "                                                text  acq  alum  barley  bop  \\\n",
      "0  ASIAN EXPORTERS FEAR DAMAGE FROM U.S.-JAPAN RI...    0     0       0    0   \n",
      "1  CHINA DAILY SAYS VERMIN EAT 7-12 PCT GRAIN STO...    0     0       0    0   \n",
      "2  JAPAN TO REVISE LONG-TERM ENERGY DEMAND DOWNWA...    0     0       0    0   \n",
      "3  THAI TRADE DEFICIT WIDENS IN FIRST QUARTER\\n  ...    0     0       0    0   \n",
      "4  INDONESIA SEES CPO PRICE RISING SHARPLY\\n  Ind...    0     0       0    0   \n",
      "\n",
      "   carcass  castor-oil  cocoa  coconut  coconut-oil  ...  sun-oil  sunseed  \\\n",
      "0        0           0      0        0            0  ...        0        0   \n",
      "1        0           0      0        0            0  ...        0        0   \n",
      "2        0           0      0        0            0  ...        0        0   \n",
      "3        0           0      0        0            0  ...        0        0   \n",
      "4        0           0      0        0            0  ...        0        0   \n",
      "\n",
      "   tea  tin  trade  veg-oil  wheat  wpi  yen  zinc  \n",
      "0    0    0      1        0      0    0    0     0  \n",
      "1    0    0      0        0      0    0    0     0  \n",
      "2    0    0      0        0      0    0    0     0  \n",
      "3    0    1      1        0      0    0    0     0  \n",
      "4    0    0      0        1      0    0    0     0  \n",
      "\n",
      "[5 rows x 91 columns]\n"
     ]
    }
   ],
   "source": [
    "df = pd.DataFrame({'text': texts})\n",
    "for i, label in enumerate(label_names):\n",
    "    df[label] = bin_labels[:, i]\n",
    "\n",
    "print(df.head())\n",
    "labels = df.columns[1:]\n",
    "X_train = df['text']\n",
    "# X_test = test_df['comment_text']\n",
    "y_train = df.iloc[:,1:]"
   ]
  },
  {
   "cell_type": "code",
   "execution_count": null,
   "metadata": {
    "colab": {
     "base_uri": "https://localhost:8080/",
     "height": 647
    },
    "id": "56K4PoDwyOAn",
    "outputId": "46f95432-c45c-42e2-d653-c796b1098a85"
   },
   "outputs": [
    {
     "data": {
      "text/html": [
       "\n",
       "  <div id=\"df-0ced64c1-17ab-4ad7-a423-3876a20b55d8\">\n",
       "    <div class=\"colab-df-container\">\n",
       "      <div>\n",
       "<style scoped>\n",
       "    .dataframe tbody tr th:only-of-type {\n",
       "        vertical-align: middle;\n",
       "    }\n",
       "\n",
       "    .dataframe tbody tr th {\n",
       "        vertical-align: top;\n",
       "    }\n",
       "\n",
       "    .dataframe thead th {\n",
       "        text-align: right;\n",
       "    }\n",
       "</style>\n",
       "<table border=\"1\" class=\"dataframe\">\n",
       "  <thead>\n",
       "    <tr style=\"text-align: right;\">\n",
       "      <th></th>\n",
       "      <th>text</th>\n",
       "      <th>acq</th>\n",
       "      <th>alum</th>\n",
       "      <th>barley</th>\n",
       "      <th>bop</th>\n",
       "      <th>carcass</th>\n",
       "      <th>castor-oil</th>\n",
       "      <th>cocoa</th>\n",
       "      <th>coconut</th>\n",
       "      <th>coconut-oil</th>\n",
       "      <th>...</th>\n",
       "      <th>sun-oil</th>\n",
       "      <th>sunseed</th>\n",
       "      <th>tea</th>\n",
       "      <th>tin</th>\n",
       "      <th>trade</th>\n",
       "      <th>veg-oil</th>\n",
       "      <th>wheat</th>\n",
       "      <th>wpi</th>\n",
       "      <th>yen</th>\n",
       "      <th>zinc</th>\n",
       "    </tr>\n",
       "  </thead>\n",
       "  <tbody>\n",
       "    <tr>\n",
       "      <th>0</th>\n",
       "      <td>asian exporter fear damage u japan rift mounti...</td>\n",
       "      <td>0</td>\n",
       "      <td>0</td>\n",
       "      <td>0</td>\n",
       "      <td>0</td>\n",
       "      <td>0</td>\n",
       "      <td>0</td>\n",
       "      <td>0</td>\n",
       "      <td>0</td>\n",
       "      <td>0</td>\n",
       "      <td>...</td>\n",
       "      <td>0</td>\n",
       "      <td>0</td>\n",
       "      <td>0</td>\n",
       "      <td>0</td>\n",
       "      <td>1</td>\n",
       "      <td>0</td>\n",
       "      <td>0</td>\n",
       "      <td>0</td>\n",
       "      <td>0</td>\n",
       "      <td>0</td>\n",
       "    </tr>\n",
       "    <tr>\n",
       "      <th>1</th>\n",
       "      <td>china daily say vermin eat pct grain stock sur...</td>\n",
       "      <td>0</td>\n",
       "      <td>0</td>\n",
       "      <td>0</td>\n",
       "      <td>0</td>\n",
       "      <td>0</td>\n",
       "      <td>0</td>\n",
       "      <td>0</td>\n",
       "      <td>0</td>\n",
       "      <td>0</td>\n",
       "      <td>...</td>\n",
       "      <td>0</td>\n",
       "      <td>0</td>\n",
       "      <td>0</td>\n",
       "      <td>0</td>\n",
       "      <td>0</td>\n",
       "      <td>0</td>\n",
       "      <td>0</td>\n",
       "      <td>0</td>\n",
       "      <td>0</td>\n",
       "      <td>0</td>\n",
       "    </tr>\n",
       "    <tr>\n",
       "      <th>2</th>\n",
       "      <td>japan revise long term energy demand downwards...</td>\n",
       "      <td>0</td>\n",
       "      <td>0</td>\n",
       "      <td>0</td>\n",
       "      <td>0</td>\n",
       "      <td>0</td>\n",
       "      <td>0</td>\n",
       "      <td>0</td>\n",
       "      <td>0</td>\n",
       "      <td>0</td>\n",
       "      <td>...</td>\n",
       "      <td>0</td>\n",
       "      <td>0</td>\n",
       "      <td>0</td>\n",
       "      <td>0</td>\n",
       "      <td>0</td>\n",
       "      <td>0</td>\n",
       "      <td>0</td>\n",
       "      <td>0</td>\n",
       "      <td>0</td>\n",
       "      <td>0</td>\n",
       "    </tr>\n",
       "    <tr>\n",
       "      <th>3</th>\n",
       "      <td>thai trade deficit widens first quarter thaila...</td>\n",
       "      <td>0</td>\n",
       "      <td>0</td>\n",
       "      <td>0</td>\n",
       "      <td>0</td>\n",
       "      <td>0</td>\n",
       "      <td>0</td>\n",
       "      <td>0</td>\n",
       "      <td>0</td>\n",
       "      <td>0</td>\n",
       "      <td>...</td>\n",
       "      <td>0</td>\n",
       "      <td>0</td>\n",
       "      <td>0</td>\n",
       "      <td>1</td>\n",
       "      <td>1</td>\n",
       "      <td>0</td>\n",
       "      <td>0</td>\n",
       "      <td>0</td>\n",
       "      <td>0</td>\n",
       "      <td>0</td>\n",
       "    </tr>\n",
       "    <tr>\n",
       "      <th>4</th>\n",
       "      <td>indonesia see cpo price rising sharply indones...</td>\n",
       "      <td>0</td>\n",
       "      <td>0</td>\n",
       "      <td>0</td>\n",
       "      <td>0</td>\n",
       "      <td>0</td>\n",
       "      <td>0</td>\n",
       "      <td>0</td>\n",
       "      <td>0</td>\n",
       "      <td>0</td>\n",
       "      <td>...</td>\n",
       "      <td>0</td>\n",
       "      <td>0</td>\n",
       "      <td>0</td>\n",
       "      <td>0</td>\n",
       "      <td>0</td>\n",
       "      <td>1</td>\n",
       "      <td>0</td>\n",
       "      <td>0</td>\n",
       "      <td>0</td>\n",
       "      <td>0</td>\n",
       "    </tr>\n",
       "  </tbody>\n",
       "</table>\n",
       "<p>5 rows × 91 columns</p>\n",
       "</div>\n",
       "      <button class=\"colab-df-convert\" onclick=\"convertToInteractive('df-0ced64c1-17ab-4ad7-a423-3876a20b55d8')\"\n",
       "              title=\"Convert this dataframe to an interactive table.\"\n",
       "              style=\"display:none;\">\n",
       "        \n",
       "  <svg xmlns=\"http://www.w3.org/2000/svg\" height=\"24px\"viewBox=\"0 0 24 24\"\n",
       "       width=\"24px\">\n",
       "    <path d=\"M0 0h24v24H0V0z\" fill=\"none\"/>\n",
       "    <path d=\"M18.56 5.44l.94 2.06.94-2.06 2.06-.94-2.06-.94-.94-2.06-.94 2.06-2.06.94zm-11 1L8.5 8.5l.94-2.06 2.06-.94-2.06-.94L8.5 2.5l-.94 2.06-2.06.94zm10 10l.94 2.06.94-2.06 2.06-.94-2.06-.94-.94-2.06-.94 2.06-2.06.94z\"/><path d=\"M17.41 7.96l-1.37-1.37c-.4-.4-.92-.59-1.43-.59-.52 0-1.04.2-1.43.59L10.3 9.45l-7.72 7.72c-.78.78-.78 2.05 0 2.83L4 21.41c.39.39.9.59 1.41.59.51 0 1.02-.2 1.41-.59l7.78-7.78 2.81-2.81c.8-.78.8-2.07 0-2.86zM5.41 20L4 18.59l7.72-7.72 1.47 1.35L5.41 20z\"/>\n",
       "  </svg>\n",
       "      </button>\n",
       "      \n",
       "  <style>\n",
       "    .colab-df-container {\n",
       "      display:flex;\n",
       "      flex-wrap:wrap;\n",
       "      gap: 12px;\n",
       "    }\n",
       "\n",
       "    .colab-df-convert {\n",
       "      background-color: #E8F0FE;\n",
       "      border: none;\n",
       "      border-radius: 50%;\n",
       "      cursor: pointer;\n",
       "      display: none;\n",
       "      fill: #1967D2;\n",
       "      height: 32px;\n",
       "      padding: 0 0 0 0;\n",
       "      width: 32px;\n",
       "    }\n",
       "\n",
       "    .colab-df-convert:hover {\n",
       "      background-color: #E2EBFA;\n",
       "      box-shadow: 0px 1px 2px rgba(60, 64, 67, 0.3), 0px 1px 3px 1px rgba(60, 64, 67, 0.15);\n",
       "      fill: #174EA6;\n",
       "    }\n",
       "\n",
       "    [theme=dark] .colab-df-convert {\n",
       "      background-color: #3B4455;\n",
       "      fill: #D2E3FC;\n",
       "    }\n",
       "\n",
       "    [theme=dark] .colab-df-convert:hover {\n",
       "      background-color: #434B5C;\n",
       "      box-shadow: 0px 1px 3px 1px rgba(0, 0, 0, 0.15);\n",
       "      filter: drop-shadow(0px 1px 2px rgba(0, 0, 0, 0.3));\n",
       "      fill: #FFFFFF;\n",
       "    }\n",
       "  </style>\n",
       "\n",
       "      <script>\n",
       "        const buttonEl =\n",
       "          document.querySelector('#df-0ced64c1-17ab-4ad7-a423-3876a20b55d8 button.colab-df-convert');\n",
       "        buttonEl.style.display =\n",
       "          google.colab.kernel.accessAllowed ? 'block' : 'none';\n",
       "\n",
       "        async function convertToInteractive(key) {\n",
       "          const element = document.querySelector('#df-0ced64c1-17ab-4ad7-a423-3876a20b55d8');\n",
       "          const dataTable =\n",
       "            await google.colab.kernel.invokeFunction('convertToInteractive',\n",
       "                                                     [key], {});\n",
       "          if (!dataTable) return;\n",
       "\n",
       "          const docLinkHtml = 'Like what you see? Visit the ' +\n",
       "            '<a target=\"_blank\" href=https://colab.research.google.com/notebooks/data_table.ipynb>data table notebook</a>'\n",
       "            + ' to learn more about interactive tables.';\n",
       "          element.innerHTML = '';\n",
       "          dataTable['output_type'] = 'display_data';\n",
       "          await google.colab.output.renderOutput(dataTable, element);\n",
       "          const docLink = document.createElement('div');\n",
       "          docLink.innerHTML = docLinkHtml;\n",
       "          element.appendChild(docLink);\n",
       "        }\n",
       "      </script>\n",
       "    </div>\n",
       "  </div>\n",
       "  "
      ],
      "text/plain": [
       "                                                text  acq  alum  barley  bop  \\\n",
       "0  asian exporter fear damage u japan rift mounti...    0     0       0    0   \n",
       "1  china daily say vermin eat pct grain stock sur...    0     0       0    0   \n",
       "2  japan revise long term energy demand downwards...    0     0       0    0   \n",
       "3  thai trade deficit widens first quarter thaila...    0     0       0    0   \n",
       "4  indonesia see cpo price rising sharply indones...    0     0       0    0   \n",
       "\n",
       "   carcass  castor-oil  cocoa  coconut  coconut-oil  ...  sun-oil  sunseed  \\\n",
       "0        0           0      0        0            0  ...        0        0   \n",
       "1        0           0      0        0            0  ...        0        0   \n",
       "2        0           0      0        0            0  ...        0        0   \n",
       "3        0           0      0        0            0  ...        0        0   \n",
       "4        0           0      0        0            0  ...        0        0   \n",
       "\n",
       "   tea  tin  trade  veg-oil  wheat  wpi  yen  zinc  \n",
       "0    0    0      1        0      0    0    0     0  \n",
       "1    0    0      0        0      0    0    0     0  \n",
       "2    0    0      0        0      0    0    0     0  \n",
       "3    0    1      1        0      0    0    0     0  \n",
       "4    0    0      0        1      0    0    0     0  \n",
       "\n",
       "[5 rows x 91 columns]"
      ]
     },
     "execution_count": 135,
     "metadata": {},
     "output_type": "execute_result"
    }
   ],
   "source": [
    "df['text'] = df['text'].str.lower()\n",
    "df['text'] = df['text'].apply(cleanHtml)\n",
    "df['text'] = df['text'].apply(cleanPunc)\n",
    "df['text'] = df['text'].apply(keepAlpha)\n",
    "df['text'] = df['text'].apply(removeStopWords)\n",
    "df['text'] = df['text'].apply(lemmatize)\n",
    "\n",
    "df.head()"
   ]
  },
  {
   "cell_type": "code",
   "execution_count": null,
   "metadata": {
    "colab": {
     "base_uri": "https://localhost:8080/",
     "height": 699
    },
    "id": "fYhPDFiEyhCr",
    "outputId": "beb0036f-d8d2-4e75-c05f-fa21da90e68a"
   },
   "outputs": [
    {
     "data": {
      "image/png": "[encoded data removed]",
      "text/plain": [
       "<Figure size 1500x900 with 1 Axes>"
      ]
     },
     "metadata": {},
     "output_type": "display_data"
    }
   ],
   "source": [
    "# filter the DataFrame to include only numeric columns\n",
    "numeric_df = df.select_dtypes(include=['int', 'float'])\n",
    "# count the number of 1's in each column\n",
    "counts = numeric_df.sum()\n",
    "# create a bar chart of the counts with a larger figure size\n",
    "fig = plt.figure(figsize=(15, 9))\n",
    "counts.plot(kind='bar')\n",
    "# add chart labels\n",
    "plt.title('Counts of 1s in Columns')\n",
    "plt.xlabel('Columns')\n",
    "plt.ylabel('Count')\n",
    "# display the chart\n",
    "plt.show()"
   ]
  },
  {
   "cell_type": "markdown",
   "metadata": {
    "id": "Nx6dqUBy3VUt"
   },
   "source": [
    "Preparing training data for classical ML algorithms"
   ]
  },
  {
   "cell_type": "code",
   "execution_count": null,
   "metadata": {
    "colab": {
     "base_uri": "https://localhost:8080/"
    },
    "id": "J67Du-6tyrq0",
    "outputId": "848f6f95-6a62-45c1-ecb8-99c4f22a683b"
   },
   "outputs": [
    {
     "name": "stdout",
     "output_type": "stream",
     "text": [
      "(10788,) (10788, 90)\n",
      "(8630,) (2158,) (8630, 90) (2158, 90)\n",
      "(8630, 3000) (2158, 3000)\n"
     ]
    }
   ],
   "source": [
    "X = df['text'].values\n",
    "y = df.iloc[:,1:].values\n",
    "print(X.shape, y.shape)\n",
    "\n",
    "X_train, X_test, y_train, y_test = train_test_split(X, y, test_size=0.2,random_state=200)\n",
    "print(X_train.shape, X_test.shape, y_train.shape, y_test.shape )\n",
    "#ML preprocessing\n",
    "\n",
    "word_vectorizer = TfidfVectorizer(\n",
    "    strip_accents='unicode',     \n",
    "    analyzer='word',\n",
    "    max_features=3000,        \n",
    "    token_pattern=r'\\w{1,}',    \n",
    "    ngram_range=(1, 3),         \n",
    "    stop_words='english',\n",
    "    sublinear_tf=True)\n",
    "\n",
    "word_vectorizer.fit(X_train)\n",
    "ml_X_train = word_vectorizer.transform(X_train)\n",
    "ml_X_test = word_vectorizer.transform(X_test)\n",
    "\n",
    "print(ml_X_train.shape, ml_X_test.shape)"
   ]
  },
  {
   "cell_type": "code",
   "execution_count": null,
   "metadata": {
    "id": "CgCX45bR0q9Q"
   },
   "outputs": [],
   "source": [
    "scores_df = pd.DataFrame(columns=['model_name','micro_avg_f1_score','hamming_loss','accuracy'])"
   ]
  },
  {
   "cell_type": "code",
   "execution_count": null,
   "metadata": {
    "colab": {
     "base_uri": "https://localhost:8080/"
    },
    "id": "WBfSBe8vgSB-",
    "outputId": "3040a3e1-ccf2-4f8a-c97c-949f10bbf844"
   },
   "outputs": [
    {
     "name": "stdout",
     "output_type": "stream",
     "text": [
      "              precision    recall  f1-score   support\n",
      "\n",
      "           0       0.94      0.98      0.96       463\n",
      "           1       0.00      0.00      0.00         0\n",
      "           2       0.00      0.00      0.00         0\n",
      "           3       0.40      1.00      0.57         8\n",
      "           4       0.00      0.00      0.00         0\n",
      "           5       0.00      0.00      0.00         0\n",
      "           6       0.20      1.00      0.33         2\n",
      "           7       0.00      0.00      0.00         0\n",
      "           8       0.00      0.00      0.00         0\n",
      "           9       0.50      1.00      0.67        15\n",
      "          10       0.08      1.00      0.15         1\n",
      "          11       0.00      0.00      0.00         0\n",
      "          12       0.42      1.00      0.59        22\n",
      "          13       0.11      1.00      0.20         1\n",
      "          14       0.00      0.00      0.00         0\n",
      "          15       0.47      1.00      0.64         7\n",
      "          16       0.00      0.00      0.00         0\n",
      "          17       0.73      0.90      0.81       105\n",
      "          18       0.00      0.00      0.00         0\n",
      "          19       0.32      0.82      0.46        11\n",
      "          20       0.00      0.00      0.00         0\n",
      "          21       0.95      0.99      0.97       756\n",
      "          22       0.00      0.00      0.00         0\n",
      "          23       0.00      0.00      0.00         0\n",
      "          24       0.36      1.00      0.53         9\n",
      "          25       0.45      0.93      0.61        15\n",
      "          26       0.73      0.98      0.83        84\n",
      "          27       0.00      0.00      0.00         0\n",
      "          28       0.00      0.00      0.00         0\n",
      "          29       0.00      0.00      0.00         0\n",
      "          30       0.00      0.00      0.00         0\n",
      "          31       0.00      0.00      0.00         0\n",
      "          32       0.00      0.00      0.00         0\n",
      "          33       0.00      0.00      0.00         0\n",
      "          34       0.60      0.78      0.68        60\n",
      "          35       0.00      0.00      0.00         0\n",
      "          36       0.00      0.00      0.00         0\n",
      "          37       0.00      0.00      0.00         0\n",
      "          38       0.08      1.00      0.15         1\n",
      "          39       0.00      0.00      0.00         0\n",
      "          40       0.00      0.00      0.00         0\n",
      "          41       0.00      0.00      0.00         0\n",
      "          42       0.00      0.00      0.00         0\n",
      "          43       0.06      0.50      0.10         2\n",
      "          44       0.00      0.00      0.00         0\n",
      "          45       0.00      0.00      0.00         0\n",
      "          46       0.70      0.92      0.80       112\n",
      "          47       0.47      1.00      0.64        15\n",
      "          48       0.00      0.00      0.00         0\n",
      "          49       0.27      0.89      0.41         9\n",
      "          50       0.00      0.00      0.00         0\n",
      "          51       0.00      0.00      0.00         0\n",
      "          52       0.00      0.00      0.00         0\n",
      "          53       0.00      0.00      0.00         0\n",
      "          54       0.23      0.78      0.35         9\n",
      "          55       0.00      0.00      0.00         0\n",
      "          56       0.00      0.00      0.00         0\n",
      "          57       0.00      0.00      0.00         0\n",
      "          58       0.00      0.00      0.00         0\n",
      "          59       0.00      0.00      0.00         0\n",
      "          60       0.00      0.00      0.00         0\n",
      "          61       0.00      0.00      0.00         0\n",
      "          62       0.00      0.00      0.00         0\n",
      "          63       0.00      0.00      0.00         0\n",
      "          64       0.00      0.00      0.00         0\n",
      "          65       0.00      0.00      0.00         0\n",
      "          66       0.00      0.00      0.00         0\n",
      "          67       0.00      0.00      0.00         0\n",
      "          68       0.00      0.00      0.00         0\n",
      "          69       0.00      0.00      0.00         0\n",
      "          70       0.00      0.00      0.00         0\n",
      "          71       0.55      0.97      0.70        34\n",
      "          72       0.00      0.00      0.00         0\n",
      "          73       0.00      0.00      0.00         0\n",
      "          74       0.00      0.00      0.00         0\n",
      "          75       0.00      0.00      0.00         0\n",
      "          76       0.25      1.00      0.40         5\n",
      "          77       0.00      0.00      0.00         0\n",
      "          78       0.54      1.00      0.70        13\n",
      "          79       0.00      0.00      0.00         0\n",
      "          80       0.00      0.00      0.00         0\n",
      "          81       0.00      0.00      0.00         0\n",
      "          82       0.00      0.00      0.00         0\n",
      "          83       0.00      0.00      0.00         0\n",
      "          84       0.67      0.89      0.77        75\n",
      "          85       0.05      1.00      0.09         1\n",
      "          86       0.59      1.00      0.74        33\n",
      "          87       0.00      0.00      0.00         0\n",
      "          88       0.00      0.00      0.00         0\n",
      "          89       0.00      0.00      0.00         0\n",
      "\n",
      "   micro avg       0.68      0.96      0.80      1868\n",
      "   macro avg       0.13      0.28      0.17      1868\n",
      "weighted avg       0.83      0.96      0.88      1868\n",
      " samples avg       0.75      0.78      0.76      1868\n",
      "\n"
     ]
    },
    {
     "name": "stderr",
     "output_type": "stream",
     "text": [
      "<ipython-input-142-ba6a06d0e02b>:5: FutureWarning: The frame.append method is deprecated and will be removed from pandas in a future version. Use pandas.concat instead.\n",
      "  scores_df = scores_df.append(arr,ignore_index=True)\n"
     ]
    }
   ],
   "source": [
    "model = BinaryRelevance(LogisticRegression(solver='sag'))\n",
    "model.fit(ml_X_train, y_train)\n",
    "y_pred = model.predict(ml_X_test)\n",
    "arr={'model_name':'BR','micro_avg_f1_score':f1_score(y_test, y_pred, average=\"micro\"),'hamming_loss':hamming_loss(y_test, y_pred),'accuracy':accuracy_score(y_test,y_pred)}\n",
    "scores_df = scores_df.append(arr,ignore_index=True)\n",
    "print(classification_report(y_pred,y_test, zero_division=0))"
   ]
  },
  {
   "cell_type": "code",
   "execution_count": null,
   "metadata": {
    "colab": {
     "base_uri": "https://localhost:8080/"
    },
    "id": "8wwaIgmqchB-",
    "outputId": "5bee3061-aa64-44a1-bc6b-45362bbd774c"
   },
   "outputs": [
    {
     "name": "stdout",
     "output_type": "stream",
     "text": [
      "              precision    recall  f1-score   support\n",
      "\n",
      "           0       0.94      0.98      0.96       463\n",
      "           1       0.00      0.00      0.00         0\n",
      "           2       0.00      0.00      0.00         0\n",
      "           3       0.40      1.00      0.57         8\n",
      "           4       0.00      0.00      0.00         0\n",
      "           5       0.00      0.00      0.00         0\n",
      "           6       0.20      1.00      0.33         2\n",
      "           7       0.00      0.00      0.00         0\n",
      "           8       0.00      0.00      0.00         0\n",
      "           9       0.50      1.00      0.67        15\n",
      "          10       0.08      1.00      0.15         1\n",
      "          11       0.00      0.00      0.00         0\n",
      "          12       0.35      1.00      0.51        18\n",
      "          13       0.11      1.00      0.20         1\n",
      "          14       0.00      0.00      0.00         0\n",
      "          15       0.47      1.00      0.64         7\n",
      "          16       0.00      0.00      0.00         0\n",
      "          17       0.72      0.91      0.81       103\n",
      "          18       0.00      0.00      0.00         0\n",
      "          19       0.32      0.82      0.46        11\n",
      "          20       0.00      0.00      0.00         0\n",
      "          21       0.97      0.98      0.98       781\n",
      "          22       0.00      0.00      0.00         0\n",
      "          23       0.00      0.00      0.00         0\n",
      "          24       0.32      1.00      0.48         8\n",
      "          25       0.65      1.00      0.78        20\n",
      "          26       0.61      1.00      0.76        69\n",
      "          27       0.00      0.00      0.00         0\n",
      "          28       0.00      0.00      0.00         0\n",
      "          29       0.00      0.00      0.00         0\n",
      "          30       0.00      0.00      0.00         0\n",
      "          31       0.00      0.00      0.00         0\n",
      "          32       0.00      0.00      0.00         0\n",
      "          33       0.00      0.00      0.00         0\n",
      "          34       0.76      0.80      0.78        74\n",
      "          35       0.00      0.00      0.00         0\n",
      "          36       0.00      0.00      0.00         0\n",
      "          37       0.00      0.00      0.00         0\n",
      "          38       0.17      1.00      0.29         2\n",
      "          39       0.00      0.00      0.00         0\n",
      "          40       0.00      0.00      0.00         0\n",
      "          41       0.00      0.00      0.00         0\n",
      "          42       0.00      0.00      0.00         0\n",
      "          43       0.00      0.00      0.00         0\n",
      "          44       0.00      0.00      0.00         0\n",
      "          45       0.00      0.00      0.00         0\n",
      "          46       0.73      0.93      0.82       116\n",
      "          47       0.59      1.00      0.75        19\n",
      "          48       0.00      0.00      0.00         0\n",
      "          49       0.30      0.90      0.45        10\n",
      "          50       0.00      0.00      0.00         0\n",
      "          51       0.00      0.00      0.00         0\n",
      "          52       0.00      0.00      0.00         0\n",
      "          53       0.00      0.00      0.00         0\n",
      "          54       0.23      0.78      0.35         9\n",
      "          55       0.00      0.00      0.00         0\n",
      "          56       0.00      0.00      0.00         0\n",
      "          57       0.00      0.00      0.00         0\n",
      "          58       0.00      0.00      0.00         0\n",
      "          59       0.00      0.00      0.00         0\n",
      "          60       0.00      0.00      0.00         0\n",
      "          61       0.00      0.00      0.00         0\n",
      "          62       0.00      0.00      0.00         0\n",
      "          63       0.00      0.00      0.00         0\n",
      "          64       0.00      0.00      0.00         0\n",
      "          65       0.00      0.00      0.00         0\n",
      "          66       0.08      1.00      0.15         1\n",
      "          67       0.00      0.00      0.00         0\n",
      "          68       0.00      0.00      0.00         0\n",
      "          69       0.10      1.00      0.18         1\n",
      "          70       0.00      0.00      0.00         0\n",
      "          71       0.62      0.97      0.76        38\n",
      "          72       0.00      0.00      0.00         0\n",
      "          73       0.00      0.00      0.00         0\n",
      "          74       0.00      0.00      0.00         0\n",
      "          75       0.00      0.00      0.00         0\n",
      "          76       0.30      0.75      0.43         8\n",
      "          77       0.00      0.00      0.00         0\n",
      "          78       0.58      1.00      0.74        14\n",
      "          79       0.00      0.00      0.00         0\n",
      "          80       0.00      0.00      0.00         0\n",
      "          81       0.00      0.00      0.00         0\n",
      "          82       0.00      0.00      0.00         0\n",
      "          83       0.00      0.00      0.00         0\n",
      "          84       0.83      0.85      0.84        98\n",
      "          85       0.05      1.00      0.09         1\n",
      "          86       0.68      0.93      0.78        41\n",
      "          87       0.00      0.00      0.00         0\n",
      "          88       0.00      0.00      0.00         0\n",
      "          89       0.00      0.00      0.00         0\n",
      "\n",
      "   micro avg       0.70      0.96      0.81      1939\n",
      "   macro avg       0.14      0.30      0.17      1939\n",
      "weighted avg       0.85      0.96      0.89      1939\n",
      " samples avg       0.77      0.80      0.78      1939\n",
      "\n"
     ]
    },
    {
     "name": "stderr",
     "output_type": "stream",
     "text": [
      "<ipython-input-143-0040459b4f27>:12: FutureWarning: The frame.append method is deprecated and will be removed from pandas in a future version. Use pandas.concat instead.\n",
      "  scores_df = scores_df.append(arr,ignore_index=True)\n"
     ]
    }
   ],
   "source": [
    "import warnings\n",
    "from sklearn.exceptions import ConvergenceWarning\n",
    "\n",
    "# Set the warning filter to ignore ConvergenceWarning\n",
    "warnings.filterwarnings('ignore', category=ConvergenceWarning)\n",
    "\n",
    "model = ClassifierChain(LogisticRegression(solver='sag', max_iter=1000))\n",
    "model.fit(ml_X_train, y_train)\n",
    "y_pred = model.predict(ml_X_test)\n",
    "arr={'model_name':'Classifier_Chain','micro_avg_f1_score':f1_score(y_test, y_pred, average=\"micro\"),'hamming_loss':hamming_loss(y_test, y_pred),'accuracy':accuracy_score(y_test,y_pred)}\n",
    "\n",
    "scores_df = scores_df.append(arr,ignore_index=True)\n",
    "print(classification_report(y_pred,y_test,zero_division=0))\n",
    "\n",
    "# Reset the warning filter to its default behavior\n",
    "warnings.filterwarnings('default', category=ConvergenceWarning)"
   ]
  },
  {
   "cell_type": "code",
   "execution_count": null,
   "metadata": {
    "colab": {
     "base_uri": "https://localhost:8080/"
    },
    "id": "7VcNDScCh997",
    "outputId": "95f5d6b5-d0be-44ee-b4fc-878a0cc3949b"
   },
   "outputs": [
    {
     "name": "stdout",
     "output_type": "stream",
     "text": [
      "              precision    recall  f1-score   support\n",
      "\n",
      "           0       0.98      0.83      0.90       564\n",
      "           1       0.38      0.83      0.53         6\n",
      "           2       0.00      0.00      0.00         0\n",
      "           3       0.60      0.92      0.73        13\n",
      "           4       0.33      0.67      0.44         3\n",
      "           5       0.00      0.00      0.00         0\n",
      "           6       0.80      1.00      0.89         8\n",
      "           7       0.00      0.00      0.00         0\n",
      "           8       0.00      0.00      0.00         0\n",
      "           9       0.80      1.00      0.89        24\n",
      "          10       0.58      1.00      0.74         7\n",
      "          11       0.00      0.00      0.00         0\n",
      "          12       0.48      1.00      0.65        25\n",
      "          13       0.56      1.00      0.71         5\n",
      "          14       0.00      0.00      0.00         0\n",
      "          15       0.80      0.71      0.75        17\n",
      "          16       0.00      0.00      0.00         0\n",
      "          17       0.82      0.80      0.81       133\n",
      "          18       0.00      0.00      0.00         0\n",
      "          19       0.39      0.79      0.52        14\n",
      "          20       0.00      0.00      0.00         0\n",
      "          21       0.98      0.94      0.96       821\n",
      "          22       0.00      0.00      0.00         0\n",
      "          23       0.00      0.00      0.00         0\n",
      "          24       0.64      1.00      0.78        16\n",
      "          25       0.81      1.00      0.89        25\n",
      "          26       0.73      0.95      0.83        87\n",
      "          27       0.00      0.00      0.00         0\n",
      "          28       0.00      0.00      0.00         0\n",
      "          29       0.00      0.00      0.00         0\n",
      "          30       0.50      1.00      0.67         1\n",
      "          31       0.50      1.00      0.67         1\n",
      "          32       0.00      0.00      0.00         0\n",
      "          33       0.00      0.00      0.00         0\n",
      "          34       0.82      0.79      0.81        81\n",
      "          35       0.64      1.00      0.78         7\n",
      "          36       0.30      1.00      0.46         3\n",
      "          37       0.00      0.00      0.00         0\n",
      "          38       0.75      1.00      0.86         9\n",
      "          39       0.00      0.00      0.00         0\n",
      "          40       0.00      0.00      0.00         0\n",
      "          41       1.00      1.00      1.00         2\n",
      "          42       0.00      0.00      0.00         0\n",
      "          43       0.28      0.83      0.42         6\n",
      "          44       0.00      0.00      0.00         0\n",
      "          45       0.00      0.00      0.00         0\n",
      "          46       0.80      0.89      0.84       132\n",
      "          47       0.84      0.93      0.89        29\n",
      "          48       0.00      0.00      0.00         0\n",
      "          49       0.30      0.90      0.45        10\n",
      "          50       0.00      0.00      0.00         0\n",
      "          51       0.00      0.00      0.00         0\n",
      "          52       0.00      0.00      0.00         0\n",
      "          53       0.00      0.00      0.00         0\n",
      "          54       0.23      0.88      0.36         8\n",
      "          55       0.67      1.00      0.80         2\n",
      "          56       0.00      0.00      0.00         0\n",
      "          57       0.60      1.00      0.75         3\n",
      "          58       0.00      0.00      0.00         0\n",
      "          59       0.00      0.00      0.00         0\n",
      "          60       0.00      0.00      0.00         0\n",
      "          61       0.00      0.00      0.00         0\n",
      "          62       0.00      0.00      0.00         0\n",
      "          63       0.00      0.00      0.00         0\n",
      "          64       0.00      0.00      0.00         0\n",
      "          65       0.60      1.00      0.75         3\n",
      "          66       0.42      1.00      0.59         5\n",
      "          67       0.00      0.00      0.00         0\n",
      "          68       0.00      0.00      0.00         0\n",
      "          69       0.60      1.00      0.75         6\n",
      "          70       0.00      0.00      0.00         0\n",
      "          71       0.73      0.92      0.81        48\n",
      "          72       0.00      0.00      0.00         0\n",
      "          73       0.00      0.00      0.00         0\n",
      "          74       0.00      0.00      0.00         0\n",
      "          75       0.00      0.00      0.00         0\n",
      "          76       0.25      1.00      0.40         5\n",
      "          77       0.00      0.00      0.00         0\n",
      "          78       0.79      0.90      0.84        21\n",
      "          79       0.00      0.00      0.00         0\n",
      "          80       0.00      0.00      0.00         0\n",
      "          81       0.00      0.00      0.00         0\n",
      "          82       0.00      0.00      0.00         0\n",
      "          83       0.38      1.00      0.55         3\n",
      "          84       0.90      0.73      0.80       124\n",
      "          85       0.24      1.00      0.38         5\n",
      "          86       0.80      0.83      0.82        54\n",
      "          87       0.33      1.00      0.50         2\n",
      "          88       0.00      0.00      0.00         0\n",
      "          89       0.00      0.00      0.00         0\n",
      "\n",
      "   micro avg       0.78      0.88      0.83      2338\n",
      "   macro avg       0.28      0.42      0.32      2338\n",
      "weighted avg       0.89      0.88      0.88      2338\n",
      " samples avg       0.86      0.89      0.86      2338\n",
      "\n"
     ]
    },
    {
     "name": "stderr",
     "output_type": "stream",
     "text": [
      "<ipython-input-144-a377907869e2>:5: FutureWarning: The frame.append method is deprecated and will be removed from pandas in a future version. Use pandas.concat instead.\n",
      "  scores_df = scores_df.append(arr,ignore_index=True)\n"
     ]
    }
   ],
   "source": [
    "model = LabelPowerset(LogisticRegression(max_iter=1000))\n",
    "model.fit(ml_X_train, y_train)\n",
    "y_pred = model.predict(ml_X_test)\n",
    "arr={'model_name':'Label_Powerset Chain','micro_avg_f1_score':f1_score(y_test, y_pred, average=\"micro\"),'hamming_loss':hamming_loss(y_test, y_pred),'accuracy':accuracy_score(y_test,y_pred)}\n",
    "scores_df = scores_df.append(arr,ignore_index=True)\n",
    "print(classification_report(y_pred,y_test,zero_division=0))"
   ]
  },
  {
   "cell_type": "code",
   "execution_count": null,
   "metadata": {
    "colab": {
     "base_uri": "https://localhost:8080/",
     "height": 143
    },
    "id": "TpKejYqvkDqR",
    "outputId": "54f6b862-def9-45b8-dbf0-6c0466e7e2e9"
   },
   "outputs": [
    {
     "data": {
      "text/html": [
       "\n",
       "  <div id=\"df-428c6f42-3205-4a13-b353-3b0002a3e4be\">\n",
       "    <div class=\"colab-df-container\">\n",
       "      <div>\n",
       "<style scoped>\n",
       "    .dataframe tbody tr th:only-of-type {\n",
       "        vertical-align: middle;\n",
       "    }\n",
       "\n",
       "    .dataframe tbody tr th {\n",
       "        vertical-align: top;\n",
       "    }\n",
       "\n",
       "    .dataframe thead th {\n",
       "        text-align: right;\n",
       "    }\n",
       "</style>\n",
       "<table border=\"1\" class=\"dataframe\">\n",
       "  <thead>\n",
       "    <tr style=\"text-align: right;\">\n",
       "      <th></th>\n",
       "      <th>model_name</th>\n",
       "      <th>micro_avg_f1_score</th>\n",
       "      <th>hamming_loss</th>\n",
       "      <th>accuracy</th>\n",
       "    </tr>\n",
       "  </thead>\n",
       "  <tbody>\n",
       "    <tr>\n",
       "      <th>0</th>\n",
       "      <td>BR</td>\n",
       "      <td>0.800178</td>\n",
       "      <td>0.004634</td>\n",
       "      <td>0.709917</td>\n",
       "    </tr>\n",
       "    <tr>\n",
       "      <th>1</th>\n",
       "      <td>Classifier_Chain</td>\n",
       "      <td>0.812240</td>\n",
       "      <td>0.004423</td>\n",
       "      <td>0.736330</td>\n",
       "    </tr>\n",
       "    <tr>\n",
       "      <th>2</th>\n",
       "      <td>Label_Powerset Chain</td>\n",
       "      <td>0.831524</td>\n",
       "      <td>0.004315</td>\n",
       "      <td>0.812790</td>\n",
       "    </tr>\n",
       "  </tbody>\n",
       "</table>\n",
       "</div>\n",
       "      <button class=\"colab-df-convert\" onclick=\"convertToInteractive('df-428c6f42-3205-4a13-b353-3b0002a3e4be')\"\n",
       "              title=\"Convert this dataframe to an interactive table.\"\n",
       "              style=\"display:none;\">\n",
       "        \n",
       "  <svg xmlns=\"http://www.w3.org/2000/svg\" height=\"24px\"viewBox=\"0 0 24 24\"\n",
       "       width=\"24px\">\n",
       "    <path d=\"M0 0h24v24H0V0z\" fill=\"none\"/>\n",
       "    <path d=\"M18.56 5.44l.94 2.06.94-2.06 2.06-.94-2.06-.94-.94-2.06-.94 2.06-2.06.94zm-11 1L8.5 8.5l.94-2.06 2.06-.94-2.06-.94L8.5 2.5l-.94 2.06-2.06.94zm10 10l.94 2.06.94-2.06 2.06-.94-2.06-.94-.94-2.06-.94 2.06-2.06.94z\"/><path d=\"M17.41 7.96l-1.37-1.37c-.4-.4-.92-.59-1.43-.59-.52 0-1.04.2-1.43.59L10.3 9.45l-7.72 7.72c-.78.78-.78 2.05 0 2.83L4 21.41c.39.39.9.59 1.41.59.51 0 1.02-.2 1.41-.59l7.78-7.78 2.81-2.81c.8-.78.8-2.07 0-2.86zM5.41 20L4 18.59l7.72-7.72 1.47 1.35L5.41 20z\"/>\n",
       "  </svg>\n",
       "      </button>\n",
       "      \n",
       "  <style>\n",
       "    .colab-df-container {\n",
       "      display:flex;\n",
       "      flex-wrap:wrap;\n",
       "      gap: 12px;\n",
       "    }\n",
       "\n",
       "    .colab-df-convert {\n",
       "      background-color: #E8F0FE;\n",
       "      border: none;\n",
       "      border-radius: 50%;\n",
       "      cursor: pointer;\n",
       "      display: none;\n",
       "      fill: #1967D2;\n",
       "      height: 32px;\n",
       "      padding: 0 0 0 0;\n",
       "      width: 32px;\n",
       "    }\n",
       "\n",
       "    .colab-df-convert:hover {\n",
       "      background-color: #E2EBFA;\n",
       "      box-shadow: 0px 1px 2px rgba(60, 64, 67, 0.3), 0px 1px 3px 1px rgba(60, 64, 67, 0.15);\n",
       "      fill: #174EA6;\n",
       "    }\n",
       "\n",
       "    [theme=dark] .colab-df-convert {\n",
       "      background-color: #3B4455;\n",
       "      fill: #D2E3FC;\n",
       "    }\n",
       "\n",
       "    [theme=dark] .colab-df-convert:hover {\n",
       "      background-color: #434B5C;\n",
       "      box-shadow: 0px 1px 3px 1px rgba(0, 0, 0, 0.15);\n",
       "      filter: drop-shadow(0px 1px 2px rgba(0, 0, 0, 0.3));\n",
       "      fill: #FFFFFF;\n",
       "    }\n",
       "  </style>\n",
       "\n",
       "      <script>\n",
       "        const buttonEl =\n",
       "          document.querySelector('#df-428c6f42-3205-4a13-b353-3b0002a3e4be button.colab-df-convert');\n",
       "        buttonEl.style.display =\n",
       "          google.colab.kernel.accessAllowed ? 'block' : 'none';\n",
       "\n",
       "        async function convertToInteractive(key) {\n",
       "          const element = document.querySelector('#df-428c6f42-3205-4a13-b353-3b0002a3e4be');\n",
       "          const dataTable =\n",
       "            await google.colab.kernel.invokeFunction('convertToInteractive',\n",
       "                                                     [key], {});\n",
       "          if (!dataTable) return;\n",
       "\n",
       "          const docLinkHtml = 'Like what you see? Visit the ' +\n",
       "            '<a target=\"_blank\" href=https://colab.research.google.com/notebooks/data_table.ipynb>data table notebook</a>'\n",
       "            + ' to learn more about interactive tables.';\n",
       "          element.innerHTML = '';\n",
       "          dataTable['output_type'] = 'display_data';\n",
       "          await google.colab.output.renderOutput(dataTable, element);\n",
       "          const docLink = document.createElement('div');\n",
       "          docLink.innerHTML = docLinkHtml;\n",
       "          element.appendChild(docLink);\n",
       "        }\n",
       "      </script>\n",
       "    </div>\n",
       "  </div>\n",
       "  "
      ],
      "text/plain": [
       "             model_name  micro_avg_f1_score  hamming_loss  accuracy\n",
       "0                    BR            0.800178      0.004634  0.709917\n",
       "1      Classifier_Chain            0.812240      0.004423  0.736330\n",
       "2  Label_Powerset Chain            0.831524      0.004315  0.812790"
      ]
     },
     "execution_count": 145,
     "metadata": {},
     "output_type": "execute_result"
    }
   ],
   "source": [
    "scores_df"
   ]
  },
  {
   "cell_type": "code",
   "execution_count": null,
   "metadata": {
    "colab": {
     "base_uri": "https://localhost:8080/"
    },
    "id": "YUGGG11WDaFC",
    "outputId": "95ac47e1-4759-41ac-954b-465fc527481e"
   },
   "outputs": [
    {
     "name": "stdout",
     "output_type": "stream",
     "text": [
      "torch.Size([8630, 70]) torch.Size([2158, 70]) torch.Size([8630, 90]) torch.Size([2158, 90])\n",
      "24610\n"
     ]
    }
   ],
   "source": [
    "# from sklearn.model_selection import train_test_split\n",
    "# X_train, X_val, y_train, y_val = train_test_split(X_train, y_train, test_size=0.2,random_state=200)\n",
    "#DL preprocessing\n",
    "\n",
    "tokenizer = Tokenizer(num_words=20000,oov_token='<UNK>')\n",
    "tokenizer.fit_on_texts(X_train)\n",
    "sequences_text_train = tokenizer.texts_to_sequences(X_train)\n",
    "sequences_text_test = tokenizer.texts_to_sequences(X_test)\n",
    "\n",
    "X_train = torch.from_numpy(pad_sequences(sequences_text_train, maxlen=70))\n",
    "X_test = torch.from_numpy(pad_sequences(sequences_text_test, maxlen=70))\n",
    "\n",
    "y_train = torch.from_numpy(y_train)\n",
    "y_test = torch.from_numpy(y_test)\n",
    "\n",
    "print(X_train.shape, X_test.shape, y_train.shape, y_test.shape )\n",
    "print(len(tokenizer.index_word))"
   ]
  },
  {
   "cell_type": "code",
   "execution_count": null,
   "metadata": {
    "colab": {
     "base_uri": "https://localhost:8080/"
    },
    "id": "bS-eUxLq2QOC",
    "outputId": "273cfd2a-5cb7-49a3-9a9c-a05ff4593a85"
   },
   "outputs": [
    {
     "name": "stdout",
     "output_type": "stream",
     "text": [
      "VOCAB_SIZE : 24611\n",
      "TOTAL OF UNKNOWN WORD : 4653\n"
     ]
    }
   ],
   "source": [
    "#Load glove embedding\n",
    "glove_embeddings = {}\n",
    "with open('glove.6B/glove.6B.300d.txt', 'r', encoding='utf-8') as f:\n",
    "    for line in f:\n",
    "        parts = line.split()\n",
    "        word = parts[0]\n",
    "        vector = np.array(parts[1:], dtype=np.float32)\n",
    "        glove_embeddings[word] = vector\n",
    "\n",
    "VOCAB_SIZE = len(tokenizer.index_word)+1\n",
    "glove_embedding_matrix = torch.zeros(VOCAB_SIZE, 300)\n",
    "\n",
    "unk = 0\n",
    "for i in range(1, VOCAB_SIZE):\n",
    "  word = tokenizer.index_word[i]\n",
    "  if word in glove_embeddings.keys():\n",
    "    glove_embedding_matrix[i] = torch.from_numpy(glove_embeddings[word]).float()\n",
    "  else:\n",
    "    unk +=1\n",
    "print('VOCAB_SIZE : {}'.format(VOCAB_SIZE))\n",
    "print('TOTAL OF UNKNOWN WORD : {}'.format(unk))"
   ]
  },
  {
   "cell_type": "code",
   "execution_count": null,
   "metadata": {
    "id": "DTxHZkoOm_Ch"
   },
   "outputs": [],
   "source": [
    "class MLP_Glove(nn.Module):\n",
    "    def __init__(self, input_dim, hidden_dim, output_dim):\n",
    "        super(MLP_Glove, self).__init__()\n",
    "        self.embedding = nn.Embedding.from_pretrained(glove_embedding_matrix)\n",
    "        self.fc1 = nn.Linear(300, hidden_dim)\n",
    "        self.fc2 = nn.Linear(hidden_dim, output_dim)\n",
    "        self.relu = nn.ReLU()\n",
    "        self.sigmoid = nn.Sigmoid()\n",
    "\n",
    "    def forward(self, x):\n",
    "        embedding = self.embedding(x)\n",
    "        out = torch.mean(embedding,dim=1)\n",
    "        out = self.relu(self.fc1(out))\n",
    "        out = self.sigmoid(self.fc2(out))\n",
    "        return out"
   ]
  },
  {
   "cell_type": "code",
   "execution_count": null,
   "metadata": {
    "id": "-tyXsFGpnDxZ"
   },
   "outputs": [],
   "source": [
    "from torch.utils.data import DataLoader, TensorDataset\n",
    "train_dataset = TensorDataset(X_train, y_train)\n",
    "train_dataloader = DataLoader(train_dataset, batch_size=256, shuffle=True)\n",
    "device = torch.device('cuda')"
   ]
  },
  {
   "cell_type": "code",
   "execution_count": null,
   "metadata": {
    "colab": {
     "base_uri": "https://localhost:8080/"
    },
    "id": "3k8wzRIxnI3m",
    "outputId": "b260c1eb-ae3b-4d9c-ca58-7cb340b915f9"
   },
   "outputs": [
    {
     "name": "stdout",
     "output_type": "stream",
     "text": [
      "Epoch [1/100], Loss: 0.6476\n",
      "Epoch [2/100], Loss: 0.6304\n",
      "Epoch [3/100], Loss: 0.6286\n",
      "Epoch [4/100], Loss: 0.6283\n",
      "Epoch [5/100], Loss: 0.6273\n",
      "Epoch [6/100], Loss: 0.6265\n",
      "Epoch [7/100], Loss: 0.6261\n",
      "Epoch [8/100], Loss: 0.6242\n",
      "Epoch [9/100], Loss: 0.6235\n",
      "Epoch [10/100], Loss: 0.6208\n",
      "Epoch [11/100], Loss: 0.6173\n",
      "Epoch [12/100], Loss: 0.6150\n",
      "Epoch [13/100], Loss: 0.6133\n",
      "Epoch [14/100], Loss: 0.6124\n",
      "Epoch [15/100], Loss: 0.6116\n",
      "Epoch [16/100], Loss: 0.6097\n",
      "Epoch [17/100], Loss: 0.6087\n",
      "Epoch [18/100], Loss: 0.6059\n",
      "Epoch [19/100], Loss: 0.6042\n",
      "Epoch [20/100], Loss: 0.6024\n",
      "Epoch [21/100], Loss: 0.6006\n",
      "Epoch [22/100], Loss: 0.6002\n",
      "Epoch [23/100], Loss: 0.5996\n",
      "Epoch [24/100], Loss: 0.5995\n",
      "Epoch [25/100], Loss: 0.5990\n",
      "Epoch [26/100], Loss: 0.5986\n",
      "Epoch [27/100], Loss: 0.5983\n",
      "Epoch [28/100], Loss: 0.5984\n",
      "Epoch [29/100], Loss: 0.5979\n",
      "Epoch [30/100], Loss: 0.5977\n",
      "Epoch [31/100], Loss: 0.5977\n",
      "Epoch [32/100], Loss: 0.5970\n",
      "Epoch [33/100], Loss: 0.5975\n",
      "Epoch [34/100], Loss: 0.5970\n",
      "Epoch [35/100], Loss: 0.5960\n",
      "Epoch [36/100], Loss: 0.5962\n",
      "Epoch [37/100], Loss: 0.5961\n",
      "Epoch [38/100], Loss: 0.5959\n",
      "Epoch [39/100], Loss: 0.5957\n",
      "Epoch [40/100], Loss: 0.5956\n",
      "Epoch [41/100], Loss: 0.5960\n",
      "Epoch [42/100], Loss: 0.5960\n",
      "Epoch [43/100], Loss: 0.5951\n",
      "Epoch [44/100], Loss: 0.5958\n",
      "Epoch [45/100], Loss: 0.5958\n",
      "Epoch [46/100], Loss: 0.5952\n",
      "Epoch [47/100], Loss: 0.5947\n",
      "Epoch [48/100], Loss: 0.5950\n",
      "Epoch [49/100], Loss: 0.5947\n",
      "Epoch [50/100], Loss: 0.5954\n",
      "Epoch [51/100], Loss: 0.5949\n",
      "Epoch [52/100], Loss: 0.5944\n",
      "Epoch [53/100], Loss: 0.5950\n",
      "Epoch [54/100], Loss: 0.5945\n",
      "Epoch [55/100], Loss: 0.5946\n",
      "Epoch [56/100], Loss: 0.5944\n",
      "Epoch [57/100], Loss: 0.5943\n",
      "Epoch [58/100], Loss: 0.5944\n",
      "Epoch [59/100], Loss: 0.5943\n",
      "Epoch [60/100], Loss: 0.5938\n",
      "Epoch [61/100], Loss: 0.5939\n",
      "Epoch [62/100], Loss: 0.5940\n",
      "Epoch [63/100], Loss: 0.5941\n",
      "Epoch [64/100], Loss: 0.5938\n",
      "Epoch [65/100], Loss: 0.5939\n",
      "Epoch [66/100], Loss: 0.5942\n",
      "Epoch [67/100], Loss: 0.5938\n",
      "Epoch [68/100], Loss: 0.5938\n",
      "Epoch [69/100], Loss: 0.5943\n",
      "Epoch [70/100], Loss: 0.5945\n",
      "Epoch [71/100], Loss: 0.5938\n",
      "Epoch [72/100], Loss: 0.5940\n",
      "Epoch [73/100], Loss: 0.5934\n",
      "Epoch [74/100], Loss: 0.5934\n",
      "Epoch [75/100], Loss: 0.5941\n",
      "Epoch [76/100], Loss: 0.5933\n",
      "Epoch [77/100], Loss: 0.5938\n",
      "Epoch [78/100], Loss: 0.5934\n",
      "Epoch [79/100], Loss: 0.5932\n",
      "Epoch [80/100], Loss: 0.5935\n",
      "Epoch [81/100], Loss: 0.5942\n",
      "Epoch [82/100], Loss: 0.5940\n",
      "Epoch [83/100], Loss: 0.5937\n",
      "Epoch [84/100], Loss: 0.5939\n",
      "Epoch [85/100], Loss: 0.5937\n",
      "Epoch [86/100], Loss: 0.5936\n",
      "Epoch [87/100], Loss: 0.5938\n",
      "Epoch [88/100], Loss: 0.5934\n",
      "Epoch [89/100], Loss: 0.5933\n",
      "Epoch [90/100], Loss: 0.5933\n",
      "Epoch [91/100], Loss: 0.5933\n",
      "Epoch [92/100], Loss: 0.5938\n",
      "Epoch [93/100], Loss: 0.5933\n",
      "Epoch [94/100], Loss: 0.5932\n",
      "Epoch [95/100], Loss: 0.5938\n",
      "Epoch [96/100], Loss: 0.5935\n",
      "Epoch [97/100], Loss: 0.5935\n",
      "Epoch [98/100], Loss: 0.5937\n",
      "Epoch [99/100], Loss: 0.5936\n",
      "Epoch [100/100], Loss: 0.5934\n"
     ]
    }
   ],
   "source": [
    "model = MLP_Glove(70, 300, 90).to(device)\n",
    "\n",
    "# Define loss function and optimizer\n",
    "criterion = nn.CrossEntropyLoss()\n",
    "optimizer = torch.optim.Adam(model.parameters(), lr=0.01)\n",
    "\n",
    "# Generate dummy input and target data\n",
    "\n",
    "num_epochs = 100\n",
    "for epoch in range(num_epochs):\n",
    "    total_loss=0\n",
    "    for i,(inputs, targets) in enumerate(train_dataloader):\n",
    "        # Forward pass\n",
    "        # inputs = inputs.to(next(model.parameters()).dtype)\n",
    "        # targets = targets.to(model.device)\n",
    "        output = model(inputs.to(device))\n",
    "        # print(output)\n",
    "        targets = targets.float().to(device)\n",
    "        \n",
    "        # Compute loss\n",
    "        loss = criterion(output, targets).to(device)\n",
    "        total_loss+=loss.item()\n",
    "        \n",
    "        # Backward pass and update weights\n",
    "        optimizer.zero_grad()\n",
    "        loss.backward()\n",
    "        optimizer.step()\n",
    "        \n",
    "    # Print loss every 10 epochs\n",
    "    print('Epoch [{}/{}], Loss: {:.4f}'.format(epoch+1, num_epochs, total_loss/256))"
   ]
  },
  {
   "cell_type": "code",
   "execution_count": null,
   "metadata": {
    "id": "GlKG0CcJ3L5t"
   },
   "outputs": [],
   "source": [
    "test_dataset = TensorDataset(X_test, y_test)\n",
    "test_dataloader = DataLoader(test_dataset, batch_size=256, shuffle=True)"
   ]
  },
  {
   "cell_type": "code",
   "execution_count": null,
   "metadata": {
    "id": "4ItfK2Q53NkP"
   },
   "outputs": [],
   "source": [
    "y_pred = []\n",
    "for i,(inputs, targets) in enumerate(test_dataloader):\n",
    "      # Forward pass\n",
    "      inputs = inputs.to(device)\n",
    "      targets = targets.to(device)\n",
    "      output = model(inputs).detach()\n",
    "      for j in output:\n",
    "        y_pred.append(j.cpu().numpy())\n",
    "\n",
    "# y_test.numpy()\n",
    "y_pred = np.vstack(y_pred)\n",
    "y_pred = np.where(y_pred>0.5,1,0)"
   ]
  },
  {
   "cell_type": "code",
   "execution_count": null,
   "metadata": {
    "colab": {
     "base_uri": "https://localhost:8080/"
    },
    "id": "hXiFIE3K3Pqc",
    "outputId": "8d563a5b-c458-4253-bc30-0a2384e6a579"
   },
   "outputs": [
    {
     "name": "stdout",
     "output_type": "stream",
     "text": [
      "              precision    recall  f1-score   support\n",
      "\n",
      "           0       0.27      0.22      0.25       580\n",
      "           1       0.00      0.00      0.00        12\n",
      "           2       0.00      0.00      0.00         9\n",
      "           3       0.00      0.00      0.00        52\n",
      "           4       0.00      0.00      0.00        19\n",
      "           5       0.00      0.00      0.00         0\n",
      "           6       0.00      0.00      0.00         9\n",
      "           7       0.00      0.00      0.00         0\n",
      "           8       0.00      0.00      0.00         0\n",
      "           9       0.00      0.00      0.00        26\n",
      "          10       0.00      0.00      0.00        41\n",
      "          11       0.00      0.00      0.00         0\n",
      "          12       0.00      0.00      0.00        84\n",
      "          13       0.00      0.00      0.00         0\n",
      "          14       0.00      0.00      0.00         0\n",
      "          15       0.00      0.00      0.00        30\n",
      "          16       0.00      0.00      0.00         0\n",
      "          17       0.08      0.06      0.07       176\n",
      "          18       0.00      0.00      0.00         0\n",
      "          19       0.00      0.00      0.00        71\n",
      "          20       0.00      0.00      0.00         0\n",
      "          21       0.41      0.37      0.39       864\n",
      "          22       0.00      0.00      0.00         0\n",
      "          23       0.09      0.03      0.05        29\n",
      "          24       0.04      0.03      0.03        36\n",
      "          25       0.06      0.06      0.06        35\n",
      "          26       0.06      0.05      0.05       142\n",
      "          27       0.00      0.00      0.00         0\n",
      "          28       0.00      0.00      0.00         0\n",
      "          29       0.00      0.00      0.00         0\n",
      "          30       0.00      0.00      0.00         2\n",
      "          31       0.00      0.00      0.00         0\n",
      "          32       0.00      0.00      0.00         2\n",
      "          33       0.00      0.00      0.00         0\n",
      "          34       0.03      0.01      0.02       146\n",
      "          35       0.00      0.00      0.00        20\n",
      "          36       0.00      0.00      0.00         0\n",
      "          37       0.00      0.00      0.00         0\n",
      "          38       0.00      0.00      0.00        15\n",
      "          39       0.00      0.00      0.00         0\n",
      "          40       0.00      0.00      0.00         0\n",
      "          41       0.00      0.00      0.00         0\n",
      "          42       0.00      0.00      0.00         0\n",
      "          43       0.00      0.00      0.00        22\n",
      "          44       0.00      0.00      0.00         0\n",
      "          45       0.00      0.00      0.00         0\n",
      "          46       0.14      0.08      0.10       259\n",
      "          47       0.00      0.00      0.00        42\n",
      "          48       0.00      0.00      0.00         0\n",
      "          49       0.00      0.00      0.00         0\n",
      "          50       0.00      0.00      0.00         0\n",
      "          51       0.00      0.00      0.00         0\n",
      "          52       0.00      0.00      0.00         0\n",
      "          53       0.00      0.00      0.00         3\n",
      "          54       0.00      0.00      0.00        59\n",
      "          55       0.00      0.00      0.00         0\n",
      "          56       0.00      0.00      0.00         0\n",
      "          57       0.00      0.00      0.00         0\n",
      "          58       0.00      0.00      0.00         0\n",
      "          59       0.00      0.00      0.00         0\n",
      "          60       0.00      0.00      0.00         1\n",
      "          61       0.00      0.00      0.00         0\n",
      "          62       0.00      0.00      0.00         0\n",
      "          63       0.00      0.00      0.00         0\n",
      "          64       0.00      0.00      0.00         0\n",
      "          65       0.00      0.00      0.00         6\n",
      "          66       0.08      0.03      0.04        33\n",
      "          67       0.00      0.00      0.00         0\n",
      "          68       0.00      0.00      0.00        11\n",
      "          69       0.00      0.00      0.00         0\n",
      "          70       0.00      0.00      0.00         0\n",
      "          71       0.08      0.07      0.07        76\n",
      "          72       0.00      0.00      0.00        26\n",
      "          73       0.00      0.00      0.00         0\n",
      "          74       0.00      0.00      0.00         0\n",
      "          75       0.00      0.00      0.00         0\n",
      "          76       0.00      0.00      0.00        28\n",
      "          77       0.00      0.00      0.00         0\n",
      "          78       0.00      0.00      0.00        21\n",
      "          79       0.00      0.00      0.00         0\n",
      "          80       0.00      0.00      0.00         0\n",
      "          81       0.00      0.00      0.00         0\n",
      "          82       0.00      0.00      0.00         0\n",
      "          83       0.00      0.00      0.00         8\n",
      "          84       0.10      0.06      0.08       161\n",
      "          85       0.00      0.00      0.00        25\n",
      "          86       0.04      0.02      0.02       107\n",
      "          87       0.17      0.08      0.11        13\n",
      "          88       0.08      0.04      0.05        25\n",
      "          89       0.00      0.00      0.00        10\n",
      "\n",
      "   micro avg       0.20      0.15      0.17      3336\n",
      "   macro avg       0.02      0.01      0.02      3336\n",
      "weighted avg       0.18      0.15      0.17      3336\n",
      " samples avg       0.23      0.20      0.21      3336\n",
      "\n"
     ]
    },
    {
     "name": "stderr",
     "output_type": "stream",
     "text": [
      "<ipython-input-153-e48a89fd9cc8>:2: FutureWarning: The frame.append method is deprecated and will be removed from pandas in a future version. Use pandas.concat instead.\n",
      "  scores_df = scores_df.append(arr,ignore_index=True)\n"
     ]
    }
   ],
   "source": [
    "arr={'model_name':'MLP_Glove','micro_avg_f1_score':f1_score(y_test, y_pred, average=\"micro\"),'hamming_loss':hamming_loss(y_test, y_pred),'accuracy':accuracy_score(y_test,y_pred)}\n",
    "scores_df = scores_df.append(arr,ignore_index=True)\n",
    "print(classification_report(y_pred,y_test,zero_division=0))"
   ]
  },
  {
   "cell_type": "code",
   "execution_count": null,
   "metadata": {
    "id": "2SIEWQu23RqW"
   },
   "outputs": [],
   "source": [
    "import keras\n",
    "import tensorflow as tf\n",
    "from keras.preprocessing.text import Tokenizer\n",
    "from keras.layers import Dense, Input, LSTM, Embedding, Dropout, Activation\n",
    "from keras.layers import Bidirectional, GlobalMaxPool1D\n",
    "from keras.models import Model\n",
    "from keras import initializers, regularizers, constraints, optimizers, layers"
   ]
  },
  {
   "cell_type": "code",
   "execution_count": null,
   "metadata": {
    "colab": {
     "base_uri": "https://localhost:8080/"
    },
    "id": "NTjPKRf_3TjF",
    "outputId": "6698d930-e566-404a-dccf-0306a151fc36"
   },
   "outputs": [
    {
     "name": "stdout",
     "output_type": "stream",
     "text": [
      "Device mapping:\n",
      "/job:localhost/replica:0/task:0/device:GPU:0 -> device: 0, name: Tesla T4, pci bus id: 0000:00:04.0, compute capability: 7.5\n",
      "\n"
     ]
    }
   ],
   "source": [
    "sess = tf.compat.v1.Session(config=tf.compat.v1.ConfigProto(log_device_placement=True))\n",
    "keras.backend.set_session(sess)"
   ]
  },
  {
   "cell_type": "code",
   "execution_count": null,
   "metadata": {
    "id": "ndoxWgdg3VnR"
   },
   "outputs": [],
   "source": [
    "embd_mat= np.array(glove_embedding_matrix.to('cpu'))\n",
    "embd_mat = np.vstack((np.zeros((1, embd_mat.shape[1])), embd_mat))"
   ]
  },
  {
   "cell_type": "markdown",
   "metadata": {
    "id": "eXk1fXM63k3l"
   },
   "source": [
    "### Running deep learning algorithms\n",
    "\n",
    "The algorithms used are - \n",
    "* BiLSTM using glove embeddings\n",
    "* BiLSTM using BERT embeddings\n",
    "* CNN using BERT embeddings\n",
    "* CNN usin BERT embeddings"
   ]
  },
  {
   "cell_type": "code",
   "execution_count": null,
   "metadata": {
    "colab": {
     "base_uri": "https://localhost:8080/"
    },
    "id": "Wr55BLn49Olk",
    "outputId": "7ca468ec-e313-40fa-9577-00f5e40cf403"
   },
   "outputs": [
    {
     "metadata": {
      "tags": null
     },
     "name": "stderr",
     "output_type": "stream",
     "text": [
      "WARNING:tensorflow:Layer lstm_2 will not use cuDNN kernels since it doesn't meet the criteria. It will use a generic GPU kernel as fallback when running on GPU.\n",
      "WARNING:tensorflow:Layer lstm_2 will not use cuDNN kernels since it doesn't meet the criteria. It will use a generic GPU kernel as fallback when running on GPU.\n",
      "WARNING:tensorflow:Layer lstm_2 will not use cuDNN kernels since it doesn't meet the criteria. It will use a generic GPU kernel as fallback when running on GPU.\n"
     ]
    },
    {
     "name": "stdout",
     "output_type": "stream",
     "text": [
      "=====================Glove BiLSTM===========================\n",
      "Epoch 1/40\n",
      "34/34 [==============================] - 34s 781ms/step - loss: 0.4786 - accuracy: 0.0787\n",
      "Epoch 2/40\n",
      "34/34 [==============================] - 27s 783ms/step - loss: 0.0861 - accuracy: 0.2504\n",
      "Epoch 3/40\n",
      "34/34 [==============================] - 27s 796ms/step - loss: 0.0553 - accuracy: 0.3308\n",
      "Epoch 4/40\n",
      "34/34 [==============================] - 26s 762ms/step - loss: 0.0532 - accuracy: 0.3468\n",
      "Epoch 5/40\n",
      "34/34 [==============================] - 26s 759ms/step - loss: 0.0513 - accuracy: 0.3762\n",
      "Epoch 6/40\n",
      "34/34 [==============================] - 24s 716ms/step - loss: 0.0492 - accuracy: 0.4168\n",
      "Epoch 7/40\n",
      "34/34 [==============================] - 24s 707ms/step - loss: 0.0467 - accuracy: 0.4590\n",
      "Epoch 8/40\n",
      "34/34 [==============================] - 23s 690ms/step - loss: 0.0438 - accuracy: 0.5023\n",
      "Epoch 9/40\n",
      "34/34 [==============================] - 24s 690ms/step - loss: 0.0407 - accuracy: 0.5378\n",
      "Epoch 10/40\n",
      "34/34 [==============================] - 24s 681ms/step - loss: 0.0384 - accuracy: 0.5600\n",
      "Epoch 11/40\n",
      "34/34 [==============================] - 24s 714ms/step - loss: 0.0360 - accuracy: 0.5851\n",
      "Epoch 12/40\n",
      "34/34 [==============================] - 23s 693ms/step - loss: 0.0343 - accuracy: 0.6028\n",
      "Epoch 13/40\n",
      "34/34 [==============================] - 24s 698ms/step - loss: 0.0330 - accuracy: 0.6130\n",
      "Epoch 14/40\n",
      "34/34 [==============================] - 23s 672ms/step - loss: 0.0318 - accuracy: 0.6280\n",
      "Epoch 15/40\n",
      "34/34 [==============================] - 23s 678ms/step - loss: 0.0302 - accuracy: 0.6451\n",
      "Epoch 16/40\n",
      "34/34 [==============================] - 22s 628ms/step - loss: 0.0290 - accuracy: 0.6540\n",
      "Epoch 17/40\n",
      "34/34 [==============================] - 23s 694ms/step - loss: 0.0277 - accuracy: 0.6676\n",
      "Epoch 18/40\n",
      "34/34 [==============================] - 23s 685ms/step - loss: 0.0264 - accuracy: 0.6848\n",
      "Epoch 19/40\n",
      "34/34 [==============================] - 23s 692ms/step - loss: 0.0251 - accuracy: 0.6950\n",
      "Epoch 20/40\n",
      "34/34 [==============================] - 23s 669ms/step - loss: 0.0242 - accuracy: 0.7065\n",
      "Epoch 21/40\n",
      "34/34 [==============================] - 22s 626ms/step - loss: 0.0232 - accuracy: 0.7163\n",
      "Epoch 22/40\n",
      "34/34 [==============================] - 23s 673ms/step - loss: 0.0220 - accuracy: 0.7263\n",
      "Epoch 23/40\n",
      "34/34 [==============================] - 23s 686ms/step - loss: 0.0211 - accuracy: 0.7349\n",
      "Epoch 24/40\n",
      "34/34 [==============================] - 24s 711ms/step - loss: 0.0202 - accuracy: 0.7437\n",
      "Epoch 25/40\n",
      "34/34 [==============================] - 22s 655ms/step - loss: 0.0195 - accuracy: 0.7489\n",
      "Epoch 26/40\n",
      "34/34 [==============================] - 22s 633ms/step - loss: 0.0186 - accuracy: 0.7601\n",
      "Epoch 27/40\n",
      "34/34 [==============================] - 23s 687ms/step - loss: 0.0178 - accuracy: 0.7711\n",
      "Epoch 28/40\n",
      "34/34 [==============================] - 23s 676ms/step - loss: 0.0170 - accuracy: 0.7825\n",
      "Epoch 29/40\n",
      "34/34 [==============================] - 23s 680ms/step - loss: 0.0163 - accuracy: 0.7848\n",
      "Epoch 30/40\n",
      "34/34 [==============================] - 22s 636ms/step - loss: 0.0157 - accuracy: 0.7928\n",
      "Epoch 31/40\n",
      "34/34 [==============================] - 23s 664ms/step - loss: 0.0148 - accuracy: 0.7976\n",
      "Epoch 32/40\n",
      "34/34 [==============================] - 23s 678ms/step - loss: 0.0143 - accuracy: 0.8042\n",
      "Epoch 33/40\n",
      "34/34 [==============================] - 23s 673ms/step - loss: 0.0136 - accuracy: 0.8118\n",
      "Epoch 34/40\n",
      "34/34 [==============================] - 22s 652ms/step - loss: 0.0129 - accuracy: 0.8196\n",
      "Epoch 35/40\n",
      "34/34 [==============================] - 23s 657ms/step - loss: 0.0124 - accuracy: 0.8225\n",
      "Epoch 36/40\n",
      "34/34 [==============================] - 23s 686ms/step - loss: 0.0120 - accuracy: 0.8262\n",
      "Epoch 37/40\n",
      "34/34 [==============================] - 23s 685ms/step - loss: 0.0115 - accuracy: 0.8309\n",
      "Epoch 38/40\n",
      "34/34 [==============================] - 23s 679ms/step - loss: 0.0109 - accuracy: 0.8349\n",
      "Epoch 39/40\n",
      "34/34 [==============================] - 21s 633ms/step - loss: 0.0105 - accuracy: 0.8390\n",
      "Epoch 40/40\n",
      "34/34 [==============================] - 22s 656ms/step - loss: 0.0101 - accuracy: 0.8433\n",
      "9/9 [==============================] - 1s 41ms/step\n",
      "             model_name  micro_avg_f1_score  hamming_loss  accuracy\n",
      "0                    BR            0.800178      0.004634  0.709917\n",
      "1      Classifier_Chain            0.812240      0.004423  0.736330\n",
      "2  Label_Powerset Chain            0.831524      0.004315  0.812790\n",
      "3             MLP_Glove            0.172472      0.025445  0.159870\n",
      "4          BiLSTM_Glove            0.676641      0.006899  0.568582\n",
      "5          BiLSTM_glove            0.784573      0.005205  0.698795\n",
      "              precision    recall  f1-score   support\n",
      "\n",
      "           0       0.91      0.92      0.92       476\n",
      "           1       0.00      0.00      0.00         1\n",
      "           2       0.00      0.00      0.00         0\n",
      "           3       0.55      0.85      0.67        13\n",
      "           4       0.00      0.00      0.00         0\n",
      "           5       0.00      0.00      0.00         0\n",
      "           6       0.60      1.00      0.75         6\n",
      "           7       0.00      0.00      0.00         0\n",
      "           8       0.00      0.00      0.00         0\n",
      "           9       0.33      0.71      0.45        14\n",
      "          10       0.08      1.00      0.15         1\n",
      "          11       0.00      0.00      0.00         0\n",
      "          12       0.50      0.81      0.62        32\n",
      "          13       0.00      0.00      0.00         0\n",
      "          14       0.00      0.00      0.00         0\n",
      "          15       0.27      0.80      0.40         5\n",
      "          16       0.00      0.00      0.00         0\n",
      "          17       0.75      0.81      0.78       120\n",
      "          18       0.00      0.00      0.00         0\n",
      "          19       0.50      0.67      0.57        21\n",
      "          20       0.00      0.00      0.00         0\n",
      "          21       0.95      0.97      0.96       774\n",
      "          22       0.00      0.00      0.00         0\n",
      "          23       0.00      0.00      0.00         0\n",
      "          24       0.12      0.50      0.19         6\n",
      "          25       0.55      0.89      0.68        19\n",
      "          26       0.85      0.84      0.85       114\n",
      "          27       0.00      0.00      0.00         0\n",
      "          28       0.00      0.00      0.00         0\n",
      "          29       0.00      0.00      0.00         0\n",
      "          30       0.00      0.00      0.00         0\n",
      "          31       0.00      0.00      0.00         0\n",
      "          32       0.00      0.00      0.00         0\n",
      "          33       0.00      0.00      0.00         0\n",
      "          34       0.72      0.76      0.74        74\n",
      "          35       0.00      0.00      0.00         0\n",
      "          36       0.00      0.00      0.00         0\n",
      "          37       0.00      0.00      0.00         0\n",
      "          38       0.00      0.00      0.00         0\n",
      "          39       0.00      0.00      0.00         0\n",
      "          40       0.14      1.00      0.25         1\n",
      "          41       0.00      0.00      0.00         0\n",
      "          42       0.00      0.00      0.00         0\n",
      "          43       0.11      0.50      0.18         4\n",
      "          44       0.00      0.00      0.00         0\n",
      "          45       0.00      0.00      0.00         0\n",
      "          46       0.77      0.86      0.81       132\n",
      "          47       0.47      0.88      0.61        17\n",
      "          48       0.00      0.00      0.00         0\n",
      "          49       0.00      0.00      0.00         0\n",
      "          50       0.00      0.00      0.00         0\n",
      "          51       0.00      0.00      0.00         0\n",
      "          52       0.00      0.00      0.00         0\n",
      "          53       0.00      0.00      0.00         0\n",
      "          54       0.55      0.81      0.65        21\n",
      "          55       0.00      0.00      0.00         0\n",
      "          56       0.00      0.00      0.00         0\n",
      "          57       0.20      1.00      0.33         1\n",
      "          58       0.00      0.00      0.00         0\n",
      "          59       0.00      0.00      0.00         0\n",
      "          60       0.00      0.00      0.00         0\n",
      "          61       0.00      0.00      0.00         0\n",
      "          62       0.00      0.00      0.00         0\n",
      "          63       0.00      0.00      0.00         0\n",
      "          64       0.00      0.00      0.00         0\n",
      "          65       0.00      0.00      0.00         0\n",
      "          66       0.00      0.00      0.00         0\n",
      "          67       0.00      0.00      0.00         0\n",
      "          68       0.00      0.00      0.00         0\n",
      "          69       0.00      0.00      0.00         0\n",
      "          70       0.00      0.00      0.00         0\n",
      "          71       0.55      0.94      0.69        35\n",
      "          72       0.00      0.00      0.00         0\n",
      "          73       0.00      0.00      0.00         0\n",
      "          74       0.00      0.00      0.00         0\n",
      "          75       0.00      0.00      0.00         0\n",
      "          76       0.35      0.64      0.45        11\n",
      "          77       0.00      0.00      0.00         0\n",
      "          78       0.50      1.00      0.67        12\n",
      "          79       0.00      0.00      0.00         0\n",
      "          80       0.00      0.00      0.00         0\n",
      "          81       0.00      0.00      0.00         0\n",
      "          82       0.00      0.00      0.00         0\n",
      "          83       0.00      0.00      0.00         0\n",
      "          84       0.64      0.75      0.69        85\n",
      "          85       0.33      0.64      0.44        11\n",
      "          86       0.71      0.82      0.76        49\n",
      "          87       0.00      0.00      0.00         0\n",
      "          88       0.00      0.00      0.00         0\n",
      "          89       0.14      0.50      0.22         2\n",
      "\n",
      "   micro avg       0.70      0.89      0.78      2057\n",
      "   macro avg       0.15      0.24      0.17      2057\n",
      "weighted avg       0.83      0.89      0.86      2057\n",
      " samples avg       0.75      0.78      0.76      2057\n",
      "\n"
     ]
    },
    {
     "name": "stderr",
     "output_type": "stream",
     "text": [
      "<ipython-input-163-d570d8fba6df>:17: FutureWarning: The frame.append method is deprecated and will be removed from pandas in a future version. Use pandas.concat instead.\n",
      "  scores_df = scores_df.append(arr,ignore_index=True)\n",
      "/usr/local/lib/python3.10/dist-packages/sklearn/metrics/_classification.py:1344: UndefinedMetricWarning: Precision and F-score are ill-defined and being set to 0.0 in labels with no predicted samples. Use `zero_division` parameter to control this behavior.\n",
      "  _warn_prf(average, modifier, msg_start, len(result))\n",
      "/usr/local/lib/python3.10/dist-packages/sklearn/metrics/_classification.py:1344: UndefinedMetricWarning: Recall and F-score are ill-defined and being set to 0.0 in labels with no true samples. Use `zero_division` parameter to control this behavior.\n",
      "  _warn_prf(average, modifier, msg_start, len(result))\n",
      "/usr/local/lib/python3.10/dist-packages/sklearn/metrics/_classification.py:1344: UndefinedMetricWarning: Recall and F-score are ill-defined and being set to 0.0 in samples with no true labels. Use `zero_division` parameter to control this behavior.\n",
      "  _warn_prf(average, modifier, msg_start, len(result))\n"
     ]
    }
   ],
   "source": [
    "print(\"=====================Glove BiLSTM===========================\")\n",
    "inp = Input(shape=(70,))\n",
    "x = Embedding(VOCAB_SIZE+1, 300, weights=[embd_mat])(inp)\n",
    "x = Bidirectional(LSTM(50, return_sequences=True, dropout=0.1, recurrent_dropout=0.1))(x)\n",
    "x = GlobalMaxPool1D()(x)\n",
    "x = Dense(50, activation=\"relu\")(x)\n",
    "x = Dropout(0.1)(x)\n",
    "x = Dense(90, activation=\"sigmoid\")(x)\n",
    "model = Model(inputs=inp, outputs=x)\n",
    "model.compile(loss='binary_crossentropy', optimizer='adam', metrics=['accuracy'])\n",
    "\n",
    "model.fit(np.asarray(X_train),np.asarray(y_train), batch_size=256, epochs=40)\n",
    "y_pred = model.predict(np.asarray(X_test),batch_size=256, verbose=1)\n",
    "y_pred= np.where(y_pred > 0.5, 1, 0)\n",
    "\n",
    "arr={'model_name':'BiLSTM_glove','micro_avg_f1_score':f1_score(y_test, y_pred, average=\"micro\"),'hamming_loss':hamming_loss(y_test, y_pred),'accuracy':accuracy_score(y_test,y_pred)}\n",
    "scores_df = scores_df.append(arr,ignore_index=True)\n",
    "print(scores_df)\n",
    "print(classification_report(y_pred,y_test))"
   ]
  },
  {
   "cell_type": "code",
   "execution_count": null,
   "metadata": {
    "id": "CLXwtzSX8PIo"
   },
   "outputs": [],
   "source": [
    "print(\"=====================Bert BiLSTM===========================\")\n",
    "inp = Input(shape=(70,))\n",
    "x = Embedding(VOCAB_SIZE, 768, weights=[bert_embd_mat])(inp)\n",
    "x = Bidirectional(LSTM(50, return_sequences=True, dropout=0.1, recurrent_dropout=0.1))(x)\n",
    "x = GlobalMaxPool1D()(x)\n",
    "x = Dense(50, activation=\"relu\")(x)\n",
    "x = Dropout(0.1)(x)\n",
    "x = Dense(7, activation=\"sigmoid\")(x)\n",
    "model = Model(inputs=inp, outputs=x)\n",
    "model.compile(loss='binary_crossentropy', optimizer='adam', metrics=['accuracy'])\n",
    "\n",
    "model.fit(np.asarray(X_train),np.asarray(y_train), batch_size=256, epochs=4)\n",
    "y_pred = model.predict(np.asarray(X_test),batch_size=256, verbose=1)\n",
    "y_pred= np.where(y_pred > 0.5, 1, 0)\n",
    "\n",
    "arr={'model_name':'BiLSTM_bert','micro_avg_f1_score':f1_score(y_test, y_pred, average=\"micro\"),'hamming_loss':hamming_loss(y_test, y_pred),'accuracy':accuracy_score(y_test,y_pred)}\n",
    "scores_df = scores_df.append(arr,ignore_index=True)\n",
    "print(scores_df)\n",
    "print(classification_report(y_pred,y_test))"
   ]
  },
  {
   "cell_type": "code",
   "execution_count": null,
   "metadata": {
    "colab": {
     "base_uri": "https://localhost:8080/"
    },
    "id": "iRrhm-fu8tcu",
    "outputId": "ecac48ab-1936-4d6b-8efc-7f519abb1bf1"
   },
   "outputs": [
    {
     "name": "stdout",
     "output_type": "stream",
     "text": [
      "=====================Glove CNN===========================\n",
      "Epoch 1/50\n",
      "34/34 [==============================] - 14s 290ms/step - loss: 0.4044 - accuracy: 0.0090\n",
      "Epoch 2/50\n",
      "34/34 [==============================] - 6s 172ms/step - loss: 0.0594 - accuracy: 0.3910\n",
      "Epoch 3/50\n",
      "34/34 [==============================] - 7s 193ms/step - loss: 0.0409 - accuracy: 0.5372\n",
      "Epoch 4/50\n",
      "34/34 [==============================] - 5s 157ms/step - loss: 0.0360 - accuracy: 0.5767\n",
      "Epoch 5/50\n",
      "34/34 [==============================] - 4s 122ms/step - loss: 0.0322 - accuracy: 0.6249\n",
      "Epoch 6/50\n",
      "34/34 [==============================] - 5s 133ms/step - loss: 0.0289 - accuracy: 0.6592\n",
      "Epoch 7/50\n",
      "34/34 [==============================] - 5s 133ms/step - loss: 0.0255 - accuracy: 0.6903\n",
      "Epoch 8/50\n",
      "34/34 [==============================] - 3s 102ms/step - loss: 0.0224 - accuracy: 0.7229\n",
      "Epoch 9/50\n",
      "34/34 [==============================] - 3s 89ms/step - loss: 0.0200 - accuracy: 0.7502\n",
      "Epoch 10/50\n",
      "34/34 [==============================] - 2s 71ms/step - loss: 0.0177 - accuracy: 0.7698\n",
      "Epoch 11/50\n",
      "34/34 [==============================] - 3s 74ms/step - loss: 0.0158 - accuracy: 0.7898\n",
      "Epoch 12/50\n",
      "34/34 [==============================] - 4s 115ms/step - loss: 0.0140 - accuracy: 0.8094\n",
      "Epoch 13/50\n",
      "34/34 [==============================] - 2s 71ms/step - loss: 0.0124 - accuracy: 0.8277\n",
      "Epoch 14/50\n",
      "34/34 [==============================] - 2s 73ms/step - loss: 0.0110 - accuracy: 0.8450\n",
      "Epoch 15/50\n",
      "34/34 [==============================] - 2s 52ms/step - loss: 0.0098 - accuracy: 0.8613\n",
      "Epoch 16/50\n",
      "34/34 [==============================] - 1s 36ms/step - loss: 0.0087 - accuracy: 0.8700\n",
      "Epoch 17/50\n",
      "34/34 [==============================] - 2s 52ms/step - loss: 0.0078 - accuracy: 0.8746\n",
      "Epoch 18/50\n",
      "34/34 [==============================] - 2s 65ms/step - loss: 0.0071 - accuracy: 0.8824\n",
      "Epoch 19/50\n",
      "34/34 [==============================] - 1s 40ms/step - loss: 0.0064 - accuracy: 0.8860\n",
      "Epoch 20/50\n",
      "34/34 [==============================] - 2s 52ms/step - loss: 0.0059 - accuracy: 0.8955\n",
      "Epoch 21/50\n",
      "34/34 [==============================] - 1s 36ms/step - loss: 0.0054 - accuracy: 0.8920\n",
      "Epoch 22/50\n",
      "34/34 [==============================] - 2s 56ms/step - loss: 0.0052 - accuracy: 0.8921\n",
      "Epoch 23/50\n",
      "34/34 [==============================] - 1s 32ms/step - loss: 0.0047 - accuracy: 0.9006\n",
      "Epoch 24/50\n",
      "34/34 [==============================] - 1s 44ms/step - loss: 0.0043 - accuracy: 0.9012\n",
      "Epoch 25/50\n",
      "34/34 [==============================] - 2s 46ms/step - loss: 0.0040 - accuracy: 0.9027\n",
      "Epoch 26/50\n",
      "34/34 [==============================] - 2s 70ms/step - loss: 0.0038 - accuracy: 0.9000\n",
      "Epoch 27/50\n",
      "34/34 [==============================] - 2s 52ms/step - loss: 0.0037 - accuracy: 0.9013\n",
      "Epoch 28/50\n",
      "34/34 [==============================] - 2s 51ms/step - loss: 0.0034 - accuracy: 0.9050\n",
      "Epoch 29/50\n",
      "34/34 [==============================] - 2s 48ms/step - loss: 0.0032 - accuracy: 0.9054\n",
      "Epoch 30/50\n",
      "34/34 [==============================] - 1s 42ms/step - loss: 0.0031 - accuracy: 0.9058\n",
      "Epoch 31/50\n",
      "34/34 [==============================] - 1s 37ms/step - loss: 0.0030 - accuracy: 0.9085\n",
      "Epoch 32/50\n",
      "34/34 [==============================] - 1s 13ms/step - loss: 0.0029 - accuracy: 0.9046\n",
      "Epoch 33/50\n",
      "34/34 [==============================] - 1s 27ms/step - loss: 0.0027 - accuracy: 0.9024\n",
      "Epoch 34/50\n",
      "34/34 [==============================] - 1s 28ms/step - loss: 0.0026 - accuracy: 0.9086\n",
      "Epoch 35/50\n",
      "34/34 [==============================] - 1s 25ms/step - loss: 0.0025 - accuracy: 0.9070\n",
      "Epoch 36/50\n",
      "34/34 [==============================] - 1s 37ms/step - loss: 0.0025 - accuracy: 0.9081\n",
      "Epoch 37/50\n",
      "34/34 [==============================] - 3s 77ms/step - loss: 0.0024 - accuracy: 0.9097\n",
      "Epoch 38/50\n",
      "34/34 [==============================] - 1s 31ms/step - loss: 0.0024 - accuracy: 0.9049\n",
      "Epoch 39/50\n",
      "34/34 [==============================] - 1s 25ms/step - loss: 0.0021 - accuracy: 0.9088\n",
      "Epoch 40/50\n",
      "34/34 [==============================] - 1s 33ms/step - loss: 0.0021 - accuracy: 0.9092\n",
      "Epoch 41/50\n",
      "34/34 [==============================] - 2s 48ms/step - loss: 0.0020 - accuracy: 0.9074\n",
      "Epoch 42/50\n",
      "34/34 [==============================] - 1s 22ms/step - loss: 0.0020 - accuracy: 0.9067\n",
      "Epoch 43/50\n",
      "34/34 [==============================] - 1s 27ms/step - loss: 0.0019 - accuracy: 0.9126\n",
      "Epoch 44/50\n",
      "34/34 [==============================] - 1s 23ms/step - loss: 0.0019 - accuracy: 0.9068\n",
      "Epoch 45/50\n",
      "34/34 [==============================] - 1s 21ms/step - loss: 0.0019 - accuracy: 0.9095\n",
      "Epoch 46/50\n",
      "34/34 [==============================] - 1s 23ms/step - loss: 0.0019 - accuracy: 0.9097\n",
      "Epoch 47/50\n",
      "34/34 [==============================] - 1s 30ms/step - loss: 0.0018 - accuracy: 0.9116\n",
      "Epoch 48/50\n",
      "34/34 [==============================] - 1s 34ms/step - loss: 0.0018 - accuracy: 0.9090\n",
      "Epoch 49/50\n",
      "34/34 [==============================] - 1s 44ms/step - loss: 0.0016 - accuracy: 0.9078\n",
      "Epoch 50/50\n",
      "34/34 [==============================] - 1s 38ms/step - loss: 0.0017 - accuracy: 0.9089\n",
      "9/9 [==============================] - 0s 4ms/step\n",
      "             model_name  micro_avg_f1_score  hamming_loss  accuracy\n",
      "0                    BR            0.800178      0.004634  0.709917\n",
      "1      Classifier_Chain            0.812240      0.004423  0.736330\n",
      "2  Label_Powerset Chain            0.831524      0.004315  0.812790\n",
      "3             MLP_Glove            0.172472      0.025445  0.159870\n",
      "4          BiLSTM_Glove            0.676641      0.006899  0.568582\n",
      "5          BiLSTM_glove            0.784573      0.005205  0.698795\n",
      "6             CNN_glove            0.515425      0.009139  0.434662\n",
      "7             CNN_glove            0.799916      0.004897  0.715014\n",
      "8             CNN_glove            0.817610      0.004479  0.727525\n",
      "              precision    recall  f1-score   support\n",
      "\n",
      "           0       0.91      0.93      0.92       465\n",
      "           1       0.08      1.00      0.14         1\n",
      "           2       0.70      1.00      0.82         7\n",
      "           3       0.35      0.70      0.47        10\n",
      "           4       0.17      1.00      0.29         1\n",
      "           5       0.00      0.00      0.00         0\n",
      "           6       0.80      1.00      0.89         8\n",
      "           7       0.00      0.00      0.00         0\n",
      "           8       0.00      0.00      0.00         1\n",
      "           9       0.50      1.00      0.67        15\n",
      "          10       0.42      0.83      0.56         6\n",
      "          11       0.00      0.00      0.00         0\n",
      "          12       0.79      0.93      0.85        44\n",
      "          13       0.22      1.00      0.36         2\n",
      "          14       0.00      0.00      0.00         0\n",
      "          15       0.60      0.82      0.69        11\n",
      "          16       0.00      0.00      0.00         0\n",
      "          17       0.69      0.84      0.76       107\n",
      "          18       0.00      0.00      0.00         0\n",
      "          19       0.39      0.85      0.54        13\n",
      "          20       0.00      0.00      0.00         0\n",
      "          21       0.94      0.96      0.95       772\n",
      "          22       0.17      0.50      0.25         2\n",
      "          23       0.27      0.75      0.40         4\n",
      "          24       0.00      0.00      0.00         1\n",
      "          25       0.87      0.96      0.92        28\n",
      "          26       0.81      0.94      0.87        98\n",
      "          27       0.00      0.00      0.00         0\n",
      "          28       0.00      0.00      0.00         0\n",
      "          29       0.33      1.00      0.50         2\n",
      "          30       0.50      1.00      0.67         1\n",
      "          31       0.50      1.00      0.67         1\n",
      "          32       0.00      0.00      0.00         0\n",
      "          33       0.00      0.00      0.00         0\n",
      "          34       0.77      0.82      0.79        73\n",
      "          35       0.45      0.83      0.59         6\n",
      "          36       0.10      1.00      0.18         1\n",
      "          37       0.00      0.00      0.00         0\n",
      "          38       0.42      1.00      0.59         5\n",
      "          39       0.00      0.00      0.00         0\n",
      "          40       0.29      1.00      0.44         2\n",
      "          41       1.00      1.00      1.00         2\n",
      "          42       0.00      0.00      0.00         0\n",
      "          43       0.22      0.67      0.33         6\n",
      "          44       0.11      1.00      0.20         1\n",
      "          45       0.33      0.67      0.44         3\n",
      "          46       0.73      0.86      0.79       126\n",
      "          47       0.59      1.00      0.75        19\n",
      "          48       0.00      0.00      0.00         0\n",
      "          49       0.40      0.80      0.53        15\n",
      "          50       0.00      0.00      0.00         0\n",
      "          51       0.00      0.00      0.00         0\n",
      "          52       0.00      0.00      0.00         0\n",
      "          53       1.00      1.00      1.00         1\n",
      "          54       0.58      0.64      0.61        28\n",
      "          55       0.33      1.00      0.50         1\n",
      "          56       0.50      1.00      0.67         1\n",
      "          57       0.60      0.75      0.67         4\n",
      "          58       0.00      0.00      0.00         0\n",
      "          59       0.00      0.00      0.00         0\n",
      "          60       0.33      1.00      0.50         1\n",
      "          61       0.00      0.00      0.00         0\n",
      "          62       0.00      0.00      0.00         0\n",
      "          63       0.00      0.00      0.00         0\n",
      "          64       0.00      0.00      0.00         0\n",
      "          65       0.80      1.00      0.89         4\n",
      "          66       0.33      1.00      0.50         4\n",
      "          67       0.00      0.00      0.00         0\n",
      "          68       0.00      0.00      0.00         0\n",
      "          69       0.20      1.00      0.33         2\n",
      "          70       0.00      0.00      0.00         0\n",
      "          71       0.52      0.94      0.67        33\n",
      "          72       0.00      0.00      0.00         0\n",
      "          73       0.25      0.50      0.33         2\n",
      "          74       0.20      1.00      0.33         1\n",
      "          75       0.17      0.50      0.25         2\n",
      "          76       0.60      0.63      0.62        19\n",
      "          77       0.22      1.00      0.36         2\n",
      "          78       0.67      0.94      0.78        17\n",
      "          79       0.00      0.00      0.00         0\n",
      "          80       0.00      0.00      0.00         0\n",
      "          81       0.00      0.00      0.00         0\n",
      "          82       0.00      0.00      0.00         0\n",
      "          83       0.38      1.00      0.55         3\n",
      "          84       0.62      0.78      0.69        79\n",
      "          85       0.48      0.91      0.62        11\n",
      "          86       0.77      0.90      0.83        48\n",
      "          87       0.83      1.00      0.91         5\n",
      "          88       0.38      0.83      0.53         6\n",
      "          89       0.14      1.00      0.25         1\n",
      "\n",
      "   micro avg       0.74      0.91      0.82      2134\n",
      "   macro avg       0.30      0.56      0.37      2134\n",
      "weighted avg       0.82      0.91      0.86      2134\n",
      " samples avg       0.79      0.80      0.79      2134\n",
      "\n"
     ]
    },
    {
     "name": "stderr",
     "output_type": "stream",
     "text": [
      "<ipython-input-167-14bdbcadc155>:19: FutureWarning: The frame.append method is deprecated and will be removed from pandas in a future version. Use pandas.concat instead.\n",
      "  scores_df = scores_df.append(arr,ignore_index=True)\n",
      "/usr/local/lib/python3.10/dist-packages/sklearn/metrics/_classification.py:1344: UndefinedMetricWarning: Precision and F-score are ill-defined and being set to 0.0 in labels with no predicted samples. Use `zero_division` parameter to control this behavior.\n",
      "  _warn_prf(average, modifier, msg_start, len(result))\n",
      "/usr/local/lib/python3.10/dist-packages/sklearn/metrics/_classification.py:1344: UndefinedMetricWarning: Recall and F-score are ill-defined and being set to 0.0 in labels with no true samples. Use `zero_division` parameter to control this behavior.\n",
      "  _warn_prf(average, modifier, msg_start, len(result))\n",
      "/usr/local/lib/python3.10/dist-packages/sklearn/metrics/_classification.py:1344: UndefinedMetricWarning: Recall and F-score are ill-defined and being set to 0.0 in samples with no true labels. Use `zero_division` parameter to control this behavior.\n",
      "  _warn_prf(average, modifier, msg_start, len(result))\n"
     ]
    }
   ],
   "source": [
    "print(\"=====================Glove CNN===========================\")\n",
    "inp = Input(shape=(70,))\n",
    "\n",
    "x = Embedding(VOCAB_SIZE+1, 300, weights=[embd_mat])(inp)\n",
    "x = layers.Conv1D(filters=128, kernel_size=5, activation='relu')(x)\n",
    "x = GlobalMaxPool1D()(x)\n",
    "x = Dense(64, activation=\"relu\")(x)\n",
    "x = Dropout(0.1)(x)\n",
    "x = Dense(32, activation='relu')(x)\n",
    "x = Dense(90, activation=\"sigmoid\")(x)\n",
    "model = Model(inputs=inp, outputs=x)\n",
    "model.compile(loss='binary_crossentropy', optimizer='adam', metrics=['accuracy'])\n",
    "\n",
    "model.fit(np.asarray(X_train),np.asarray(y_train), batch_size=256, epochs=50)\n",
    "y_pred = model.predict(np.asarray(X_test),batch_size=256, verbose=1)\n",
    "y_pred= np.where(y_pred > 0.5, 1, 0)\n",
    "\n",
    "arr={'model_name':'CNN_glove','micro_avg_f1_score':f1_score(y_test, y_pred, average=\"micro\"),'hamming_loss':hamming_loss(y_test, y_pred),'accuracy':accuracy_score(y_test,y_pred)}\n",
    "scores_df = scores_df.append(arr,ignore_index=True)\n",
    "print(scores_df)\n",
    "print(classification_report(y_pred,y_test))\n"
   ]
  },
  {
   "cell_type": "code",
   "execution_count": null,
   "metadata": {
    "id": "2-K8IPnl8ygV"
   },
   "outputs": [],
   "source": [
    "print(\"=====================Bert CNN===========================\")\n",
    "inp = Input(shape=(max_seq_len,))\n",
    "\n",
    "x = Embedding(VOCAB_SIZE, 768, weights=[bert_embd_mat])(inp)\n",
    "x = layers.Conv1D(filters=128, kernel_size=5, activation='relu')(x)\n",
    "x = GlobalMaxPool1D()(x)\n",
    "x = Dense(64, activation=\"relu\")(x)\n",
    "x = Dropout(0.1)(x)\n",
    "x = Dense(32, activation='relu')(x)\n",
    "x = Dense(7, activation=\"sigmoid\")(x)\n",
    "model = Model(inputs=inp, outputs=x)\n",
    "model.compile(loss='binary_crossentropy', optimizer='adam', metrics=['accuracy'])\n",
    "\n",
    "model.fit(np.asarray(X_train),np.asarray(y_train), batch_size=256, epochs=3)\n",
    "y_pred = model.predict(np.asarray(X_test),batch_size=256, verbose=1)\n",
    "y_pred= np.where(y_pred > 0.5, 1, 0)\n",
    "\n",
    "arr={'model_name':'CNN_bert','micro_avg_f1_score':f1_score(y_test, y_pred, average=\"micro\"),'hamming_loss':hamming_loss(y_test, y_pred),'accuracy':accuracy_score(y_test,y_pred)}\n",
    "scores_df = scores_df.append(arr,ignore_index=True)\n",
    "print(scores_df)\n",
    "print(classification_report(y_pred,y_test))\n"
   ]
  },
  {
   "cell_type": "code",
   "execution_count": null,
   "metadata": {
    "id": "JEtUvv-17Djh"
   },
   "outputs": [],
   "source": [
    "adj_matrix = create_adjacency_matrix_cooccurance(y_train.numpy())\n",
    "adj_matrix = torch.tensor(adj_matrix)\n",
    "adj_matrix"
   ]
  },
  {
   "cell_type": "code",
   "execution_count": null,
   "metadata": {
    "id": "ltSyz_-77UG9"
   },
   "outputs": [],
   "source": [
    "save_path = './train_result.pt'"
   ]
  },
  {
   "cell_type": "code",
   "execution_count": null,
   "metadata": {
    "id": "7wdlf7nH7WgF"
   },
   "outputs": [],
   "source": [
    "glove_label_embedding = torch.zeros(len(labels),300)\n",
    "\n",
    "for index, label in enumerate(labels):\n",
    "  wrds = label.split('-')\n",
    "  for l in wrds:\n",
    "    if l in glove_embeddings.keys():\n",
    "        glove_label_embedding[index] +=  torch.from_numpy(glove_embeddings[l])\n",
    "  glove_label_embedding[index]=glove_label_embedding[index]/len(wrds)  \n",
    "\n",
    "print(glove_label_embedding)"
   ]
  },
  {
   "cell_type": "code",
   "execution_count": null,
   "metadata": {
    "id": "5GwsNwWJ7s6r"
   },
   "outputs": [],
   "source": [
    "model = MAGNET(300, 250, adj_matrix, glove_embedding_matrix,heads=8)\n",
    "train(model, X_train, glove_label_embedding,y_train,total_epoch=15, save_path=save_path)"
   ]
  }
 ],
 "metadata": {
  "accelerator": "GPU",
  "colab": {
   "provenance": []
  },
  "gpuClass": "standard",
  "kernelspec": {
   "display_name": "Python 3 (ipykernel)",
   "language": "python",
   "name": "python3"
  },
  "language_info": {
   "codemirror_mode": {
    "name": "ipython",
    "version": 3
   },
   "file_extension": ".py",
   "mimetype": "text/x-python",
   "name": "python",
   "nbconvert_exporter": "python",
   "pygments_lexer": "ipython3",
   "version": "3.8.10"
  },
  "widgets": {
   "application/vnd.jupyter.widget-state+json": {
    "0a477918c72c4786ab284f2a0e98d163": {
     "model_module": "@jupyter-widgets/controls",
     "model_module_version": "1.5.0",
     "model_name": "HTMLModel",
     "state": {
      "_dom_classes": [],
      "_model_module": "@jupyter-widgets/controls",
      "_model_module_version": "1.5.0",
      "_model_name": "HTMLModel",
      "_view_count": null,
      "_view_module": "@jupyter-widgets/controls",
      "_view_module_version": "1.5.0",
      "_view_name": "HTMLView",
      "description": "",
      "description_tooltip": null,
      "layout": "IPY_MODEL_540f7163e5594bb9ac1e14f74fd146b5",
      "placeholder": "​",
      "style": "IPY_MODEL_ae8f4f6d59034045b45aaddf0af1b93b",
      "value": "Downloading (…)okenizer_config.json: 100%"
     }
    },
    "0bb8614697824a8580229d406e3f4bd5": {
     "model_module": "@jupyter-widgets/base",
     "model_module_version": "1.2.0",
     "model_name": "LayoutModel",
     "state": {
      "_model_module": "@jupyter-widgets/base",
      "_model_module_version": "1.2.0",
      "_model_name": "LayoutModel",
      "_view_count": null,
      "_view_module": "@jupyter-widgets/base",
      "_view_module_version": "1.2.0",
      "_view_name": "LayoutView",
      "align_content": null,
      "align_items": null,
      "align_self": null,
      "border": null,
      "bottom": null,
      "display": null,
      "flex": null,
      "flex_flow": null,
      "grid_area": null,
      "grid_auto_columns": null,
      "grid_auto_flow": null,
      "grid_auto_rows": null,
      "grid_column": null,
      "grid_gap": null,
      "grid_row": null,
      "grid_template_areas": null,
      "grid_template_columns": null,
      "grid_template_rows": null,
      "height": null,
      "justify_content": null,
      "justify_items": null,
      "left": null,
      "margin": null,
      "max_height": null,
      "max_width": null,
      "min_height": null,
      "min_width": null,
      "object_fit": null,
      "object_position": null,
      "order": null,
      "overflow": null,
      "overflow_x": null,
      "overflow_y": null,
      "padding": null,
      "right": null,
      "top": null,
      "visibility": null,
      "width": null
     }
    },
    "0d6e9828ec294966a09cc9878a0a2969": {
     "model_module": "@jupyter-widgets/controls",
     "model_module_version": "1.5.0",
     "model_name": "FloatProgressModel",
     "state": {
      "_dom_classes": [],
      "_model_module": "@jupyter-widgets/controls",
      "_model_module_version": "1.5.0",
      "_model_name": "FloatProgressModel",
      "_view_count": null,
      "_view_module": "@jupyter-widgets/controls",
      "_view_module_version": "1.5.0",
      "_view_name": "ProgressView",
      "bar_style": "success",
      "description": "",
      "description_tooltip": null,
      "layout": "IPY_MODEL_8fdcf4cf179947a5a412857c634b1105",
      "max": 440473133,
      "min": 0,
      "orientation": "horizontal",
      "style": "IPY_MODEL_ac665d6cc49844529c2fabeadf40329e",
      "value": 440473133
     }
    },
    "0e8de91b02a44247af2544b56d47c72d": {
     "model_module": "@jupyter-widgets/controls",
     "model_module_version": "1.5.0",
     "model_name": "DescriptionStyleModel",
     "state": {
      "_model_module": "@jupyter-widgets/controls",
      "_model_module_version": "1.5.0",
      "_model_name": "DescriptionStyleModel",
      "_view_count": null,
      "_view_module": "@jupyter-widgets/base",
      "_view_module_version": "1.2.0",
      "_view_name": "StyleView",
      "description_width": ""
     }
    },
    "21c623bb43e942448d07235afa5e8cb1": {
     "model_module": "@jupyter-widgets/controls",
     "model_module_version": "1.5.0",
     "model_name": "HBoxModel",
     "state": {
      "_dom_classes": [],
      "_model_module": "@jupyter-widgets/controls",
      "_model_module_version": "1.5.0",
      "_model_name": "HBoxModel",
      "_view_count": null,
      "_view_module": "@jupyter-widgets/controls",
      "_view_module_version": "1.5.0",
      "_view_name": "HBoxView",
      "box_style": "",
      "children": [
       "IPY_MODEL_0a477918c72c4786ab284f2a0e98d163",
       "IPY_MODEL_96becd5034d94569b31b6810ea9083c7",
       "IPY_MODEL_8ad3c9319e8144cd95cd91e61c28ea9a"
      ],
      "layout": "IPY_MODEL_3c9858ad885d46d994580c555b371378"
     }
    },
    "27de5ddcf9ad41d0abdb7fc40fd63ef4": {
     "model_module": "@jupyter-widgets/controls",
     "model_module_version": "1.5.0",
     "model_name": "ProgressStyleModel",
     "state": {
      "_model_module": "@jupyter-widgets/controls",
      "_model_module_version": "1.5.0",
      "_model_name": "ProgressStyleModel",
      "_view_count": null,
      "_view_module": "@jupyter-widgets/base",
      "_view_module_version": "1.2.0",
      "_view_name": "StyleView",
      "bar_color": null,
      "description_width": ""
     }
    },
    "2d36b2e4ce9247f8a7d556ea2d4fbbaf": {
     "model_module": "@jupyter-widgets/base",
     "model_module_version": "1.2.0",
     "model_name": "LayoutModel",
     "state": {
      "_model_module": "@jupyter-widgets/base",
      "_model_module_version": "1.2.0",
      "_model_name": "LayoutModel",
      "_view_count": null,
      "_view_module": "@jupyter-widgets/base",
      "_view_module_version": "1.2.0",
      "_view_name": "LayoutView",
      "align_content": null,
      "align_items": null,
      "align_self": null,
      "border": null,
      "bottom": null,
      "display": null,
      "flex": null,
      "flex_flow": null,
      "grid_area": null,
      "grid_auto_columns": null,
      "grid_auto_flow": null,
      "grid_auto_rows": null,
      "grid_column": null,
      "grid_gap": null,
      "grid_row": null,
      "grid_template_areas": null,
      "grid_template_columns": null,
      "grid_template_rows": null,
      "height": null,
      "justify_content": null,
      "justify_items": null,
      "left": null,
      "margin": null,
      "max_height": null,
      "max_width": null,
      "min_height": null,
      "min_width": null,
      "object_fit": null,
      "object_position": null,
      "order": null,
      "overflow": null,
      "overflow_x": null,
      "overflow_y": null,
      "padding": null,
      "right": null,
      "top": null,
      "visibility": null,
      "width": null
     }
    },
    "2e784340cdd3474485b839f01ea8a735": {
     "model_module": "@jupyter-widgets/base",
     "model_module_version": "1.2.0",
     "model_name": "LayoutModel",
     "state": {
      "_model_module": "@jupyter-widgets/base",
      "_model_module_version": "1.2.0",
      "_model_name": "LayoutModel",
      "_view_count": null,
      "_view_module": "@jupyter-widgets/base",
      "_view_module_version": "1.2.0",
      "_view_name": "LayoutView",
      "align_content": null,
      "align_items": null,
      "align_self": null,
      "border": null,
      "bottom": null,
      "display": null,
      "flex": null,
      "flex_flow": null,
      "grid_area": null,
      "grid_auto_columns": null,
      "grid_auto_flow": null,
      "grid_auto_rows": null,
      "grid_column": null,
      "grid_gap": null,
      "grid_row": null,
      "grid_template_areas": null,
      "grid_template_columns": null,
      "grid_template_rows": null,
      "height": null,
      "justify_content": null,
      "justify_items": null,
      "left": null,
      "margin": null,
      "max_height": null,
      "max_width": null,
      "min_height": null,
      "min_width": null,
      "object_fit": null,
      "object_position": null,
      "order": null,
      "overflow": null,
      "overflow_x": null,
      "overflow_y": null,
      "padding": null,
      "right": null,
      "top": null,
      "visibility": null,
      "width": null
     }
    },
    "3267d5f59bac457fbea59039d2a3d741": {
     "model_module": "@jupyter-widgets/controls",
     "model_module_version": "1.5.0",
     "model_name": "ProgressStyleModel",
     "state": {
      "_model_module": "@jupyter-widgets/controls",
      "_model_module_version": "1.5.0",
      "_model_name": "ProgressStyleModel",
      "_view_count": null,
      "_view_module": "@jupyter-widgets/base",
      "_view_module_version": "1.2.0",
      "_view_name": "StyleView",
      "bar_color": null,
      "description_width": ""
     }
    },
    "3a4d463189de4c2199170550c9fcb720": {
     "model_module": "@jupyter-widgets/controls",
     "model_module_version": "1.5.0",
     "model_name": "HTMLModel",
     "state": {
      "_dom_classes": [],
      "_model_module": "@jupyter-widgets/controls",
      "_model_module_version": "1.5.0",
      "_model_name": "HTMLModel",
      "_view_count": null,
      "_view_module": "@jupyter-widgets/controls",
      "_view_module_version": "1.5.0",
      "_view_name": "HTMLView",
      "description": "",
      "description_tooltip": null,
      "layout": "IPY_MODEL_2e784340cdd3474485b839f01ea8a735",
      "placeholder": "​",
      "style": "IPY_MODEL_cf024c1e21af49bf85bac3f215ce2bec",
      "value": "Downloading pytorch_model.bin: 100%"
     }
    },
    "3c9858ad885d46d994580c555b371378": {
     "model_module": "@jupyter-widgets/base",
     "model_module_version": "1.2.0",
     "model_name": "LayoutModel",
     "state": {
      "_model_module": "@jupyter-widgets/base",
      "_model_module_version": "1.2.0",
      "_model_name": "LayoutModel",
      "_view_count": null,
      "_view_module": "@jupyter-widgets/base",
      "_view_module_version": "1.2.0",
      "_view_name": "LayoutView",
      "align_content": null,
      "align_items": null,
      "align_self": null,
      "border": null,
      "bottom": null,
      "display": null,
      "flex": null,
      "flex_flow": null,
      "grid_area": null,
      "grid_auto_columns": null,
      "grid_auto_flow": null,
      "grid_auto_rows": null,
      "grid_column": null,
      "grid_gap": null,
      "grid_row": null,
      "grid_template_areas": null,
      "grid_template_columns": null,
      "grid_template_rows": null,
      "height": null,
      "justify_content": null,
      "justify_items": null,
      "left": null,
      "margin": null,
      "max_height": null,
      "max_width": null,
      "min_height": null,
      "min_width": null,
      "object_fit": null,
      "object_position": null,
      "order": null,
      "overflow": null,
      "overflow_x": null,
      "overflow_y": null,
      "padding": null,
      "right": null,
      "top": null,
      "visibility": null,
      "width": null
     }
    },
    "3d25d6797f1744a89f8a6b012b5ca18c": {
     "model_module": "@jupyter-widgets/controls",
     "model_module_version": "1.5.0",
     "model_name": "HBoxModel",
     "state": {
      "_dom_classes": [],
      "_model_module": "@jupyter-widgets/controls",
      "_model_module_version": "1.5.0",
      "_model_name": "HBoxModel",
      "_view_count": null,
      "_view_module": "@jupyter-widgets/controls",
      "_view_module_version": "1.5.0",
      "_view_name": "HBoxView",
      "box_style": "",
      "children": [
       "IPY_MODEL_bbf6d4148a6047c3843455648933c6c3",
       "IPY_MODEL_ffd62e74ed4a42068989fdb81bcbeaa4",
       "IPY_MODEL_e5dd935d0fd74ae0981f665bdc46ec99"
      ],
      "layout": "IPY_MODEL_e0ce6cd8bb094835acfe968f0984ae60"
     }
    },
    "48bbcd8bdd4e4f22892233bb9c22499c": {
     "model_module": "@jupyter-widgets/controls",
     "model_module_version": "1.5.0",
     "model_name": "DescriptionStyleModel",
     "state": {
      "_model_module": "@jupyter-widgets/controls",
      "_model_module_version": "1.5.0",
      "_model_name": "DescriptionStyleModel",
      "_view_count": null,
      "_view_module": "@jupyter-widgets/base",
      "_view_module_version": "1.2.0",
      "_view_name": "StyleView",
      "description_width": ""
     }
    },
    "4d0b3d5f7da44efebf8f40a26d2f878a": {
     "model_module": "@jupyter-widgets/controls",
     "model_module_version": "1.5.0",
     "model_name": "DescriptionStyleModel",
     "state": {
      "_model_module": "@jupyter-widgets/controls",
      "_model_module_version": "1.5.0",
      "_model_name": "DescriptionStyleModel",
      "_view_count": null,
      "_view_module": "@jupyter-widgets/base",
      "_view_module_version": "1.2.0",
      "_view_name": "StyleView",
      "description_width": ""
     }
    },
    "540f7163e5594bb9ac1e14f74fd146b5": {
     "model_module": "@jupyter-widgets/base",
     "model_module_version": "1.2.0",
     "model_name": "LayoutModel",
     "state": {
      "_model_module": "@jupyter-widgets/base",
      "_model_module_version": "1.2.0",
      "_model_name": "LayoutModel",
      "_view_count": null,
      "_view_module": "@jupyter-widgets/base",
      "_view_module_version": "1.2.0",
      "_view_name": "LayoutView",
      "align_content": null,
      "align_items": null,
      "align_self": null,
      "border": null,
      "bottom": null,
      "display": null,
      "flex": null,
      "flex_flow": null,
      "grid_area": null,
      "grid_auto_columns": null,
      "grid_auto_flow": null,
      "grid_auto_rows": null,
      "grid_column": null,
      "grid_gap": null,
      "grid_row": null,
      "grid_template_areas": null,
      "grid_template_columns": null,
      "grid_template_rows": null,
      "height": null,
      "justify_content": null,
      "justify_items": null,
      "left": null,
      "margin": null,
      "max_height": null,
      "max_width": null,
      "min_height": null,
      "min_width": null,
      "object_fit": null,
      "object_position": null,
      "order": null,
      "overflow": null,
      "overflow_x": null,
      "overflow_y": null,
      "padding": null,
      "right": null,
      "top": null,
      "visibility": null,
      "width": null
     }
    },
    "637ffa573b1849fe8aa7589d24dc7351": {
     "model_module": "@jupyter-widgets/base",
     "model_module_version": "1.2.0",
     "model_name": "LayoutModel",
     "state": {
      "_model_module": "@jupyter-widgets/base",
      "_model_module_version": "1.2.0",
      "_model_name": "LayoutModel",
      "_view_count": null,
      "_view_module": "@jupyter-widgets/base",
      "_view_module_version": "1.2.0",
      "_view_name": "LayoutView",
      "align_content": null,
      "align_items": null,
      "align_self": null,
      "border": null,
      "bottom": null,
      "display": null,
      "flex": null,
      "flex_flow": null,
      "grid_area": null,
      "grid_auto_columns": null,
      "grid_auto_flow": null,
      "grid_auto_rows": null,
      "grid_column": null,
      "grid_gap": null,
      "grid_row": null,
      "grid_template_areas": null,
      "grid_template_columns": null,
      "grid_template_rows": null,
      "height": null,
      "justify_content": null,
      "justify_items": null,
      "left": null,
      "margin": null,
      "max_height": null,
      "max_width": null,
      "min_height": null,
      "min_width": null,
      "object_fit": null,
      "object_position": null,
      "order": null,
      "overflow": null,
      "overflow_x": null,
      "overflow_y": null,
      "padding": null,
      "right": null,
      "top": null,
      "visibility": null,
      "width": null
     }
    },
    "66bdaf101c87445db8a031b92014de63": {
     "model_module": "@jupyter-widgets/controls",
     "model_module_version": "1.5.0",
     "model_name": "ProgressStyleModel",
     "state": {
      "_model_module": "@jupyter-widgets/controls",
      "_model_module_version": "1.5.0",
      "_model_name": "ProgressStyleModel",
      "_view_count": null,
      "_view_module": "@jupyter-widgets/base",
      "_view_module_version": "1.2.0",
      "_view_name": "StyleView",
      "bar_color": null,
      "description_width": ""
     }
    },
    "690d419a190a40779b69afe877924db8": {
     "model_module": "@jupyter-widgets/base",
     "model_module_version": "1.2.0",
     "model_name": "LayoutModel",
     "state": {
      "_model_module": "@jupyter-widgets/base",
      "_model_module_version": "1.2.0",
      "_model_name": "LayoutModel",
      "_view_count": null,
      "_view_module": "@jupyter-widgets/base",
      "_view_module_version": "1.2.0",
      "_view_name": "LayoutView",
      "align_content": null,
      "align_items": null,
      "align_self": null,
      "border": null,
      "bottom": null,
      "display": null,
      "flex": null,
      "flex_flow": null,
      "grid_area": null,
      "grid_auto_columns": null,
      "grid_auto_flow": null,
      "grid_auto_rows": null,
      "grid_column": null,
      "grid_gap": null,
      "grid_row": null,
      "grid_template_areas": null,
      "grid_template_columns": null,
      "grid_template_rows": null,
      "height": null,
      "justify_content": null,
      "justify_items": null,
      "left": null,
      "margin": null,
      "max_height": null,
      "max_width": null,
      "min_height": null,
      "min_width": null,
      "object_fit": null,
      "object_position": null,
      "order": null,
      "overflow": null,
      "overflow_x": null,
      "overflow_y": null,
      "padding": null,
      "right": null,
      "top": null,
      "visibility": null,
      "width": null
     }
    },
    "6dc757df6fc24eb6ab09ed6bc5363dc8": {
     "model_module": "@jupyter-widgets/base",
     "model_module_version": "1.2.0",
     "model_name": "LayoutModel",
     "state": {
      "_model_module": "@jupyter-widgets/base",
      "_model_module_version": "1.2.0",
      "_model_name": "LayoutModel",
      "_view_count": null,
      "_view_module": "@jupyter-widgets/base",
      "_view_module_version": "1.2.0",
      "_view_name": "LayoutView",
      "align_content": null,
      "align_items": null,
      "align_self": null,
      "border": null,
      "bottom": null,
      "display": null,
      "flex": null,
      "flex_flow": null,
      "grid_area": null,
      "grid_auto_columns": null,
      "grid_auto_flow": null,
      "grid_auto_rows": null,
      "grid_column": null,
      "grid_gap": null,
      "grid_row": null,
      "grid_template_areas": null,
      "grid_template_columns": null,
      "grid_template_rows": null,
      "height": null,
      "justify_content": null,
      "justify_items": null,
      "left": null,
      "margin": null,
      "max_height": null,
      "max_width": null,
      "min_height": null,
      "min_width": null,
      "object_fit": null,
      "object_position": null,
      "order": null,
      "overflow": null,
      "overflow_x": null,
      "overflow_y": null,
      "padding": null,
      "right": null,
      "top": null,
      "visibility": null,
      "width": null
     }
    },
    "871cf9dc73a44dffa439696c5b5091e3": {
     "model_module": "@jupyter-widgets/controls",
     "model_module_version": "1.5.0",
     "model_name": "HTMLModel",
     "state": {
      "_dom_classes": [],
      "_model_module": "@jupyter-widgets/controls",
      "_model_module_version": "1.5.0",
      "_model_name": "HTMLModel",
      "_view_count": null,
      "_view_module": "@jupyter-widgets/controls",
      "_view_module_version": "1.5.0",
      "_view_name": "HTMLView",
      "description": "",
      "description_tooltip": null,
      "layout": "IPY_MODEL_690d419a190a40779b69afe877924db8",
      "placeholder": "​",
      "style": "IPY_MODEL_0e8de91b02a44247af2544b56d47c72d",
      "value": " 440M/440M [00:01&lt;00:00, 319MB/s]"
     }
    },
    "88efcfea3974450c928c974f091744b3": {
     "model_module": "@jupyter-widgets/controls",
     "model_module_version": "1.5.0",
     "model_name": "FloatProgressModel",
     "state": {
      "_dom_classes": [],
      "_model_module": "@jupyter-widgets/controls",
      "_model_module_version": "1.5.0",
      "_model_name": "FloatProgressModel",
      "_view_count": null,
      "_view_module": "@jupyter-widgets/controls",
      "_view_module_version": "1.5.0",
      "_view_name": "ProgressView",
      "bar_style": "success",
      "description": "",
      "description_tooltip": null,
      "layout": "IPY_MODEL_fca86cc61473462eaedaabf3fe3de8e8",
      "max": 570,
      "min": 0,
      "orientation": "horizontal",
      "style": "IPY_MODEL_27de5ddcf9ad41d0abdb7fc40fd63ef4",
      "value": 570
     }
    },
    "8ad3c9319e8144cd95cd91e61c28ea9a": {
     "model_module": "@jupyter-widgets/controls",
     "model_module_version": "1.5.0",
     "model_name": "HTMLModel",
     "state": {
      "_dom_classes": [],
      "_model_module": "@jupyter-widgets/controls",
      "_model_module_version": "1.5.0",
      "_model_name": "HTMLModel",
      "_view_count": null,
      "_view_module": "@jupyter-widgets/controls",
      "_view_module_version": "1.5.0",
      "_view_name": "HTMLView",
      "description": "",
      "description_tooltip": null,
      "layout": "IPY_MODEL_637ffa573b1849fe8aa7589d24dc7351",
      "placeholder": "​",
      "style": "IPY_MODEL_4d0b3d5f7da44efebf8f40a26d2f878a",
      "value": " 28.0/28.0 [00:00&lt;00:00, 2.05kB/s]"
     }
    },
    "8fdcf4cf179947a5a412857c634b1105": {
     "model_module": "@jupyter-widgets/base",
     "model_module_version": "1.2.0",
     "model_name": "LayoutModel",
     "state": {
      "_model_module": "@jupyter-widgets/base",
      "_model_module_version": "1.2.0",
      "_model_name": "LayoutModel",
      "_view_count": null,
      "_view_module": "@jupyter-widgets/base",
      "_view_module_version": "1.2.0",
      "_view_name": "LayoutView",
      "align_content": null,
      "align_items": null,
      "align_self": null,
      "border": null,
      "bottom": null,
      "display": null,
      "flex": null,
      "flex_flow": null,
      "grid_area": null,
      "grid_auto_columns": null,
      "grid_auto_flow": null,
      "grid_auto_rows": null,
      "grid_column": null,
      "grid_gap": null,
      "grid_row": null,
      "grid_template_areas": null,
      "grid_template_columns": null,
      "grid_template_rows": null,
      "height": null,
      "justify_content": null,
      "justify_items": null,
      "left": null,
      "margin": null,
      "max_height": null,
      "max_width": null,
      "min_height": null,
      "min_width": null,
      "object_fit": null,
      "object_position": null,
      "order": null,
      "overflow": null,
      "overflow_x": null,
      "overflow_y": null,
      "padding": null,
      "right": null,
      "top": null,
      "visibility": null,
      "width": null
     }
    },
    "96becd5034d94569b31b6810ea9083c7": {
     "model_module": "@jupyter-widgets/controls",
     "model_module_version": "1.5.0",
     "model_name": "FloatProgressModel",
     "state": {
      "_dom_classes": [],
      "_model_module": "@jupyter-widgets/controls",
      "_model_module_version": "1.5.0",
      "_model_name": "FloatProgressModel",
      "_view_count": null,
      "_view_module": "@jupyter-widgets/controls",
      "_view_module_version": "1.5.0",
      "_view_name": "ProgressView",
      "bar_style": "success",
      "description": "",
      "description_tooltip": null,
      "layout": "IPY_MODEL_ce5fa2e065544e4eaf1d789fa0f09de4",
      "max": 28,
      "min": 0,
      "orientation": "horizontal",
      "style": "IPY_MODEL_3267d5f59bac457fbea59039d2a3d741",
      "value": 28
     }
    },
    "a2897cf3cb854c33b457160eefd86cc7": {
     "model_module": "@jupyter-widgets/base",
     "model_module_version": "1.2.0",
     "model_name": "LayoutModel",
     "state": {
      "_model_module": "@jupyter-widgets/base",
      "_model_module_version": "1.2.0",
      "_model_name": "LayoutModel",
      "_view_count": null,
      "_view_module": "@jupyter-widgets/base",
      "_view_module_version": "1.2.0",
      "_view_name": "LayoutView",
      "align_content": null,
      "align_items": null,
      "align_self": null,
      "border": null,
      "bottom": null,
      "display": null,
      "flex": null,
      "flex_flow": null,
      "grid_area": null,
      "grid_auto_columns": null,
      "grid_auto_flow": null,
      "grid_auto_rows": null,
      "grid_column": null,
      "grid_gap": null,
      "grid_row": null,
      "grid_template_areas": null,
      "grid_template_columns": null,
      "grid_template_rows": null,
      "height": null,
      "justify_content": null,
      "justify_items": null,
      "left": null,
      "margin": null,
      "max_height": null,
      "max_width": null,
      "min_height": null,
      "min_width": null,
      "object_fit": null,
      "object_position": null,
      "order": null,
      "overflow": null,
      "overflow_x": null,
      "overflow_y": null,
      "padding": null,
      "right": null,
      "top": null,
      "visibility": null,
      "width": null
     }
    },
    "a976238571174f8d9192a31ff3d5c3d5": {
     "model_module": "@jupyter-widgets/controls",
     "model_module_version": "1.5.0",
     "model_name": "HTMLModel",
     "state": {
      "_dom_classes": [],
      "_model_module": "@jupyter-widgets/controls",
      "_model_module_version": "1.5.0",
      "_model_name": "HTMLModel",
      "_view_count": null,
      "_view_module": "@jupyter-widgets/controls",
      "_view_module_version": "1.5.0",
      "_view_name": "HTMLView",
      "description": "",
      "description_tooltip": null,
      "layout": "IPY_MODEL_2d36b2e4ce9247f8a7d556ea2d4fbbaf",
      "placeholder": "​",
      "style": "IPY_MODEL_b244f49621604e20b90dc0659faa598b",
      "value": "Downloading (…)lve/main/config.json: 100%"
     }
    },
    "ac665d6cc49844529c2fabeadf40329e": {
     "model_module": "@jupyter-widgets/controls",
     "model_module_version": "1.5.0",
     "model_name": "ProgressStyleModel",
     "state": {
      "_model_module": "@jupyter-widgets/controls",
      "_model_module_version": "1.5.0",
      "_model_name": "ProgressStyleModel",
      "_view_count": null,
      "_view_module": "@jupyter-widgets/base",
      "_view_module_version": "1.2.0",
      "_view_name": "StyleView",
      "bar_color": null,
      "description_width": ""
     }
    },
    "ae8f4f6d59034045b45aaddf0af1b93b": {
     "model_module": "@jupyter-widgets/controls",
     "model_module_version": "1.5.0",
     "model_name": "DescriptionStyleModel",
     "state": {
      "_model_module": "@jupyter-widgets/controls",
      "_model_module_version": "1.5.0",
      "_model_name": "DescriptionStyleModel",
      "_view_count": null,
      "_view_module": "@jupyter-widgets/base",
      "_view_module_version": "1.2.0",
      "_view_name": "StyleView",
      "description_width": ""
     }
    },
    "b244f49621604e20b90dc0659faa598b": {
     "model_module": "@jupyter-widgets/controls",
     "model_module_version": "1.5.0",
     "model_name": "DescriptionStyleModel",
     "state": {
      "_model_module": "@jupyter-widgets/controls",
      "_model_module_version": "1.5.0",
      "_model_name": "DescriptionStyleModel",
      "_view_count": null,
      "_view_module": "@jupyter-widgets/base",
      "_view_module_version": "1.2.0",
      "_view_name": "StyleView",
      "description_width": ""
     }
    },
    "b2692d83f09a486c9c3186ec73f64f1d": {
     "model_module": "@jupyter-widgets/base",
     "model_module_version": "1.2.0",
     "model_name": "LayoutModel",
     "state": {
      "_model_module": "@jupyter-widgets/base",
      "_model_module_version": "1.2.0",
      "_model_name": "LayoutModel",
      "_view_count": null,
      "_view_module": "@jupyter-widgets/base",
      "_view_module_version": "1.2.0",
      "_view_name": "LayoutView",
      "align_content": null,
      "align_items": null,
      "align_self": null,
      "border": null,
      "bottom": null,
      "display": null,
      "flex": null,
      "flex_flow": null,
      "grid_area": null,
      "grid_auto_columns": null,
      "grid_auto_flow": null,
      "grid_auto_rows": null,
      "grid_column": null,
      "grid_gap": null,
      "grid_row": null,
      "grid_template_areas": null,
      "grid_template_columns": null,
      "grid_template_rows": null,
      "height": null,
      "justify_content": null,
      "justify_items": null,
      "left": null,
      "margin": null,
      "max_height": null,
      "max_width": null,
      "min_height": null,
      "min_width": null,
      "object_fit": null,
      "object_position": null,
      "order": null,
      "overflow": null,
      "overflow_x": null,
      "overflow_y": null,
      "padding": null,
      "right": null,
      "top": null,
      "visibility": null,
      "width": null
     }
    },
    "b84711d90cfe4f889c662ad03eb14716": {
     "model_module": "@jupyter-widgets/controls",
     "model_module_version": "1.5.0",
     "model_name": "HBoxModel",
     "state": {
      "_dom_classes": [],
      "_model_module": "@jupyter-widgets/controls",
      "_model_module_version": "1.5.0",
      "_model_name": "HBoxModel",
      "_view_count": null,
      "_view_module": "@jupyter-widgets/controls",
      "_view_module_version": "1.5.0",
      "_view_name": "HBoxView",
      "box_style": "",
      "children": [
       "IPY_MODEL_a976238571174f8d9192a31ff3d5c3d5",
       "IPY_MODEL_88efcfea3974450c928c974f091744b3",
       "IPY_MODEL_d1542aa04b344713a1134fd0302ba162"
      ],
      "layout": "IPY_MODEL_b2692d83f09a486c9c3186ec73f64f1d"
     }
    },
    "bbf6d4148a6047c3843455648933c6c3": {
     "model_module": "@jupyter-widgets/controls",
     "model_module_version": "1.5.0",
     "model_name": "HTMLModel",
     "state": {
      "_dom_classes": [],
      "_model_module": "@jupyter-widgets/controls",
      "_model_module_version": "1.5.0",
      "_model_name": "HTMLModel",
      "_view_count": null,
      "_view_module": "@jupyter-widgets/controls",
      "_view_module_version": "1.5.0",
      "_view_name": "HTMLView",
      "description": "",
      "description_tooltip": null,
      "layout": "IPY_MODEL_cf242fad209e41938ebdd7665a8aa2da",
      "placeholder": "​",
      "style": "IPY_MODEL_d801e0df47184335bdfedf763e694d17",
      "value": "Downloading (…)solve/main/vocab.txt: 100%"
     }
    },
    "ce5fa2e065544e4eaf1d789fa0f09de4": {
     "model_module": "@jupyter-widgets/base",
     "model_module_version": "1.2.0",
     "model_name": "LayoutModel",
     "state": {
      "_model_module": "@jupyter-widgets/base",
      "_model_module_version": "1.2.0",
      "_model_name": "LayoutModel",
      "_view_count": null,
      "_view_module": "@jupyter-widgets/base",
      "_view_module_version": "1.2.0",
      "_view_name": "LayoutView",
      "align_content": null,
      "align_items": null,
      "align_self": null,
      "border": null,
      "bottom": null,
      "display": null,
      "flex": null,
      "flex_flow": null,
      "grid_area": null,
      "grid_auto_columns": null,
      "grid_auto_flow": null,
      "grid_auto_rows": null,
      "grid_column": null,
      "grid_gap": null,
      "grid_row": null,
      "grid_template_areas": null,
      "grid_template_columns": null,
      "grid_template_rows": null,
      "height": null,
      "justify_content": null,
      "justify_items": null,
      "left": null,
      "margin": null,
      "max_height": null,
      "max_width": null,
      "min_height": null,
      "min_width": null,
      "object_fit": null,
      "object_position": null,
      "order": null,
      "overflow": null,
      "overflow_x": null,
      "overflow_y": null,
      "padding": null,
      "right": null,
      "top": null,
      "visibility": null,
      "width": null
     }
    },
    "cf024c1e21af49bf85bac3f215ce2bec": {
     "model_module": "@jupyter-widgets/controls",
     "model_module_version": "1.5.0",
     "model_name": "DescriptionStyleModel",
     "state": {
      "_model_module": "@jupyter-widgets/controls",
      "_model_module_version": "1.5.0",
      "_model_name": "DescriptionStyleModel",
      "_view_count": null,
      "_view_module": "@jupyter-widgets/base",
      "_view_module_version": "1.2.0",
      "_view_name": "StyleView",
      "description_width": ""
     }
    },
    "cf242fad209e41938ebdd7665a8aa2da": {
     "model_module": "@jupyter-widgets/base",
     "model_module_version": "1.2.0",
     "model_name": "LayoutModel",
     "state": {
      "_model_module": "@jupyter-widgets/base",
      "_model_module_version": "1.2.0",
      "_model_name": "LayoutModel",
      "_view_count": null,
      "_view_module": "@jupyter-widgets/base",
      "_view_module_version": "1.2.0",
      "_view_name": "LayoutView",
      "align_content": null,
      "align_items": null,
      "align_self": null,
      "border": null,
      "bottom": null,
      "display": null,
      "flex": null,
      "flex_flow": null,
      "grid_area": null,
      "grid_auto_columns": null,
      "grid_auto_flow": null,
      "grid_auto_rows": null,
      "grid_column": null,
      "grid_gap": null,
      "grid_row": null,
      "grid_template_areas": null,
      "grid_template_columns": null,
      "grid_template_rows": null,
      "height": null,
      "justify_content": null,
      "justify_items": null,
      "left": null,
      "margin": null,
      "max_height": null,
      "max_width": null,
      "min_height": null,
      "min_width": null,
      "object_fit": null,
      "object_position": null,
      "order": null,
      "overflow": null,
      "overflow_x": null,
      "overflow_y": null,
      "padding": null,
      "right": null,
      "top": null,
      "visibility": null,
      "width": null
     }
    },
    "d1542aa04b344713a1134fd0302ba162": {
     "model_module": "@jupyter-widgets/controls",
     "model_module_version": "1.5.0",
     "model_name": "HTMLModel",
     "state": {
      "_dom_classes": [],
      "_model_module": "@jupyter-widgets/controls",
      "_model_module_version": "1.5.0",
      "_model_name": "HTMLModel",
      "_view_count": null,
      "_view_module": "@jupyter-widgets/controls",
      "_view_module_version": "1.5.0",
      "_view_name": "HTMLView",
      "description": "",
      "description_tooltip": null,
      "layout": "IPY_MODEL_6dc757df6fc24eb6ab09ed6bc5363dc8",
      "placeholder": "​",
      "style": "IPY_MODEL_48bbcd8bdd4e4f22892233bb9c22499c",
      "value": " 570/570 [00:00&lt;00:00, 37.5kB/s]"
     }
    },
    "d801e0df47184335bdfedf763e694d17": {
     "model_module": "@jupyter-widgets/controls",
     "model_module_version": "1.5.0",
     "model_name": "DescriptionStyleModel",
     "state": {
      "_model_module": "@jupyter-widgets/controls",
      "_model_module_version": "1.5.0",
      "_model_name": "DescriptionStyleModel",
      "_view_count": null,
      "_view_module": "@jupyter-widgets/base",
      "_view_module_version": "1.2.0",
      "_view_name": "StyleView",
      "description_width": ""
     }
    },
    "e0ce6cd8bb094835acfe968f0984ae60": {
     "model_module": "@jupyter-widgets/base",
     "model_module_version": "1.2.0",
     "model_name": "LayoutModel",
     "state": {
      "_model_module": "@jupyter-widgets/base",
      "_model_module_version": "1.2.0",
      "_model_name": "LayoutModel",
      "_view_count": null,
      "_view_module": "@jupyter-widgets/base",
      "_view_module_version": "1.2.0",
      "_view_name": "LayoutView",
      "align_content": null,
      "align_items": null,
      "align_self": null,
      "border": null,
      "bottom": null,
      "display": null,
      "flex": null,
      "flex_flow": null,
      "grid_area": null,
      "grid_auto_columns": null,
      "grid_auto_flow": null,
      "grid_auto_rows": null,
      "grid_column": null,
      "grid_gap": null,
      "grid_row": null,
      "grid_template_areas": null,
      "grid_template_columns": null,
      "grid_template_rows": null,
      "height": null,
      "justify_content": null,
      "justify_items": null,
      "left": null,
      "margin": null,
      "max_height": null,
      "max_width": null,
      "min_height": null,
      "min_width": null,
      "object_fit": null,
      "object_position": null,
      "order": null,
      "overflow": null,
      "overflow_x": null,
      "overflow_y": null,
      "padding": null,
      "right": null,
      "top": null,
      "visibility": null,
      "width": null
     }
    },
    "e2bdcc18437647eb82c9df4e2795e9cd": {
     "model_module": "@jupyter-widgets/controls",
     "model_module_version": "1.5.0",
     "model_name": "DescriptionStyleModel",
     "state": {
      "_model_module": "@jupyter-widgets/controls",
      "_model_module_version": "1.5.0",
      "_model_name": "DescriptionStyleModel",
      "_view_count": null,
      "_view_module": "@jupyter-widgets/base",
      "_view_module_version": "1.2.0",
      "_view_name": "StyleView",
      "description_width": ""
     }
    },
    "e45af4b8cb9f4c9991f18a8828a7015a": {
     "model_module": "@jupyter-widgets/base",
     "model_module_version": "1.2.0",
     "model_name": "LayoutModel",
     "state": {
      "_model_module": "@jupyter-widgets/base",
      "_model_module_version": "1.2.0",
      "_model_name": "LayoutModel",
      "_view_count": null,
      "_view_module": "@jupyter-widgets/base",
      "_view_module_version": "1.2.0",
      "_view_name": "LayoutView",
      "align_content": null,
      "align_items": null,
      "align_self": null,
      "border": null,
      "bottom": null,
      "display": null,
      "flex": null,
      "flex_flow": null,
      "grid_area": null,
      "grid_auto_columns": null,
      "grid_auto_flow": null,
      "grid_auto_rows": null,
      "grid_column": null,
      "grid_gap": null,
      "grid_row": null,
      "grid_template_areas": null,
      "grid_template_columns": null,
      "grid_template_rows": null,
      "height": null,
      "justify_content": null,
      "justify_items": null,
      "left": null,
      "margin": null,
      "max_height": null,
      "max_width": null,
      "min_height": null,
      "min_width": null,
      "object_fit": null,
      "object_position": null,
      "order": null,
      "overflow": null,
      "overflow_x": null,
      "overflow_y": null,
      "padding": null,
      "right": null,
      "top": null,
      "visibility": null,
      "width": null
     }
    },
    "e5dd935d0fd74ae0981f665bdc46ec99": {
     "model_module": "@jupyter-widgets/controls",
     "model_module_version": "1.5.0",
     "model_name": "HTMLModel",
     "state": {
      "_dom_classes": [],
      "_model_module": "@jupyter-widgets/controls",
      "_model_module_version": "1.5.0",
      "_model_name": "HTMLModel",
      "_view_count": null,
      "_view_module": "@jupyter-widgets/controls",
      "_view_module_version": "1.5.0",
      "_view_name": "HTMLView",
      "description": "",
      "description_tooltip": null,
      "layout": "IPY_MODEL_0bb8614697824a8580229d406e3f4bd5",
      "placeholder": "​",
      "style": "IPY_MODEL_e2bdcc18437647eb82c9df4e2795e9cd",
      "value": " 232k/232k [00:00&lt;00:00, 465kB/s]"
     }
    },
    "f7e6d2cac5424ab1b2b060715cd36a07": {
     "model_module": "@jupyter-widgets/controls",
     "model_module_version": "1.5.0",
     "model_name": "HBoxModel",
     "state": {
      "_dom_classes": [],
      "_model_module": "@jupyter-widgets/controls",
      "_model_module_version": "1.5.0",
      "_model_name": "HBoxModel",
      "_view_count": null,
      "_view_module": "@jupyter-widgets/controls",
      "_view_module_version": "1.5.0",
      "_view_name": "HBoxView",
      "box_style": "",
      "children": [
       "IPY_MODEL_3a4d463189de4c2199170550c9fcb720",
       "IPY_MODEL_0d6e9828ec294966a09cc9878a0a2969",
       "IPY_MODEL_871cf9dc73a44dffa439696c5b5091e3"
      ],
      "layout": "IPY_MODEL_e45af4b8cb9f4c9991f18a8828a7015a"
     }
    },
    "fca86cc61473462eaedaabf3fe3de8e8": {
     "model_module": "@jupyter-widgets/base",
     "model_module_version": "1.2.0",
     "model_name": "LayoutModel",
     "state": {
      "_model_module": "@jupyter-widgets/base",
      "_model_module_version": "1.2.0",
      "_model_name": "LayoutModel",
      "_view_count": null,
      "_view_module": "@jupyter-widgets/base",
      "_view_module_version": "1.2.0",
      "_view_name": "LayoutView",
      "align_content": null,
      "align_items": null,
      "align_self": null,
      "border": null,
      "bottom": null,
      "display": null,
      "flex": null,
      "flex_flow": null,
      "grid_area": null,
      "grid_auto_columns": null,
      "grid_auto_flow": null,
      "grid_auto_rows": null,
      "grid_column": null,
      "grid_gap": null,
      "grid_row": null,
      "grid_template_areas": null,
      "grid_template_columns": null,
      "grid_template_rows": null,
      "height": null,
      "justify_content": null,
      "justify_items": null,
      "left": null,
      "margin": null,
      "max_height": null,
      "max_width": null,
      "min_height": null,
      "min_width": null,
      "object_fit": null,
      "object_position": null,
      "order": null,
      "overflow": null,
      "overflow_x": null,
      "overflow_y": null,
      "padding": null,
      "right": null,
      "top": null,
      "visibility": null,
      "width": null
     }
    },
    "ffd62e74ed4a42068989fdb81bcbeaa4": {
     "model_module": "@jupyter-widgets/controls",
     "model_module_version": "1.5.0",
     "model_name": "FloatProgressModel",
     "state": {
      "_dom_classes": [],
      "_model_module": "@jupyter-widgets/controls",
      "_model_module_version": "1.5.0",
      "_model_name": "FloatProgressModel",
      "_view_count": null,
      "_view_module": "@jupyter-widgets/controls",
      "_view_module_version": "1.5.0",
      "_view_name": "ProgressView",
      "bar_style": "success",
      "description": "",
      "description_tooltip": null,
      "layout": "IPY_MODEL_a2897cf3cb854c33b457160eefd86cc7",
      "max": 231508,
      "min": 0,
      "orientation": "horizontal",
      "style": "IPY_MODEL_66bdaf101c87445db8a031b92014de63",
      "value": 231508
     }
    }
   }
  }
 },
 "nbformat": 4,
 "nbformat_minor": 1
}
